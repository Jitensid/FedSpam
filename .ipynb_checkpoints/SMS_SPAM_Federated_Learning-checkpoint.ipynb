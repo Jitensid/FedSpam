{
 "cells": [
  {
   "cell_type": "markdown",
   "metadata": {
    "id": "DbIw3Mb1C2ys"
   },
   "source": [
    "### Environmental Setup"
   ]
  },
  {
   "cell_type": "code",
   "execution_count": 1,
   "metadata": {
    "id": "LloCUDB9-JhS"
   },
   "outputs": [],
   "source": [
    "# #@test {\"skip\": true}\n",
    "\n",
    "# # tensorflow_federated_nightly also bring in tf_nightly, which\n",
    "# # can causes a duplicate tensorboard install, leading to errors.\n",
    "# !pip uninstall --yes tensorboard tb-nightly\n",
    "\n",
    "# !pip install --quiet --upgrade tensorflow-federated-nightly\n",
    "# !pip install --quiet --upgrade nest-asyncio\n",
    "# !pip install --quiet --upgrade tb-nightly  # or tensorboard, but not both\n",
    "\n",
    "# import nest_asyncio\n",
    "# nest_asyncio.apply()"
   ]
  },
  {
   "cell_type": "code",
   "execution_count": 2,
   "metadata": {
    "id": "riOS4UspjDoL"
   },
   "outputs": [],
   "source": [
    "#@test {\"skip\": true}\n",
    "# !pip install --quiet --upgrade tensorflow-federated-nightly\n",
    "# !pip install --quiet --upgrade nest-asyncio\n",
    "\n"
   ]
  },
  {
   "cell_type": "code",
   "execution_count": 4,
   "metadata": {
    "colab": {
     "base_uri": "https://localhost:8080/"
    },
    "id": "32Gm4OI59Grl",
    "outputId": "a0d5a746-d2f8-4688-e79c-2e31a8d41483"
   },
   "outputs": [
    {
     "name": "stdout",
     "output_type": "stream",
     "text": [
      "2.7.0\n"
     ]
    }
   ],
   "source": [
    "import nest_asyncio\n",
    "nest_asyncio.apply()\n",
    "\n",
    "import collections\n",
    "import numpy as np\n",
    "import tensorflow as tf\n",
    "\n",
    "print(tf.__version__)"
   ]
  },
  {
   "cell_type": "code",
   "execution_count": 5,
   "metadata": {
    "id": "6i67-UDY-BXO"
   },
   "outputs": [],
   "source": [
    "np.random.seed(0)"
   ]
  },
  {
   "cell_type": "markdown",
   "metadata": {
    "id": "oih3-Sfe-BcC"
   },
   "source": [
    "### Load the Dataset"
   ]
  },
  {
   "cell_type": "code",
   "execution_count": 8,
   "metadata": {
    "colab": {
     "base_uri": "https://localhost:8080/",
     "height": 206
    },
    "id": "CnVKXBKLDppB",
    "outputId": "9cca5930-7703-42d9-f17b-77ad77795b11"
   },
   "outputs": [
    {
     "data": {
      "text/html": [
       "<div>\n",
       "<style scoped>\n",
       "    .dataframe tbody tr th:only-of-type {\n",
       "        vertical-align: middle;\n",
       "    }\n",
       "\n",
       "    .dataframe tbody tr th {\n",
       "        vertical-align: top;\n",
       "    }\n",
       "\n",
       "    .dataframe thead th {\n",
       "        text-align: right;\n",
       "    }\n",
       "</style>\n",
       "<table border=\"1\" class=\"dataframe\">\n",
       "  <thead>\n",
       "    <tr style=\"text-align: right;\">\n",
       "      <th></th>\n",
       "      <th>Message</th>\n",
       "      <th>Spam</th>\n",
       "    </tr>\n",
       "  </thead>\n",
       "  <tbody>\n",
       "    <tr>\n",
       "      <th>0</th>\n",
       "      <td>Your credits have been topped up for http://ww...</td>\n",
       "      <td>1</td>\n",
       "    </tr>\n",
       "    <tr>\n",
       "      <th>1</th>\n",
       "      <td>You will be receiving this week's Triple Echo ...</td>\n",
       "      <td>1</td>\n",
       "    </tr>\n",
       "    <tr>\n",
       "      <th>2</th>\n",
       "      <td>Well I'm going to be an aunty!</td>\n",
       "      <td>0</td>\n",
       "    </tr>\n",
       "    <tr>\n",
       "      <th>3</th>\n",
       "      <td>U have a secret admirer who is looking 2 make ...</td>\n",
       "      <td>1</td>\n",
       "    </tr>\n",
       "    <tr>\n",
       "      <th>4</th>\n",
       "      <td>Hello. We need some posh birds and chaps to us...</td>\n",
       "      <td>1</td>\n",
       "    </tr>\n",
       "  </tbody>\n",
       "</table>\n",
       "</div>"
      ],
      "text/plain": [
       "                                             Message  Spam\n",
       "0  Your credits have been topped up for http://ww...     1\n",
       "1  You will be receiving this week's Triple Echo ...     1\n",
       "2                     Well I'm going to be an aunty!     0\n",
       "3  U have a secret admirer who is looking 2 make ...     1\n",
       "4  Hello. We need some posh birds and chaps to us...     1"
      ]
     },
     "execution_count": 8,
     "metadata": {},
     "output_type": "execute_result"
    }
   ],
   "source": [
    "import pandas as pd\n",
    "\n",
    "british_corpus_df = pd.read_csv(\"C:/Users/jiten/Desktop/Major Project/Data/British Corpus Dataset/british_corpus.csv\")\n",
    "british_corpus_df = british_corpus_df.sample(frac=1).reset_index(drop=True)\n",
    "\n",
    "british_corpus_df.head()"
   ]
  },
  {
   "cell_type": "code",
   "execution_count": 9,
   "metadata": {
    "colab": {
     "base_uri": "https://localhost:8080/"
    },
    "id": "RahWj96JK3Hz",
    "outputId": "70cca816-b40f-46ca-8cc0-0cb1a9d51243"
   },
   "outputs": [
    {
     "name": "stdout",
     "output_type": "stream",
     "text": [
      "No of Records ==> 875\n"
     ]
    }
   ],
   "source": [
    "print(f'No of Records ==> {len(british_corpus_df)}')"
   ]
  },
  {
   "cell_type": "code",
   "execution_count": 10,
   "metadata": {
    "id": "Eps9QE1USYBi"
   },
   "outputs": [],
   "source": [
    "def convert_df_to_dict(dataset, target_feature):\n",
    "    features_dataset_df = dataset.copy().drop(target_feature, axis = 1)\n",
    "\n",
    "    features_dataset_dict = {name: np.array(value) \n",
    "                         for name, value in features_dataset_df.items()}\n",
    "\n",
    "    labels_dataset_df =  dataset[[target_feature]]\n",
    "\n",
    "    labels_dataset_dict = {name: np.array(value) \n",
    "                         for name, value in labels_dataset_df.items()}\n",
    "\n",
    "    return (features_dataset_dict, labels_dataset_dict)"
   ]
  },
  {
   "cell_type": "code",
   "execution_count": 11,
   "metadata": {
    "id": "wm5qYl6mTNT_"
   },
   "outputs": [],
   "source": [
    "british_corpus_features_dict, british_corpus_labels_dict = convert_df_to_dict(british_corpus_df, 'Spam')"
   ]
  },
  {
   "cell_type": "code",
   "execution_count": 12,
   "metadata": {
    "colab": {
     "base_uri": "https://localhost:8080/"
    },
    "id": "0XT369GVD62V",
    "outputId": "ae7a7579-0153-433e-f9d7-90f53b76cd75"
   },
   "outputs": [
    {
     "data": {
      "text/plain": [
       "{'Message': array(['Your credits have been topped up for http://www.bubbletext.com Your renewal Pin is tgxxrz',\n",
       "        \"You will be receiving this week's Triple Echo ringtone shortly. Enjoy it!\",\n",
       "        \"Well I'm going to be an aunty!\",\n",
       "        'U have a secret admirer who is looking 2 make contact with U-find out who they R*reveal who thinks UR so special-call on 09058094565',\n",
       "        'Hello. We need some posh birds and chaps to user trial prods for champneys. Can i put you down? I need your address and dob asap. Ta r',\n",
       "        'Hiya, probably coming home * weekend after next',\n",
       "        'Thanks. It was only from tescos but quite nice. All gone now. Speak soon ',\n",
       "        'Oh and by the way you do have more food in your fridge! Want to go out for a meal tonight? ',\n",
       "        'Free Top ringtone -sub to weekly ringtone-get 1st week free-send SUBPOLY to 81618-?3 per week-stop sms-08718727870',\n",
       "        'Hello. Sort of out in town already. That . So dont rush home, I am eating nachos. Will let you know eta.',\n",
       "        'Everybody had fun this evening. Miss you.',\n",
       "        \"There generally isn't one. It's an uncountable noun - u in the dictionary. pieces of research?\",\n",
       "        'No, but you told me you were going, before you got drunk!',\n",
       "        'Hey there! Glad u r better now. I hear u treated urself to a digi cam, is it good? We r off at 9pm. Have a fab new year, c u in coupla wks!',\n",
       "        'That‘s the thing with apes, u can fight to the death to keep something, but the minute they have it when u let go, thats it!',\n",
       "        'Good Luck! Draw takes place 28th Feb 06. Good Luck! For removal send STOP to 87239 customer services 08708034412',\n",
       "        'Monthly password for wap. mobsi.com is 391784. Use your wap phone not PC.',\n",
       "        'Sure thing big man. i have hockey elections at 6, shouldn‘t go on longer than an hour though',\n",
       "        'Urgent! Please call 09061743811 from landline. Your ABTA complimentary 4* Tenerife Holiday or £5000 cash await collection SAE T&Cs Box 326 CW25WX 150ppm',\n",
       "        'Do you want a NEW video phone750 anytime any network mins 150 text for only five pounds per week call 08000776320 now or reply for delivery tomorrow',\n",
       "        'PRIVATE! Your 2003 Account Statement for shows 800 un-redeemed S.I.M. points. Call 08718738001 Identifier Code: 49557 Expires 26/11/04',\n",
       "        'meet you in corporation st outside gap … you can see how my mind is working!',\n",
       "        'U have a secret admirer who is looking 2 make contact with U-find out who they R*reveal who thinks UR so special-call on 09058094594',\n",
       "        'I think your mentor is , but not 100 percent sure.',\n",
       "        'Sorry completely forgot * will pop em round this week if your still here?',\n",
       "        'Yeah whatever lol', 'Miss ya, need ya, want ya, love ya.',\n",
       "        'This weeks SavaMob member offers are now accessible. Just call 08709501522 for details! SavaMob, POBOX 139, LA3 2WU. Only £1.50/week. SavaMob - offers mobile!',\n",
       "        'HIYA STU WOT U UP 2.IM IN SO MUCH TRUBLE AT HOME AT MOMENT EVONE HATES ME EVEN U! WOT THE HELL AV I DONE NOW? Y WONT U JUST TELL ME TEXT BCK PLEASE LUV DAN ',\n",
       "        'You have won a guaranteed 32000 award or maybe even £1000 cash to claim ur award call free on 0800 ..... (18+). Its a legitimat efreefone number wat do u think???',\n",
       "        'Not a lot has happened here. Feels very quiet. Beth is at her aunts and charlie is working lots. Just me and helen in at the mo. How have you been? ',\n",
       "        'Reply with your name and address and YOU WILL RECEIVE BY POST a weeks completely free accommodation at various global locations www.phb1.com ph:08700435505150p',\n",
       "        'Sorry * was at the grocers.',\n",
       "        \"Don't b floppy... b snappy & happy! Only gay chat service with photo upload call 08718730666 (10p/min). 2 stop our texts call 08712460324\",\n",
       "        'By the way, make sure u get train to worc foregate street not shrub hill. Have fun night x',\n",
       "        'U 447801259231 have a secret admirer who is looking 2 make contact with U-find out who they R*reveal who thinks UR so special-call on 09058094597',\n",
       "        'YOUR CHANCE TO BE ON A REALITY FANTASY SHOW call now = 08707509020 Just 20p per min NTT Ltd, PO Box 1327 Croydon CR9 5WB 0870 is a national = rate call.',\n",
       "        'Bored housewives! Chat n date now! 0871750.77.11! BT-national rate 10p/min only from landlines!',\n",
       "        'todays vodafone numbers ending with 0089(my last four digits) are selected to received a £350 award. If your number matches please call 09063442151 to claim your £350 award',\n",
       "        'Hello hun how ru? Its here by the way. Im good. Been on 2 dates with that guy i met in walkabout so far. We have to meet up soon. Hows everyone else?',\n",
       "        'Er yep sure. Props?',\n",
       "        'FREE camera phones with linerental from 4.49/month with 750 cross ntwk mins. 1/2 price txt bundle deals also avble. Call 08001950382 or call2optout/J MF',\n",
       "        'Tee hee. Off to lecture, cheery bye bye.',\n",
       "        '88800 and 89034 are premium phone services call 08718711108',\n",
       "        'It‘s reassuring, in this crazy world.',\n",
       "        \"Realy sorry-i don't recognise this number and am now confused :) who r u please?! \",\n",
       "        'Sex up ur mobile with a FREE sexy pic of Jordan! Just text BABE to 88600. Then every wk get a sexy celeb! PocketBabe.co.uk 4 more pics. 16 £3/wk 087016248',\n",
       "        \"I thought i'd get him a watch, just cos thats the kind of thing u get4an18th. And he loves so much!\",\n",
       "        'SMSSERVICES. for yourinclusive text credits, pls goto www.comuk.net login= 3qxj9 unsubscribe with STOP, no extra charge. help 08702840625.COMUK. 220-CM2 9AE',\n",
       "        ':-( sad puppy noise',\n",
       "        'Hey mate. Spoke to the mag people. We‘re on.  the is deliver by the end of the month. Deliver on the 24th sept. Talk later. ',\n",
       "        'Hey gorgeous man. My work mobile number is. Have a good one babe. Squishy Mwahs.',\n",
       "        'whatever, im pretty pissed off.',\n",
       "        'Thanks 4 your continued support Your question this week will enter u in2 our draw 4 £100 cash. Name the NEW US President? txt ans to 80082',\n",
       "        'PRIVATE! Your 2003 Account Statement for shows 800 un-redeemed S. I. M. points. Call 08719899230 Identifier Code: 41685 Expires 07/11/04',\n",
       "        \"Free entry in 2 a weekly comp for a chance to win an ipod. Txt POD to 80182 to get entry (std txt rate) T&C's apply 08452810073 for details 18+\",\n",
       "        \"2p per min to call Germany 08448350055 from your BT line. Just 2p per min. Check PlanetTalkInstant.com for info & T's & C's. Text stop to opt out\",\n",
       "        'U have a Secret Admirer who is looking 2 make contact with U-find out who they R*reveal who thinks UR so special-call on 09065171142-stopsms-08718727870150ppm',\n",
       "        'URGENT! Your Mobile No 07808726822 was awarded a £2,000 Bonus Caller Prize on 02/09/03! This is our 2nd attempt to contact YOU! Call 0871-872-9758 BOX95QU',\n",
       "        'Ringtone Club: Gr8 new polys direct to your mobile every week !',\n",
       "        'Gosh that , what a pain. Spose I better come then.',\n",
       "        'TheMob>Hit the link to get a premium Pink Panther game, the new no. 1 from Sugababes, a crazy Zebra animation or a badass Hoody wallpaper-all 4 FREE!',\n",
       "        'Am new 2 club & dont fink we met yet Will B gr8 2 C U Please leave msg 2day wiv ur area 09099726553 reply promised CARLIE x Calls£1/minMobsmore LKPOBOX177HP51FL',\n",
       "        \"By the way, 'rencontre' is to meet again. Mountains dont....\",\n",
       "        'Hey Boys. Want hot XXX pics sent direct 2 ur phone? Txt PORN to 69855, 24Hrs free and then just 50p per day. To stop text STOPBCM SF WC1N3XX',\n",
       "        'You can stop further club tones by replying \"STOP MIX\" See my-tone.com/enjoy. html for terms. Club tones cost GBP4.50/week. MFL, PO Box 1146 MK45 2WT (2/3)',\n",
       "        '5 Free Top Polyphonic Tones call 087018728737, National Rate. Get a toppoly tune sent every week, just text SUBPOLY to 81618, £3 per pole. UnSub 08718727870.',\n",
       "        'You have been specially selected to receive a 2000 pound award! Call 08712402050 BEFORE the lines close. Cost 10ppm. 16+. T&Cs apply. AG Promo',\n",
       "        'Camera - You are awarded a SiPix Digital Camera! call 09061221066 fromm landline. Delivery within 28 days.',\n",
       "        'yay! finally lol. i missed our cinema trip last week :-(',\n",
       "        'This weekend is fine (an excuse not to do too much decorating)',\n",
       "        'All sounds good. Fingers . Makes it difficult to type',\n",
       "        'Moby Pub Quiz.Win a £100 High Street prize if u know who the new Duchess of Cornwall will be? Txt her first name to 82277.unsub STOP £1.50 008704050406 SP Arrow',\n",
       "        'Kinda. First one gets in at twelve! Aah. Speak tomo',\n",
       "        'No * am working on the ringing u thing but have whole houseful of screaming brats so * am pulling my hair out! Loving u',\n",
       "        'I‘ll have a look at the frying pan in case it‘s cheap or a book perhaps. No that‘s silly a frying pan isn‘t likely to be a book',\n",
       "        'Thanks. Fills me with complete calm and reassurance! ',\n",
       "        'Pity, * was in mood for that. So...any other suggestions?',\n",
       "        \":-) yeah! Lol. Luckily i didn't have a starring role like you!\",\n",
       "        'from www.Applausestore.com MonthlySubscription@50p/msg max6/month T&CsC web age16 2stop txt stop',\n",
       "        'Marvel Mobile Play the official Ultimate Spider-man game (£4.50) on ur mobile right now. Text SPIDER to 83338 for the game & we ll send u a FREE 8Ball wallpaper',\n",
       "        'Hi, wkend ok but journey terrible. Wk not good as have huge back log of marking to do',\n",
       "        'Yes obviously, but you are the eggs-pert and the potato head… Speak soon! ',\n",
       "        'Congratulations ur awarded 500 of CD vouchers or 125gift guaranteed & Free entry 2 100 wkly draw txt MUSIC to 87066 TnCs www.Ldew.com1win150ppmx3age16',\n",
       "        \"Not yet. Just i'd like to keep in touch and it will be the easiest way to do that from barcelona. By the way how ru and how is the house?\",\n",
       "        \"Hi hope u r both ok, he said he would text and he hasn't, have u seen him, let me down gently please \",\n",
       "        'Well. You know what i mean. Texting',\n",
       "        \"Okey doke. I'm at home, but not dressed cos laying around ill! Speak to you later bout times and stuff. \",\n",
       "        'Thank you, winner notified by sms. Good Luck! No future marketing reply STOP to 84122 customer services 08450542832',\n",
       "        'Maybe?! Say hi to  and find out if  got his card. Great escape or wetherspoons? ',\n",
       "        'Can you do a mag meeting this avo at some point?',\n",
       "        \"What is this 'hex' place you talk of? Explain!\",\n",
       "        'U have a secret admirer who is looking 2 make contact with U-find out who they R*reveal who thinks UR so special-call on 09058094599',\n",
       "        'hanks lotsly!', 'Okay, good, no problem, and thanx!',\n",
       "        'Hi my email address has changed now it is ',\n",
       "        'Can not use foreign stamps in this country.',\n",
       "        'Ok. Not much to do here though. H&M Friday, cant wait. Dunno wot the hell im gonna do for another 3 weeks! Become a slob- oh wait, already done that! ',\n",
       "        'Greetings me, ! Consider yourself excused.',\n",
       "        'Hi did u decide wot 2 get 4 his bday if not ill prob jus get him a voucher frm virgin or sumfing ',\n",
       "        'Mobile Club: Choose any of the top quality items for your mobile. 7cfca1a',\n",
       "        'Can you use foreign stamps for whatever you send them off for? ',\n",
       "        'Can U get 2 phone NOW? I wanna chat 2 set up meet Call me NOW on 09096102316 U can cum here 2moro Luv JANE xx Calls£1/minmoremobsEMSPOBox45PO139WA',\n",
       "        'The whole car appreciated the last two! Dad and are having a map reading semi argument but apart from that things are going ok. P.',\n",
       "        'Hi its in durban are you still on this number',\n",
       "        'have * good weekend.', \"* Thought I didn't see you.\",\n",
       "        'Welcome to UK-mobile-date this msg is FREE giving you free calling to 08719839835. Future mgs billed at 150p daily. To cancel send \"go stop\" to 89123',\n",
       "        \"Hello beautiful r u ok? I've kinda ad a row wiv and he walked out the pub?? I wanted a night wiv u Miss u \",\n",
       "        'Hm good morning, headache anyone? :-)', '2/2 146tf150p',\n",
       "        '**FREE MESSAGE**Thanks for using the Auction Subscription Service. 18 . 150p/MSGRCVD 2 Skip an Auction txt OUT. 2 Unsubscribe txt STOP CustomerCare 08718726270',\n",
       "        'Erm. I thought the contract ran out the4th of october.',\n",
       "        'FREE GAME. Get Rayman Golf 4 FREE from the O2 Games Arcade. 1st get UR games settings. Reply POST, then save & activ8. Press 0 key for Arcade. Termsapply',\n",
       "        'Married local women looking for discreet action now! 5 real matches instantly to your phone. Text MATCH to 69969 Msg cost 150p 2 stop txt stop BCMSFWC1N3XX',\n",
       "        \"For ur chance to win a £250 wkly shopping spree TXT: SHOP to 80878. T's&C's www.txt-2-shop.com custcare 08715705022, 1x150p/wk\",\n",
       "        'I have 2 sleeping bags, 1 blanket and paper and  phone details. Anything else?',\n",
       "        \"Want 2 get laid tonight? Want real Dogging locations sent direct 2 ur Mob? Join the UK's largest Dogging Network by txting MOAN to 69888Nyt. ec2a. 31p.msg@150p\",\n",
       "        'Promotion Number: 8714714 - UR awarded a City Break and could WIN a £200 Summer Shopping spree every WK. Txt STORE to 88039 . SkilGme. TsCs087147403231Winawk!Age16 £1.50perWKsub',\n",
       "        'How come it takes so little time for a child who is afraid of the dark to become a teenager who wants to stay out all night?',\n",
       "        'Jolly good! By the way,  will give u tickets for sat eve 7.30. Speak before then x',\n",
       "        'You are now unsubscribed all services. Get tons of sexy babes or hunks straight to your phone! go to http://gotbabes.co.uk. No subscriptions.',\n",
       "        'Well done ENGLAND! Get the official poly ringtone or colour flag on yer mobile! text TONE or FLAG to 84199 NOW! Opt-out txt ENG STOP. Box39822 W111WX £1.50',\n",
       "        \"it's really getting me down just hanging around.\",\n",
       "        'Free entry to the gr8prizes wkly comp 4 a chance to win the latest Nokia 8800, PSP or £250 cash every wk.TXT GREAT to 80878 http//www.gr8prizes.com 08715705022',\n",
       "        'Thanks for your ringtone order, ref number R836. Your mobile will be charged £4.50. Should your tone not arrive please call customer services on 09065069154',\n",
       "        'We made it! Eta at taunton is 12:30 as planned, hope that‘s still okday?! Good to see you! :-xx',\n",
       "        '85233 FREE>Ringtone!Reply REAL',\n",
       "        \"The wine is flowing and i'm i have nevering..\",\n",
       "        'Bought one ringtone and now getting texts costing 3 pound offering more tones etc',\n",
       "        'It wont b until 2.15 as trying 2 sort house out, is that ok?',\n",
       "        'As a valued customer, I am pleased to advise you that following recent review of your Mob No. you are awarded with a £1500 Bonus Prize, call 09066364589',\n",
       "        'The current leading bid is 151. To pause this auction send OUT. Customer Care: 08718726270',\n",
       "        'Hi babe its Jordan, how r u? Im home from abroad and lonely, text me back if u wanna chat xxSP visionsms.com Text stop to stopCost 150p 08712400603',\n",
       "        'Summers finally here! Fancy a chat or flirt with sexy singles in yr area? To get MATCHED up just reply SUMMER now. Free 2 Join. OptOut txt STOP Help08714742804',\n",
       "        'Not thought bout it... || Drink in tap & spile at seven. || Is that pub on gas st off broad st by canal. || Ok?',\n",
       "        \"My friend, she's studying at warwick, we've planned to go shopping and to concert tmw, but it may be canceled, havn't seen  for ages, yeah we should get together sometime!\",\n",
       "        'Well I might not come then...',\n",
       "        'Dare i ask... Any luck with sorting out the car?',\n",
       "        'You are a winner U have been specially selected 2 receive £1000 cash or a 4* holiday (flights inc) speak to a live operator 2 claim 0871277810810',\n",
       "        'From next month get upto 50% More Calls 4 Ur standard network charge 2 activate Call 9061100010 C Wire3.net 1st4Terms PoBox84 M26 3UZ Cost £1.50 min MobcudB more',\n",
       "        'http//tms. widelive.com/index. wml?id=820554ad0a1705572711&first=true¡C C Ringtone¡',\n",
       "        'URGENT! Your Mobile number has been awarded with a £2000 prize GUARANTEED. Call 09061790121 from land line. Claim 3030. Valid 12hrs only 150ppm',\n",
       "        \" gonna let me know cos comes bak from holiday that day.  is coming. Don't4get2text me  number. \",\n",
       "        'Perhaps * is much easy give your account identification, so i will tomorrow at UNI',\n",
       "        \"You've won tkts to the EURO2004 CUP FINAL or £800 CASH, to collect CALL 09058099801 b4190604, POBOX 7876150ppm\",\n",
       "        'URGENT! Your Mobile number has been awarded with a £2000 prize GUARANTEED. Call 09058094454 from land line. Claim 3030. Valid 12hrs only',\n",
       "        'Thanks for your subscription to Ringtone UK your mobile will be charged £5/month Please confirm by replying YES or NO. If you reply NO you will not be charged',\n",
       "        'Claim a 200 shopping spree, just call 08717895698 now! Have you won! MobStoreQuiz10ppm',\n",
       "        'I have lost 10 kilos as of today!',\n",
       "        'Hope you enjoyed your new content. text stop to 61610 to unsubscribe. help:08712400602450p Provided by tones2you.co.uk',\n",
       "        \"Aah bless! How's your arm?\",\n",
       "        'FREE MESSAGE Activate your 500 FREE Text Messages by replying to this message with the word FREE For terms & conditions, visit www.07781482378.com',\n",
       "        \"I don't know u and u don't know me. Send CHAT to 86688 now and let's find each other! Only 150p/Msg rcvd. HG/Suite342/2Lands/Row/W1J6HL LDN. 18 years or over.\",\n",
       "        'Filthy stories and GIRLS waiting for your',\n",
       "        'YES! The only place in town to meet exciting adult singles is now in the UK. Txt CHAT to 86688 now! 150p/Msg.',\n",
       "        '0A$NETWORKS allow companies to bill for SMS, so they are responsible for their \"suppliers\", just as a shop has to give a guarantee on what they sell. B. G.',\n",
       "        'Hey chief, can you give me a bell when you get this. Need to talk to you about this royal visit on the 1st june. ',\n",
       "        \"GSOH? Good with SPAM the ladies?U could b a male gigolo? 2 join the uk's fastest growing mens club reply ONCALL. mjzgroup. 08714342399.2stop reply STOP. msg@£1.50rcvd\",\n",
       "        'Now thats going to ruin your thesis!',\n",
       "        'Reply to win £100 weekly! What professional sport does Tiger Woods play? Send STOP to 87239 to end service',\n",
       "        'FreeMsg: Fancy a flirt? Reply DATE now & join the UKs fastest growing mobile dating service. Msgs rcvd just 25p to optout txt stop to 83021. Reply DATE now!',\n",
       "        \"I wonder if you'll get this text?\",\n",
       "        'Allo! We have braved the buses and taken on the trains and triumphed. I mean we‘re in b‘ham. Have a jolly good rest of week',\n",
       "        '500 New Mobiles from 2004, MUST GO! Txt: NOKIA to No: 89545 & collect yours today!From ONLY £1 www.4-tc.biz 2optout 087187262701.50gbp/mtmsg18 TXTAUCTION',\n",
       "        'GENT! We are trying to contact you. Last weekends draw shows that you won a £1000 prize GUARANTEED. Call 09064012160. Claim Code K52. Valid 12hrs only. 150ppm',\n",
       "        'You have 1 new voicemail. Please call 08719181503',\n",
       "        'Well, I was about to give up cos they all said no they didn‘t do one nighters. I persevered and found one but it is very cheap so i apologise in advance. It is just somewhere to sleep isnt it?',\n",
       "        \"Aah! A cuddle would be lush! I'd need lots of tea and soup before any kind of fumbling!\",\n",
       "        'Thanks for your ringtone order, reference number X49.Your mobile will be charged 4.50. Should your tone not arrive please call customer services 09065989182',\n",
       "        'Is that on the telly? No its Brdget Jones!',\n",
       "        'All done? All handed in? Celebrations in full swing yet?',\n",
       "        'R u in this continent?',\n",
       "        'Hey! Congrats 2u2. id luv 2 but ive had 2 go home!',\n",
       "        'You have WON a guaranteed £1000 cash or a £2000 prize. To claim yr prize call our customer service representative on 08714712412 between 10am-7pm Cost 10p',\n",
       "        'U are subscribed to the best Mobile Content Service in the UK for £3 per 10 days until you send STOP to 82324. Helpline 08706091795',\n",
       "        'You are guaranteed the latest Nokia Phone, a 40GB iPod MP3 player or a £500 prize! Txt word: COLLECT to No: 83355! IBHltd LdnW15H 150p/Mtmsgrcvd18',\n",
       "        'Your B4U voucher w/c 27/03 is MARSMS. Log onto www.B4Utele.com for discount credit. To opt out reply stop. Customer care call 08717168528',\n",
       "        'Bognor it is! Should be splendid at this time of year.',\n",
       "        'Ah you see. You have to be in the lingo. I will let you know wot on earth it is when has finished making it!',\n",
       "        'would u fuckin believe it they didnt know i had thurs pre booked off so they re cancelled me AGAIN! that needs to b sacked',\n",
       "        'Money i have won wining number 946 wot do i do next',\n",
       "        \"FREE NOKIA Or Motorola with upto 12mths 1/2price linerental, 500 FREE x-net mins&100txt/mth FREE B'tooth*. Call Mobileupd8 on 08001950382 or call 2optout/D3WV\",\n",
       "        'Show ur colours! Euro 2004 2-4-1 Offer! Get an England Flag & 3Lions tone on ur phone! Click on the following service message for info!',\n",
       "        'Er yeah, i will b there at 15:26, sorry! Just tell me which pub/cafe to sit in and come wen u can',\n",
       "        'U have won a nokia 6230 plus a free digital camera. This is what u get when u win our FREE auction. To take part send NOKIA to 83383 now. POBOX114/14TCR/W1 16',\n",
       "        \"Pansy! You've been living in a jungle for two years! Its my driving you should be more worried about!\",\n",
       "        'Great News! Call FREEFONE 08006344447 to claim your guaranteed £1000 CASH or £2000 gift. Speak to a live operator NOW!',\n",
       "        'Panasonic & BluetoothHdset FREE. Nokia FREE. Motorola FREE & DoubleMins & DoubleTxt on Orange contract. Call MobileUpd8 on 08000839402 or call 2optout',\n",
       "        \"I'm gonna say no. Sorry. I would but as normal am starting to panic about time. Sorry again! Are you seeing on Tuesday?\",\n",
       "        '<Forwarded from 21870000>Hi - this is your Mailbox Messaging SMS alert. You have 4 messages. You have 21 matches. Please call back on 09056242159 to retrieve your messages and matches',\n",
       "        'did u get that message', \"Annoying isn't it.\",\n",
       "        'Shit that is really shocking and scary, cant imagine for a second. Def up for night out. Do u think there is somewhere i could crash for night, save on taxi?',\n",
       "        'Ringtone Club: Get the UK singles chart on your mobile each week and choose any top quality ringtone! This message is free of charge.',\n",
       "        'I am back. Good journey! Let me know if you need any of the receipts. Shall i tell you like the pendent?',\n",
       "        'sexy sexy cum and text me im wet and warm and ready for some porn! u up for some fun? THIS MSG IS FREE RECD MSGS 150P INC VAT 2 CANCEL TEXT STOP',\n",
       "        'URGENT! Your Mobile No was awarded a £2,000 Bonus Caller Prize on 1/08/03! This is our 2nd attempt to contact YOU! Call 0871-4719-523 BOX95QU BT National Rate',\n",
       "        \"that would be good … I'll phone you tomo lunchtime, shall I, to organise something?\",\n",
       "        'Nationwide auto centre (or something like that) on Newport road. I liked them there',\n",
       "        'Had your mobile 10 mths? Update to the latest Camera/Video phones for FREE. KEEP UR SAME NUMBER, Get extra free mins/texts. Text YES for a call',\n",
       "        'happened here while you were adventuring',\n",
       "        'Hi this is Amy, we will be sending you a free phone number in a couple of days, which will give you an access to all the adult parties...',\n",
       "        'Hi. Customer Loyalty Offer:The NEW Nokia6650 Mobile from ONLY £10 at TXTAUCTION! Txt word: START to No: 81151 & get yours Now! 4T&Ctxt TC 150p/MTmsg',\n",
       "        'This msg is for your mobile content order It has been resent as previous attempt failed due to network error Queries to customersqueries@netvision.uk.com',\n",
       "        'I take it the post has come then! You must have 1000s of texts now! Happy reading. My one from wiv hello caroline at the end is my favourite. Bless him',\n",
       "        \"URGENT! Last weekend's draw shows that you have won £1000 cash or a Spanish holiday! CALL NOW 09050000332 to claim. T&C: RSTM, SW7 3SS. 150ppm\",\n",
       "        'Dear Voucher Holder, To claim this weeks offer, at you PC please go to http://www.e-tlp.co.uk/reward. Ts&Cs apply.',\n",
       "        'Double Mins & Double Txt & 1/2 price Linerental on Latest Orange Bluetooth mobiles. Call MobileUpd8 for the very latest offers. 08000839402 or call2optout/LF56',\n",
       "        'complimentary 4 STAR Ibiza Holiday or £10,000 cash needs your URGENT collection. 09066364349 NOW from Landline not to lose out! Box434SK38WP150PPM18+',\n",
       "        'goldviking (29/M) is inviting you to be his friend. Reply YES-762 or NO-762 See him: www.SMS.ac/u/goldviking STOP? Send STOP FRND to 62468',\n",
       "        'What is the plural of the noun research?',\n",
       "        'Are you driving or training?',\n",
       "        'FREEMSG: Our records indicate you may be entitled to 3750 pounds for the Accident you had. To claim for free reply with YES to this msg. To opt out text STOP',\n",
       "        'Check Out Choose Your Babe Videos @ sms.shsex.netUN fgkslpoPW fgkslpo',\n",
       "        'Bill, as in: Are there any letters for me. i’m expecting one from orange that isn’t a bill but may still say orange on it.',\n",
       "        'Hi. Hope ur day * good! Back from walk, table booked for half eight. Let me know when ur coming over.',\n",
       "        'Customer service annoncement. You have a New Years delivery waiting for you. Please call 07046744435 now to arrange delivery',\n",
       "        'There are some nice pubs near here or there is Frankie n Bennys near the warner cinema?',\n",
       "        'Serious? What like proper tongued her',\n",
       "        'WOW! The Boys R Back. TAKE THAT 2007 UK Tour. Win VIP Tickets & pre-book with VIP Club. Txt CLUB to 81303. Trackmarque Ltd info@vipclub4u.',\n",
       "        \"Hello, yeah i've just got out of the bath and need to do my hair so i'll come up when i'm done, yeah?\",\n",
       "        \"Sorry to be a pain. Is it ok if we meet another night? I spent late afternoon in casualty and that means i haven't done any of y stuff42moro and that includes all my time sheets and that. Sorry. \",\n",
       "        'Hi. Wk been ok - on hols now! Yes on for a bit of a run. Forgot that i have hairdressers appointment at four so need to get home n shower beforehand. Does that cause prob for u?\"',\n",
       "        'Hello! Good week? Fancy a drink or something later?',\n",
       "        ' what number do u live at? Is it 11?',\n",
       "        'Urgent UR awarded a complimentary trip to EuroDisinc Trav, Aco&Entry41 Or £1000. To claim txt DIS to 87121 18+6*£1.50(moreFrmMob. ShrAcomOrSglSuplt)10, LS1 3AJ',\n",
       "        \"Hope ur head doesn't hurt 2 much ! Am ploughing my way through a pile of ironing ! Staying in with a chinky tonight come round if you like.\",\n",
       "        'You have 1 new voicemail. Please call 08719181513.',\n",
       "        'Double Mins & 1000 txts on Orange tariffs. Latest Motorola, SonyEricsson & Nokia with Bluetooth FREE! Call MobileUpd8 on 08000839402 or call2optout/HF8',\n",
       "        'Auction round 4. The highest bid is now £54. Next maximum bid is £71. To bid, send BIDS e. g. 10 (to bid £10) to 83383. Good luck.',\n",
       "        'Customer service announcement. We recently tried to make a delivery to you but were unable to do so, please call 07099833605 to re-schedule. Ref:9280114',\n",
       "        'Are we doing the norm tomorrow? I finish just a 4.15 cos of st tests. Need to sort library stuff out at some point tomo - got letter from today - access til end march so i better get move on!',\n",
       "        'Thanks for your Ringtone Order, Reference T91. You will be charged GBP 4 per week. You can unsubscribe at anytime by calling customer services on 09057039994',\n",
       "        'Que pases un buen tiempo or something like that',\n",
       "        'Urgent Please call 09066612661 from landline. £5000 cash or a luxury 4* Canary Islands Holiday await collection. T&Cs SAE award. 20M12AQ. 150ppm. 16+ “',\n",
       "        'SMS. ac sun0819 posts HELLO:\"You seem cool, wanted to say hi. HI!!!\" Stop? Send STOP to 62468',\n",
       "        'RECPT 1/3. You have ordered a Ringtone. Your order is being processed...',\n",
       "        'Does cinema plus drink appeal tomo? * Is a fr thriller by director i like on at mac at 8.30.',\n",
       "        'What do U want for Xmas? How about 100 free text messages & a new video phone with half price line rental? Call free now on 0800 0721072 to find out more!',\n",
       "        'BangBabes Ur order is on the way. U SHOULD receive a Service Msg 2 download UR content. If U do not, GoTo wap. bangb. tv on UR mobile internet/service menu',\n",
       "        \"Thanks honey but still haven't heard anything I will leave it a bit longer so not 2 crowd him and will try later - great advice thanks hope cardiff is still there!\",\n",
       "        '* You gonna ring this weekend or wot?',\n",
       "        'Have a good trip. Watch out for . Remember when you get back we must decide about easter.',\n",
       "        'Erm... Woodland avenue somewhere. Do you get the parish magazine, his telephone number will be in there.',\n",
       "        'TheMob>Yo yo yo-Here comes a new selection of hot downloads for our members to get for FREE! Just click & open the next link sent to ur fone...',\n",
       "        \"FreeMsg Today's the day if you are ready! I'm horny & live in your town. I love sex fun & games! Netcollex Ltd 08700621170150p per msg reply Stop to end\",\n",
       "        'SMS SERVICES. for your inclusive text credits, pls goto www.comuk.net login= 3qxj9 unsubscribe with STOP, no extra charge. help 08702840625.COMUK. 220-CM2 9AE',\n",
       "        \"Thought praps you meant another one. Goodo! I'll look tomorrow \",\n",
       "        'Did he say how fantastic I am by any chance, or anything need a bigger life lift as losing the will 2 live, do you think I would be the first person 2 die from N V Q? ',\n",
       "        'Hottest pics straight to your phone!! See me getting Wet and Wanting, just for you xx Text PICS to 89555 now! txt costs 150p textoperator g696ga 18 XxX',\n",
       "        'Sunshine Quiz! Win a super Sony DVD recorder if you canname the capital of Australia? Text MQUIZ to 82277. B',\n",
       "        'Do you want a New Nokia 3510i colour phone DeliveredTomorrow? With 300 free minutes to any mobile + 100 free texts + Free Camcorder reply or call 08000930705.',\n",
       "        'Your daily text from me – a favour this time',\n",
       "        \"Yeah he got in at 2 and was v apologetic. n had fallen out and she was actin like spoilt child and he got caught up in that. Till 2! But we won't go there! Not doing too badly cheers. You? \",\n",
       "        'Urgent! Please call 09061213237 from landline. £5000 cash or a luxury 4* Canary Islands Holiday await collection. T&Cs SAE PO Box 177. M227XY. 150ppm. 16+',\n",
       "        'Okay. No no, just shining on. That was meant to be signing, but that sounds better.',\n",
       "        'It certainly puts things into perspective when something like this happens',\n",
       "        'How about getting in touch with folks waiting for company? Just txt back your NAME and AGE to opt in! Enjoy the community (150p/SMS)',\n",
       "        'U were outbid by simonwatson5120 on the Shinco DVD Plyr. 2 bid again, visit sms. ac/smsrewards 2 end bid notifications, reply END OUT',\n",
       "        'ASKED 3MOBILE IF 0870 CHATLINES INCLU IN FREE MINS. INDIA CUST SERVs SED YES. L8ER GOT MEGA BILL. 3 DONT GIV A SHIT. BAILIFF DUE IN DAYS. I O £250 3 WANT £800',\n",
       "        'You are being ripped off! Get your mobile content from www.clubmoby.com call 08717509990 poly/true/Pix/Ringtones/Games six downloads for only 3',\n",
       "        'Hello. They are going to the village pub at 8 so either come here or there accordingly. Ok?',\n",
       "        'Santa Calling! Would your little ones like a call from Santa Xmas eve? Call 09058094583 to book your time.',\n",
       "        'Oi when you gonna ring',\n",
       "        'Free tones Hope you enjoyed your new content. text stop to 61610 to unsubscribe. help:08712400602450p Provided by tones2you.co.uk',\n",
       "        'Just hopeing that wasn‘t too pissed up to remember and has gone off to his sisters or something!',\n",
       "        'Goal! Arsenal 4 (Henry, 7 v Liverpool 2 Henry scores with a simple shot from 6 yards from a pass by Bergkamp to give Arsenal a 2 goal margin after 78 mins.',\n",
       "        \"It's justbeen overa week since we broke up and already our brains are going to mush!\",\n",
       "        'Bbq this sat at mine from 6ish. Ur welcome 2 come',\n",
       "        'thesmszone.com lets you send free anonymous and masked messages..im sending this message from there..do you see the potential for abuse???',\n",
       "        'Kind of. Took it to garage. Centre part of exhaust needs replacing. Part ordered n taking it to be fixed tomo morning.',\n",
       "        'A lot of this sickness thing going round. Take it easy. Hope u feel better soon. Lol',\n",
       "        'Your bill at 3 is £33.65 so thats not bad!',\n",
       "        'PRIVATE! Your 2003 Account Statement for shows 800 un-redeemed S. I. M. points. Call 08715203652 Identifier Code: 42810 Expires 29/10/0',\n",
       "        'He said that he had a right giggle when he saw u again! You would possibly be the first person2die from NVQ, but think how much you could for! ',\n",
       "        'Ur ringtone service has changed! 25 Free credits! Go to club4mobiles.com to choose content now! Stop? txt CLUB STOP to 87070. 150p/wk Club4 PO Box1146 MK45 2WT',\n",
       "        'Hello.How u doing?What u been up 2?When will u b moving out of the flat, cos I will need to arrange to pick up the lamp, etc. Take care. Hello caroline!',\n",
       "        'Looks like u wil b getting a headstart im leaving here bout 2.30ish but if u r desperate for my company I could head in earlier-we were goin to meet in rummer.',\n",
       "        'Dear Subscriber ur draw 4 £100 gift voucher will b entered on receipt of a correct ans. When was Elvis Presleys Birthday? TXT answer to 80062',\n",
       "        \"Hasn't that been the pattern recently crap weekends?\",\n",
       "        'Dorothy@kiefer.com (Bank of Granite issues Strong-Buy) EXPLOSIVE PICK FOR OUR MEMBERS *****UP OVER 300% *********** Nasdaq Symbol CDGT That is a $5.00 per..',\n",
       "        'Text & meet someone sexy today. U can find a date or even flirt its up to U. Join 4 just 10p. REPLY with NAME & AGE eg Sam 25. 18 -msg recd@thirtyeight pence',\n",
       "        ' and  picking them up from various points',\n",
       "        \"All was well until slightly disastrous class this pm with my fav darlings! Hope day off ok. Coffee wld be good as can't stay late tomorrow. Same time + place as always?\",\n",
       "        'Not tonight mate. Catching up on some sleep. This is my new number by the way. ',\n",
       "        'what I meant to say is cant wait to see u again getting bored of this bridgwater banter',\n",
       "        \"FreeMsg Hey there darling it's been 3 week's now and no word back! I'd like some fun you up for it still? Tb ok! XxX std chgs to send, £1.50 to rcv\",\n",
       "        'I am hot n horny and willing I live local to you - text a reply to hear strt back from me 150p per msg Netcollex LtdHelpDesk: 02085076972 reply Stop to end',\n",
       "        'Thanks for the Vote. Now sing along with the stars with Karaoke on your mobile. For a FREE link just reply with SING now.',\n",
       "        'Buy Space Invaders 4 a chance 2 win orig Arcade Game console. Press 0 for Games Arcade (std WAP charge) See o2.co.uk/games 4 Terms + settings. No purchase',\n",
       "        'Cant think of anyone with * spare room off * top of my head',\n",
       "        'And you! Will expect you whenever you text! Hope all goes well tomo ',\n",
       "        'sorry, no, have got few things to do. may be in pub later.',\n",
       "        \"Orange customer, you may now claim your FREE CAMERA PHONE upgrade for your loyalty. Call now on 0207 153 9996. Offer ends 14thMarch. T&C's apply. Opt-out availa\",\n",
       "        'Oops. 4 got that bit.',\n",
       "        'Ha. You don‘t know either. I did a a clever but simple thing with pears the other day, perfect for christmas.',\n",
       "        'PRIVATE! Your 2003 Account Statement for shows 800 un-redeemed S. I. M. points. Call 08718738002 Identifier Code: 48922 Expires 21/11/04',\n",
       "        'Free msg: Single? Find a partner in your area! 1000s of real people are waiting to chat now!Send CHAT to 62220Cncl send STOPCS 08717890890£1.50 per msg',\n",
       "        'Camera quite good, 10.1mega pixels, 3optical and 5digital dooms. Have a lovely holiday, be safe and i hope you hav a good journey! Happy new year to you both! See you in a couple of weeks! ',\n",
       "        'Get 3 Lions England tone, reply lionm 4 mono or lionp 4 poly. 4 more go 2 www.ringtones.co.uk, the original n best. Tones 3GBP network operator rates apply.',\n",
       "        '<Forwarded from 21870000>Hi - this is your Mailbox Messaging SMS alert. You have 40 matches. Please call back on 09056242159 to retrieve your messages and matches cc100p/min',\n",
       "        'Had your contract mobile 11 Mnths? Latest Motorola, Nokia etc. all FREE! Double Mins & Text on Orange tariffs. TEXT YES for callback, no to remove from records.',\n",
       "        'Er, hello, things didn‘t quite go to plan – is limping slowly home followed by aa and with exhaust hanging off',\n",
       "        'URGENT! You have won a 1 week FREE membership in our £100,000 Prize Jackpot! Txt the word: CLAIM to No: 81010 T&C www.dbuk.net LCCLTD POBOX 4403LDNW1A7RW18',\n",
       "        'Congrats! 1 year special cinema pass for 2 is yours. call 09061209465 now! C Suprman V, Matrix3, StarWars3, etc all 4 FREE! bx420-ip4-5we. 150pm. Dont miss out!',\n",
       "        'ringtoneking 84484',\n",
       "        'Men like shorter ladies. Gaze up into his eyes.',\n",
       "        'Dear Voucher Holder, To claim this weeks offer, at you PC please go to http://www.e-tlp.co.uk/expressoffer Ts&Cs apply. To stop texts, txt STOP to 80062',\n",
       "        'January Male Sale! Hot Gay chat now cheaper, call 08709222922. National rate from 1.5p/min cheap to 7.8p/min peak! To stop texts call 08712460324 (10p/min)',\n",
       "        'No! But we found a diff farm shop to buy some cheese. On way back now, can i call in?',\n",
       "        'Dont flatter yourself... Tell that man of mine two pints of carlin in ten minutes please.... ',\n",
       "        \"Not really dude, have no friends i'm afraid :(\",\n",
       "        'Dear Voucher Holder, 2 claim this weeks offer, at your PC go to http://www.e-tlp.co.uk/expressoffer Ts&Cs apply.2 stop texts txt STOP to 80062.',\n",
       "        'Ur cash-balance is currently 500 pounds - to maximize ur cash-in now send GO to 86688 only 150p/msg. CC 08718720201 HG/Suite342/2Lands Row/W1J6HL',\n",
       "        'Want a new Video Phone? 750 anytime any network mins? Half price line rental free text for 3 months? Reply or call 08000930705 for free delivery',\n",
       "        'PRIVATE! Your 2003 Account Statement for 07808 XXXXXX shows 800 un-redeemed S. I. M. points. Call 08719899217 Identifier Code: 41685 Expires 07/11/04',\n",
       "        'FREE>Ringtone! Reply REAL or POLY eg REAL1 1. PushButton 2. DontCha 3. BabyGoodbye 4. GoldDigger 5. WeBeBurnin 1st tone FREE and 6 more when u join for £3/wk',\n",
       "        \"Don't worry, * is easy once have ingredients!\",\n",
       "        \"Glad it went well :) come over at 11 then we'll have plenty of time before claire goes to work.\",\n",
       "        \"I don't quite know what to do. I still can't get hold of anyone. I cud pick you up bout 7.30pm and we can see if they're in the pub?\",\n",
       "        'Hello. Damn this christmas thing. I think i have decided to keep this mp3 that doesnt work.',\n",
       "        'Ah, well that confuses things, doesn‘t it?',\n",
       "        'Urgent! call 09066350750 from your landline. Your complimentary 4* Ibiza Holiday or 10,000 cash await collection SAE T&Cs PO BOX 434 SK3 8WP 150 ppm 18+',\n",
       "        'Reckon need to be in town by eightish to walk from * carpark.',\n",
       "        'Not getting anywhere with this damn job hunting over here!',\n",
       "        \"Hmm ok, i'll stay for like an hour cos my eye is really sore!\",\n",
       "        'Ok not a problem will get them a taxi. C ing  tomorrow and tuesday. On tuesday think we r all going to the cinema. ',\n",
       "        '3 FREE TAROT TEXTS! Find out about your love life now! TRY 3 FOR FREE! Text CHANCE to 85555 16 only! After 3 Free, Msgs £1.50 each',\n",
       "        'Dear Voucher Holder 2 claim your 1st class airport lounge passes when using Your holiday voucher call 08704439680. When booking quote 1st class x 2',\n",
       "        'They can try! They can get lost, in fact. Tee hee',\n",
       "        \"Refused a loan? Secured or Unsecured? Can't get credit? Call free now 0800 195 6669 or text back 'help' & we will!\",\n",
       "        'Last chance 2 claim ur £150 worth of discount vouchers-Text YES to 85023 now!SavaMob-member offers mobile T Cs 08717898035. £3.00 Sub. 16 . Remove txt X or STOP',\n",
       "        'Just got part Nottingham - 3 hrs 63miles. Good thing i love my man so much, but only doing 40mph. Hey ho',\n",
       "        'And maybe some pressies',\n",
       "        'Okey dokey, i‘ll be over in a bit just sorting some stuff out.',\n",
       "        'Yes i will be there. Glad you made it.',\n",
       "        'Hey cutie. How goes it? Here in WALES its kinda ok. There is like hills and shit but i still avent killed myself. ',\n",
       "        'Someone U know has asked our dating service 2 contact you! Cant Guess who? CALL 09058091854 NOW all will be revealed. PO BOX385 M6 6WU',\n",
       "        ':) ', 'You all ready for * big day tomorrow?',\n",
       "        'tddnewsletter@emc1.co.uk (More games from TheDailyDraw) Dear Helen, Dozens of Free Games - with great prizesWith..',\n",
       "        'XXXMobileMovieClub: To use your credit, click the WAP link in the next txt message or click here>> http://wap. xxxmobilemovieclub.com?n=QJKGIGHJJGCBL',\n",
       "        \"Dont give a monkeys wot they think and i certainly don't mind. Any friend of mine&all that! Just don't sleep wiv , that wud be annoyin!\",\n",
       "        'Yes, my reg is  Ciao!',\n",
       "        'PRIVATE! Your 2003 Account Statement for 078',\n",
       "        '* Will have two more cartons off u and is very pleased with shelves',\n",
       "        'For your chance to WIN a FREE Bluetooth Headset then simply reply back with \"ADP\"',\n",
       "        'Its normally hot mail. Com you see!',\n",
       "        'Whats that coming over the hill..... Is it a monster! Hope you have a great day. Things r going fine here, busy though! ',\n",
       "        'I like cheap! But i‘m happy to splash out on the wine if it makes you feel better..',\n",
       "        'I‘ve got some salt, you can rub it in my open wounds if you like!',\n",
       "        'HOT LIVE FANTASIES call now 08707509020 Just 20p per min NTT Ltd, PO Box 1327 Croydon CR9 5WB 0870 is a national rate call',\n",
       "        \"Free entry in 2 a wkly comp to win FA Cup final tkts 21st May 2005. Text FA to 87121 to receive entry question(std txt rate)T&C's apply 08452810075over18's\",\n",
       "        \"Wrong phone! This phone! I answer this one but assume the other is people i don't well\",\n",
       "        'You have 1 new message. Please call 08712400200.',\n",
       "        '4 oclock at mine. Just to bash out a flat plan.',\n",
       "        \"Dear U've been invited to XCHAT. This is our final attempt to contact u! Txt CHAT to 86688 150p/MsgrcvdHG/Suite342/2Lands/Row/W1J6HL LDN 18 yrs\",\n",
       "        'here is my new address -apples&pairs&all that malarky',\n",
       "        'Email AlertFrom: Jeri StewartSize: 2KBSubject: Low-cost prescripiton drvgsTo listen to email call 123',\n",
       "        \"Want 2 get laid tonight? Want real Dogging locations sent direct 2 ur mob? Join the UK's largest Dogging Network bt Txting GRAVEL to 69888! Nt. ec2a. 31p.msg@150p\",\n",
       "        'Should I have picked up a receipt or something earlier',\n",
       "        'Ur cash-balance is currently 500 pounds - to maximize ur cash-in now send COLLECT to 83600 only 150p/msg. CC: 08718720201 PO BOX 114/14 TCR/W1',\n",
       "        'You have 1 new message. Please call 08718738034.',\n",
       "        'Our dating service has been asked 2 contact U by someone shy! CALL 09058091870 NOW all will be revealed. POBox84, M26 3UZ 150p',\n",
       "        'Do you want 750 anytime any network mins 150 text and a NEW video phone for only five pounds per week call 08000776320 now or reply for delivery Tomorrow',\n",
       "        'YOU ARE CHOSEN TO RECEIVE A £350 AWARD! Pls call claim number 09066364311 to collect your award which you are selected to receive as a valued mobile customer.',\n",
       "        \"I like to think there's always the possibility of being in a pub later.\",\n",
       "        'Free msg. Sorry, a service you ordered from 81303 could not be delivered as you do not have sufficient credit. Please top up to receive the service.',\n",
       "        'We are at grandmas. Oh dear, u still ill? I felt Shit this morning but i think i am just hungover! Another night then. We leave on sat.',\n",
       "        \"Get a FREE mobile video player FREE movie. To collect text GO to 89105. Its free! Extra films can be ordered t's and c's apply. 18 yrs only\",\n",
       "        'I think just yourself …Thanks and see you tomo', 'say thanks2. ',\n",
       "        'tap & spile at seven. * Is that pub on gas st off broad st by canal. Ok?',\n",
       "        'Sorry. || mail? || ',\n",
       "        'URGENT! We are trying to contact U. Todays draw shows that you have won a £800 prize GUARANTEED. Call 09050001808 from land line. Claim M95. Valid12hrs only',\n",
       "        \"I'll text now! All creepy like so he won't think that we forgot\",\n",
       "        'u r subscribed 2 TEXTCOMP 250 wkly comp. 1st wk?s free question follows, subsequent wks charged@150p/msg.2 unsubscribe txt STOP 2 84128,custcare 08712405020',\n",
       "        'You have an important customer service announcement. Call FREEPHONE 0800 542 0825 now!',\n",
       "        'Oh yes I can speak txt 2 u no! Hmm. Did u get  email?',\n",
       "        'U can WIN £100 of Music Gift Vouchers every week starting NOW Txt the word DRAW to 87066 TsCs www.Idew.com SkillGame, 1Winaweek, age16. 150ppermessSubscription',\n",
       "        \"FREE2DAY sexy St George's Day pic of Jordan!Txt PIC to 89080 dont miss out, then every wk a saucy celeb!4 more pics c PocketBabe.co.uk 0870241182716 £3/wk\",\n",
       "        \"LookAtMe!: Thanks for your purchase of a video clip from LookAtMe!, you've been charged 35p. Think you can do better? Why not send a video in a MMSto 32323.\",\n",
       "        'Tone Club: Your subs has now expired 2 re-sub reply MONOC 4 monos or POLYC 4 polys 1 weekly @ 150p per week Txt STOP 2 stop This msg free Stream 0871212025016',\n",
       "        \"Come round, it's . \",\n",
       "        'FREE for 1st week! No1 Nokia tone 4 ur mob every week just txt NOKIA to 87077 Get txting and tell ur mates. zed POBox 36504 W45WQ norm150p/tone 16+',\n",
       "        \"1000's of girls many local 2 u who r virgins 2 this & r ready 2 4fil ur every sexual need. Can u 4fil theirs? text CUTE to 69911(£1.50p. m)\",\n",
       "        'PRIVATE! Your 2004 Account Statement for 078498****7 shows 786 unredeemed Bonus Points. To claim call 08719180219 Identifier Code: 45239 Expires 06.05.05',\n",
       "        \"Please call Amanda with regard to renewing or upgrading your current T-Mobile handset free of charge. Offer ends today. Tel 0845 021 3680 subject to T's and C's\",\n",
       "        'EASTENDERS TV Quiz. What FLOWER does DOT compare herself to? D= VIOLET E= TULIP F= LILY txt D E or F to 84025 NOW 4 chance 2 WIN £100 Cash WKENT/150P16+',\n",
       "        'Txt: CALL to No: 86888 & claim your reward of 3 hours talk time to use from your phone now! Subscribe6GBP/mnth inc 3hrs 16 stop?txtStop www.gamb.tv',\n",
       "        'PS U no ur a grown up now right?',\n",
       "        'Goodo! Yes we must speak friday - egg-potato ratio for tortilla needed! ',\n",
       "        'We are hoping to get away by 7, from Langport. You still up for town tonight?',\n",
       "        'FREE RING TONE just text \"POLYS\" to 87131. Then every week get a new tone. 0870737910216yrs only £1.50/wk.',\n",
       "        'For fear of fainting with the of all that housework you just did? Quick have a cuppa',\n",
       "        \"Can you let me know details of fri when u find out cos I'm not in tom or fri. mentionned chinese. Thanks\",\n",
       "        'Dont forget you can place as many FREE Requests with 1stchoice.co.uk as you wish. For more Information call 08707808226.',\n",
       "        'I got another job! The one at the hospital doing data analysis or something, starts on monday! Not sure when my thesis will got finished',\n",
       "        \"Evening * v good if somewhat event laden. Will fill you in, don't you worry … Head * ok but throat * wrecked. See you at six then!\",\n",
       "        'Well am officially in a philosophical hole, so if u wanna call am at home ready to be saved!',\n",
       "        'SMS. ac Blind Date 4U!: Rodds1 is 21/m from Aberdeen, United Kingdom. Check Him out http://img. sms. ac/W/icmb3cktz8r7!-4 no Blind Dates send HIDE',\n",
       "        'For taking part in our mobile survey yesterday! You can now have 500 texts 2 use however you wish. 2 get txts just send TXT to 80160 T&C www.txt43.com 1.50p',\n",
       "        \"Do you ever notice that when you're driving, anyone going slower than you is an idiot and everyone driving faster than you is a maniac?\",\n",
       "        'Free Msg: get Gnarls Barkleys \"Crazy\" ringtone TOTALLY FREE just reply GO to this message right now!',\n",
       "        \" said kiss, kiss, i can't do the sound effects! He is a gorgeous man isn't he! Kind of person who needs a smile to brighten his day! \",\n",
       "        'Hi 07734396839 IBH Customer Loyalty Offer: The NEW NOKIA6600 Mobile from ONLY £10 at TXTAUCTION!Txt word:START to No:81151 & get Yours Now!4T&',\n",
       "        'As a Registered Subscriber yr draw 4 a £100 gift voucher will b entered on receipt of a correct ans. When are the next olympics. Txt ans to 80062',\n",
       "        \"FreeMsg: Hey - I'm Buffy. 25 and love to satisfy men. Home alone feeling randy. Reply 2 C my PIX! QlynnBV Help08700621170150p a msg Send stop to stop txts\",\n",
       "        'We tried to contact you re your reply to our offer of a Video Phone 750 anytime any network mins Half Price Line Rental Camcorder Reply or call 08000930705',\n",
       "        '* Was really good to see you the other day dudette, been missing you!',\n",
       "        \"What are you doing in langport? Sorry, but I'll probably be in bed by 9pm. It sucks being ill at xmas! When do you and go2sri lanka? \",\n",
       "        'Want to funk up ur fone with a weekly new tone reply TONES2U 2 this text. www.ringtones.co.uk, the original n best. Tones 3GBP network operator rates apply',\n",
       "        \"Have you heard about that job? I'm going to that wildlife talk again tonight if u want2come. Its that2worzels and a wizzle or whatever it is?! \",\n",
       "        'URGENT! We are trying to contact U. Todays draw shows that you have won a £2000 prize GUARANTEED. Call 09058094507 from land line. Claim 3030. Valid 12hrs only',\n",
       "        'Hi. || Do u want | to join me with sts later? || Meeting them at five. || Call u after class.',\n",
       "        'PRIVATE! Your 2003 Account Statement for shows 800 un-redeemed S.I.M. points. Call 08715203685 Identifier Code:4xx26 Expires 13/10/04',\n",
       "        'No. Yes please. Been swimming?',\n",
       "        'SMS. ac JSco: Energy is high, but u may not know where 2channel it. 2day ur leadership skills r strong. Psychic? Reply ANS w/question. End? Reply END JSCO',\n",
       "        \"That's a shame! Maybe cld meet for few hrs tomo?\",\n",
       "        'Congrats! 2 mobile 3G Videophones R yours. call 09061744553 now! videochat wid ur mates, play java games, Dload polyH music, noline rentl. bx420. ip4. 5we. 150pm',\n",
       "        \"My sort code is  and acc no is . The bank is natwest. Can you reply to confirm i've sent this to the right person!\",\n",
       "        'Ever thought about living a good life with a perfect partner? Just txt back NAME and AGE to join the mobile community. (100p/SMS)',\n",
       "        '18 days to Euro2004 kickoff! U will be kept informed of all the latest news and results daily. Unsubscribe send GET EURO STOP to 83222.',\n",
       "        'Back in brum! Thanks for putting us up and keeping us all and happy. See you soon ',\n",
       "        '… and don‘t worry we‘ll have finished by march … ish!',\n",
       "        'Will do. Was exhausted on train this morning. Too much wine and pie. You sleep well too',\n",
       "        'HMV BONUS SPECIAL 500 pounds of genuine HMV vouchers to be won. Just answer 4 easy questions. Play Now! Send HMV to 86688 More info:www.100percent-real.com',\n",
       "        \"I've got it down to a tea. not sure which flavour\",\n",
       "        'Was the farm open?',\n",
       "        'We have new local dates in your area - Lots of new people registered in YOUR AREA. Reply DATE to start now! 18 only www.flirtparty.us REPLYS150',\n",
       "        'Shop till u Drop, IS IT YOU, either 10K, 5K, £500 Cash or £100 Travel voucher, Call now, 09064011000. NTT PO Box CR01327BT fixedline Cost 150ppm mobile vary',\n",
       "        \"I take it we didn't have the phone callon Friday. Can we assume we won't have it this year now?\",\n",
       "        \"What i mean was i left too early to check, cos i'm working a 9-6.\",\n",
       "        'Can not use foreign stamps in this country. Good lecture .',\n",
       "        'Mila, age23, blonde, new in UK. I look sex with UK guys. if u like fun with me. Text MTALK to 69866.18 . 30pp/txt 1st 5free. £1.50 increments. Help08718728876',\n",
       "        'What * u wearing?',\n",
       "        \"FreeMsg Why haven't you replied to my text? I'm Randy, sexy, female and live local. Luv to hear from u. Netcollex Ltd 08700621170150p per msg reply Stop to end\",\n",
       "        'Welcome to Select, an O2 service with added benefits. You can now call our specially trained advisors FREE from your mobile by dialling 402.',\n",
       "        'Early bird! Any purchases yet?',\n",
       "        \"Neither [in sterm voice] - i'm studying. All fine with me! Not sure the  thing will be resolved, tho. Anyway. Have a fab hols\",\n",
       "        'Have you heard from this week?',\n",
       "        \"Wow didn't think it was that common. I take it all back ur not a freak! Unless u chop it off:-)\",\n",
       "        'We took hooch for a walk toaday and i fell over! Splat! Grazed my knees and everything! Should have stayed at home! See you tomorrow! ',\n",
       "        'Well done, blimey, exercise, yeah, i kinda remember wot that is, hmm. ',\n",
       "        \"Twinks, bears, scallies, skins and jocks are calling now. Don't miss the weekend's fun. Call 08712466669 at 10p/min. 2 stop texts call 08712460324(nat rate)\",\n",
       "        'Sunshine Hols. To claim ur med holiday send a stamped self address envelope to Drinks on Us UK, PO Box 113, Bray, Wicklow, Eire. Quiz Starts Saturday! Unsub Stop',\n",
       "        'FreeMSG You have been awarded a FREE mini DIGITAL CAMERA, just reply SNAP to collect your prize! (quizclub Opt out? Stop 80122300p/wk SP:RWM Ph:08704050406)',\n",
       "        'Sunshine Quiz Wkly Q! Win a top Sony DVD player if u know which country the Algarve is in? Txt ansr to 82277. £1.50 SP:Tyrone',\n",
       "        \"see you then, we're all christmassy here!\",\n",
       "        'FreeMsg>FAV XMAS TONES!Reply REAL',\n",
       "        \"Its on in engalnd! But telly has decided it won't let me watch it and mia and elliot were kissing! Damn it!\",\n",
       "        'HOT LIVE FANTASIES call now 08707509020 Just 20p per min NTT Ltd, PO Box 1327 Croydon CR9 5WB 0870..k',\n",
       "        'Cool, we shall go and see, have to go to tip anyway. Are you at home, got something to drop in later? So lets go to town tonight! Maybe mum can take us in.',\n",
       "        \"Hi , where are you? We're at  and they're not keen to go out i kind of am but feel i shouldn't so can we go out tomo, don't mind do you?\",\n",
       "        'PRIVATE! Your 2003 Account Statement for 07808247860 shows 800 un-redeemed S. I. M. points. Call 08719899229 Identifier Code: 40411 Expires 06/11/04',\n",
       "        'Shall I bring us a bottle of wine to keep us amused? Only joking! I‘ll bring one anyway',\n",
       "        'Ok that would b lovely, if u r sure. Think about wot u want to do, drinkin, dancin, eatin, cinema, in, out, about... Up to u! Wot about ? ',\n",
       "        'Rightio. 11.48 it is then. Well arent we all up bright and early this morning.',\n",
       "        'Wow v v impressed. Have funs shopping!',\n",
       "        \"Yes but can we meet in town cos will go to gep and then home. You could text at bus stop. And don't worry we'll have finished by march … ish!\",\n",
       "        'Burger King - Wanna play footy at a top stadium? Get 2 Burger King before 1st Sept and go Large or Super with Coca-Cola and walk out a winner',\n",
       "        'am up to my eyes in philosophy',\n",
       "        'Please call our customer service representative on FREEPHONE 0808 145 4742 between 9am-11pm as you have WON a guaranteed £1000 cash or £5000 prize!',\n",
       "        'Win the newest “Harry Potter and the Order of the Phoenix (Book 5) reply HARRY, answer 5 questions - chance to be the first among readers!',\n",
       "        'Received, understood n acted upon!',\n",
       "        'U’ve Bin Awarded £50 to Play 4 Instant Cash. Call 08715203028 To Claim. EVERY 9th Player Wins Min £50-£500. OptOut 08718727870',\n",
       "        'Hello! How r u? Im bored. Inever thought id get bored with the tv but I am. Tell me something exciting has happened there? Anything! =/',\n",
       "        'New TEXTBUDDY Chat 2 horny guys in ur area 4 just 25p Free 2 receive Search postcode or at gaytextbuddy.com. TXT ONE name to 89693. 08715500022 rpl Stop 2 cnl',\n",
       "        'Hey , is * rite u put »10 evey mnth is that all?',\n",
       "        ' came to look at the flat, seems ok, in his 50s? * Is away alot wiv work. Got woman coming at 6.30 too.',\n",
       "        'Hmm well, night night ',\n",
       "        'dont make ne plans for nxt wknd coz she wants us to come down then ok',\n",
       "        'I had a good time too. Its nice to do something a bit different with my weekends for a change. See ya soon',\n",
       "        'u r a winner U ave been specially selected 2 receive £1000 cash or a 4* holiday (flights inc) speak to a live operator 2 claim 0871277810710p/min (18 )',\n",
       "        'Had your mobile 10 mths? Update to latest Orange camera/video phones for FREE. Save £s with Free texts/weekend calls. Text YES for a callback orno to opt out',\n",
       "        'Want explicit SEX in 30 secs? Ring 02073162414 now! Costs 20p/min Gsex POBOX 2667 WC1N 3XX',\n",
       "        'Done it but internet connection v slow and can‘t send it. Will try again later or first thing tomo.',\n",
       "        'Spoons it is then okay?',\n",
       "        'Hello- thanx for taking that call. I got a job! Starts on monday!',\n",
       "        'Ur TONEXS subscription has been renewed and you have been charged £4.50. You can choose 10 more polys this month. www.clubzed.co.uk *BILLING MSG*',\n",
       "        'cmon babe, make me horny, *turn* me on! Txt me your fantasy now babe -) Im hot, sticky and need you now. All replies cost £1.50. 2 cancel send STOP',\n",
       "        '… we r stayin here an extra week, back next wed. How did we do in the rugby this weekend? Hi to and and , c u soon \"',\n",
       "        \"How have your little darlings been so far this week? Need a coffee run tomo?Can't believe it's that time of week already …\",\n",
       "        'URGENT! Your Mobile number has been awarded with a £2000 Bonus Caller Prize. Call 09058095201 from land line. Valid 12hrs only',\n",
       "        \"That's the trouble with classes that go well - you're due a dodgey one … Expecting mine tomo! See you for recovery, same time, same place \",\n",
       "        'Good stuff, will do.', 'Well done and ! luv ya all ',\n",
       "        'Free video camera phones with Half Price line rental for 12 mths and 500 cross ntwk mins 100 txts. Call MobileUpd8 08001950382 or Call2OptOut/674&',\n",
       "        'Bears Pic Nick, and Tom, Pete and ... Dick. In fact, all types try gay chat with photo upload call 08718730666 (10p/min). 2 stop texts call 08712460324',\n",
       "        'Jamster! To get your free wallpaper text HEART to 88888 now! T&C apply. 16 only. Need Help? Call 08701213186.',\n",
       "        \"'RCT' THNQ Adrian for U text. Rgds Vatian\",\n",
       "        'FreeMsg Hi baby wow just got a new cam moby. Wanna C a hot pic? or Fancy a chat?Im w8in 4uTxt / rply CHAT to 82242 Hlp 08712317606 Msg150p 2rcv',\n",
       "        'Yes see ya not on the dot',\n",
       "        'Ok thats cool. Its , just off either raglan rd or edward rd. Behind the cricket ground. Gimme ring when ur closeby see you tuesday.',\n",
       "        'I have had two more letters from . I will copy them for you cos one has a message for you. Speak soon',\n",
       "        \"I'd like to tell you my deepest darkest fantasies. Call me 09094646631 just 60p/min. To stop texts call 08712460324 (nat rate)\",\n",
       "        'Yes fine ',\n",
       "        \"For ur chance to win a £250 cash every wk TXT: ACTION to 80608. T's&C's www.movietrivia.tv custcare 08712405022, 1x150p/wk.\",\n",
       "        'Thanks for your ringtone order, ref number K718. Your mobile will be charged £4.50. Should your tone not arrive please call customer services on 09065069120',\n",
       "        'Hiya, had a good day? Have you spoken to since the weekend?',\n",
       "        'Urgent! Please call 09061213237 from a landline. £5000 cash or a 4* holiday await collection. T &Cs SAE PO Box 177 M227XY. 16+',\n",
       "        'Easy mate, * guess the quick drink was bit ambitious.',\n",
       "        'Gr8 new service - live sex video chat on your mob - see the sexiest dirtiest girls live on ur phone - 4 details text horny to 89070 to cancel send STOP to 89070',\n",
       "        'URGENT!! Your 4* Costa Del Sol Holiday or £5000 await collection. Call 09050090044 Now toClaim. SAE, TC s, POBox334, Stockport, SK38xh, Cost£1.50/pm, Max10mins',\n",
       "        \"Ooh, 4got, i'm gonna start belly dancing in moseley weds 6.30 if u want 2 join me, they have a cafe too. \",\n",
       "        'Adult 18 Content Your video will be with you shortly',\n",
       "        'Oh unintentionally not bad timing. Great. Fingers  the trains play along! Will give fifteen min warning.',\n",
       "        \"I do know what u mean,  is the king of not havin credit! I'm goin2bed now. Night night sweet! Only1more sleep! \",\n",
       "        'dating:i have had two of these. Only started after i sent a text to talk sport radio last week. Any connection do you think or coincidence?',\n",
       "        'I to am looking forward to all the sex cuddling.. Only two more sleeps ',\n",
       "        'Here is your discount code RP176781. To stop further messages reply stop. www.regalportfolio.co.uk. Customer Services 08717205546',\n",
       "        \"Well I wasn't available as I washob nobbing with last night so they had to ask Nickey Platt instead of me!;\",\n",
       "        \"Yeah, that's fine! It's £6 to get in, is that ok? \",\n",
       "        'Get the official ENGLAND poly ringtone or colour flag on yer mobile for tonights game! Text TONE or FLAG to 84199. Optout txt ENG STOP Box39822 W111WX £1.50',\n",
       "        \"Boo. How's things? I'm back at home and a little bored already :-(\",\n",
       "        \"You'll not rcv any more msgs from the chat svc. For FREE Hardcore services text GO to: 69988 If u get nothing u must Age Verify with yr network & try again\",\n",
       "        'Please CALL 08712402902 immediately as there is an urgent message waiting for you.',\n",
       "        \"Rock yr chik. Get 100's of filthy films &XXX pics on yr phone now. rply FILTH to 69669. Saristar Ltd, E14 9YT 08701752560. 450p per 5 days. Stop2 cancel\",\n",
       "        'Hey mr whats the name of that bill brison book the one about language and words ',\n",
       "        \"All done, all handed in. Don't know if mega shop in asda counts as celebration but thats what i'm doing!\",\n",
       "        \"S'fine. Anytime. All the best with it.\",\n",
       "        \"Xmas & New Years Eve tickets are now on sale from the club, during the day from 10am till 8pm, and on Thurs, Fri & Sat night this week. They're selling fast!\",\n",
       "        \"important information 4 orange user . today is your lucky day!2find out why log onto http://www.urawinner.com THERE'S A FANTASTIC SURPRISE AWAITING YOU!\",\n",
       "        \"Forgot you were working today! Wanna chat, but things are ok so drop me a text when you're free / bored etc and i'll ring. Hope all is well, nose essay and all xx\",\n",
       "        'Sorry . I will be able to get to you. See you in the morning.',\n",
       "        'Hey mr  and I are going to the sea view and having a couple of gays I mean games! Give me a bell when ya finish ',\n",
       "        '[…] anyway, many good evenings to u! s',\n",
       "        'if you text on your way to cup stop that should work. And that should be BUS',\n",
       "        'Nope thats fine. I might have a nap tho! ',\n",
       "        '88066 FROM 88066 LOST 3POUND HELP',\n",
       "        'Roger that. We‘re probably going to rem in about 20',\n",
       "        '... Are you in the pub?',\n",
       "        'Double your mins & txts on Orange or 1/2 price linerental - Motorola and SonyEricsson with B/Tooth FREE-Nokia FREE Call MobileUpd8 on 08000839402 or2optout/HV9D',\n",
       "        'Get ur 1st RINGTONE FREE NOW! Reply to this msg with TONE. Gr8 TOP 20 tones to your phone every week just £1.50 per wk 2 opt out send STOP 08452810071 16',\n",
       "        'FREE entry into our £250 weekly comp just send the word ENTER to 84128 NOW. 18 T&C www.textcomp.com cust care 08712405020.',\n",
       "        'Not sure I have the stomach for it ...',\n",
       "        '* Was thinking about chuckin ur red green n black trainners 2 save carryin them bac on train',\n",
       "        ', im .. On the snowboarding trip. I was wondering if your planning to get everyone together befor we go..a meet and greet kind of affair? Cheers, ',\n",
       "        'Thank you. And by the way, I just lost.',\n",
       "        \"Night sweet, sleep well! I've just been to see The Exorcism of Emily Rose and may never sleep again! Hugs and snogs! \",\n",
       "        'Did you show him and wot did he say or could u not c him 4 dust?',\n",
       "        'I have a rather prominent bite mark on my right cheek',\n",
       "        'Ok. Not sure what time tho as not sure if can get to library before class. Will try. See you at some point! Have good eve.',\n",
       "        'Nimbomsons. Yep phone knows that one. Obviously, cos thats a real word',\n",
       "        \"Ur balance is now £500. Ur next question is: Who sang 'Uptown Girl' in the 80's ? 2 answer txt ur ANSWER to 83600. Good luck!\",\n",
       "        'Am watching house – very entertaining – am getting the whole hugh laurie thing – even with the stick – indeed especially with the stick.',\n",
       "        \"LIFE has never been this much fun and great until you came in. You made it truly special for me. I won't forget you! enjoy @ one gbp/sms\",\n",
       "        'Free 1st week entry 2 TEXTPOD 4 a chance 2 win 40GB iPod or £250 cash every wk. Txt VPOD to 81303 Ts&Cs www.textpod.net custcare 08712405020.',\n",
       "        \"Mystery solved! Just opened my email and he's sent me another batch! Isn't he a sweetie\",\n",
       "        'Santa calling! Would your little ones like a call from Santa Xmas Eve? Call 09077818151 to book you time. Calls1.50ppm last 3mins 30s T&C www.santacalling.com',\n",
       "        'Thats a bit weird, even ?- where is the do supposed to be happening? But good idea, sure they will be in pub!',\n",
       "        'I just cooked a rather nice salmon a la you',\n",
       "        'Can help u swoop by picking u up from wherever ur other birds r meeting if u want.',\n",
       "        \"Hiya. How was last night? I've been naughty and bought myself clothes and very little ... Ready for more shopping tho! What kind of time do you wanna meet?\",\n",
       "        'hiya hows it going in sunny africa? hope u r avin a good time. give that big old silver back a big kiss from me.',\n",
       "        'twenty past five he said will this train have been to durham already or not coz i am in a reserved seat',\n",
       "        'Hi there. We have now moved in2 our pub . Would be great 2 c u if u cud come up.',\n",
       "        \"Erm … ill pick you up at about 6.45pm. That'll give enough time to get there, park and that.\",\n",
       "        'At home by the way',\n",
       "        'Last Chance! Claim ur £150 worth of discount vouchers today! Text SHOP to 85023 now! SavaMob, offers mobile! T Cs SavaMob POBOX84, M263UZ. £3.00 Sub. 16',\n",
       "        \"IMPORTANT INFORMATION 4 ORANGE USER 0796XXXXXX. TODAY IS UR LUCKY DAY!2 FIND OUT WHY LOG ONTO http://www.urawinner.com THERE'S A FANTASTIC PRIZEAWAITING YOU!\",\n",
       "        'Only just got this message, not ignoring you. Yes, i was. Shopping that is',\n",
       "        'Oh yes, why is it like torture watching england?',\n",
       "        'December only! Had your mobile 11mths+? You are entitled to update to the latest colour camera mobile for Free! Call The Mobile Update Co FREE on 08002986906',\n",
       "        'Got what it takes 2 take part in the WRC Rally in Oz? U can with Lucozade Energy! Text RALLY LE to 61200 (25p), see packs or lucozade.co.uk/wrc & itcould be u!',\n",
       "        'Just sent you an email – to an address with incomm in it, is that right?',\n",
       "        'This is the 2nd time we have tried 2 contact u. U have won the 750 Pound prize. 2 claim is easy, call 08712101358 NOW! Only 10p per min. BT-national-rate',\n",
       "        \"* Am on a train back from northampton so i'm afraid not!\",\n",
       "        ', ow u dey.i paid 60,400thousad.i told  u would call . ',\n",
       "        'Guess which pub im in? Im as happy as a pig in clover or whatever the saying is! ',\n",
       "        'FREE for 1st week! No1 Nokia tone 4 ur mob every week just txt NOKIA to 8007 Get txting and tell ur mates www.getzed.co.uk POBox 36504 W45WQ norm150p/tone 16+',\n",
       "        'Ho ho - big belly laugh! See ya tomo', ';-( oh well, c u later',\n",
       "        'Ok cool. See ya then.',\n",
       "        'have got * few things to do. may be in * pub later.',\n",
       "        'We currently have a message awaiting your collection. To collect your message just call 08718723815.',\n",
       "        'WIN a year supply of CDs 4 a store of ur choice worth £500 & enter our £100 Weekly draw txt MUSIC to 87066 Ts&Cs www.Ldew.com.subs16+1win150ppmx3',\n",
       "        'Pick you up bout 7.30ish? What time are  and that going?',\n",
       "        'Your account has been credited with 500 FREE Text Messages. To activate, just txt the word: CREDIT to No: 80488 T&Cs www.80488.biz',\n",
       "        \"U've been selected to stay in 1 of 250 top British hotels - FOR NOTHING! Holiday valued at £350! Dial 08712300220 to claim - National Rate Call. Bx526, SW73SS\",\n",
       "        \"1000's flirting NOW! Txt GIRL or BLOKE & ur NAME & AGE, eg GIRL ZOE 18 to 8007 to join and get chatting!\",\n",
       "        '* Will be september by then!',\n",
       "        \"Well good morning mr . Hows london treatin' ya treacle?\",\n",
       "        \"This pen thing is beyond a joke. Wont a Biro do? Don't do a masters as can't do this ever again! \",\n",
       "        'FREE UNLIMITED HARDCORE PORN direct 2 your mobile Txt PORN to 69200 & get FREE access for 24 hrs then chrgd@50p per day txt Stop 2exit. This msg is free',\n",
       "        'Yeah go on then, bored and depressed sittin waitin for phone to ring... Hope the wind drops though, scary',\n",
       "        'I av a new number,  . Wil u only use this one,ta.',\n",
       "        'I‘ll leave around four, ok?',\n",
       "        'URGENT! Your Mobile number has been awarded with a £2000 prize GUARANTEED. Call 09058094455 from land line. Claim 3030. Valid 12hrs only',\n",
       "        'Just re read it and I have no shame but tell me how he takes it and if he runs I will blame u 4 ever!! Not really 4 ever just a long time ',\n",
       "        'Hi its LUCY Hubby at meetins all day Fri & I will B alone at hotel U fancy cumin over? Pls leave msg 2day 09099726395 Lucy x Calls£1/minMobsmoreLKPOBOX177HP51FL',\n",
       "        \"I shall book chez jules for half eight, if that's ok with you?\",\n",
       "        'Ur cash-balance is currently 500 pounds - to maximize ur cash-in now send GO to 86688 only 150p/msg. CC: 08718720201 PO BOX 114/14 TCR/W1',\n",
       "        'Great escape. I fancy the bridge but needs her lager. See you tomo ',\n",
       "        'Ah, well that confuses things, doesnt it? I thought was friends with now. Maybe i did the wrong thing but i already sort of invited -tho he may not come cos of money.',\n",
       "        'URGENT! Your Mobile number has been awarded with a £2000 prize GUARANTEED. Call 09061790126 from land line. Claim 3030. Valid 12hrs only 150ppm',\n",
       "        \"I don't think he has spatula hands!\",\n",
       "        \"Err... Cud do. I'm going to  at 8pm. I haven't got a way to contact him until then.\",\n",
       "        'Bloody hell, cant believe you forgot my surname Mr . Ill give u a clue, its spanish and begins with m... ',\n",
       "        \":-( that's not v romantic!\",\n",
       "        'Free Msg: Ringtone!From: http://tms. widelive.com/index. wml?id=1b6a5ecef91ff9*37819&first=true18:0430-JUL-05',\n",
       "        \"What do u reckon as need 2 arrange transport if u can't do it, thanks\",\n",
       "        'Sorry! U can not unsubscribe yet. THE MOB offer package has a min term of 54 weeks> pls resubmit request after expiry. Reply THEMOB HELP 4 more info',\n",
       "        'Not heard from U4 a while. Call me now am here all night with just my knickers on. Make me beg for it like U did last time 01223585236 XX Luv Nikiyu4.net',\n",
       "        'Am not working but am up to eyes in philosophy so will text u later when a bit more free for chat...',\n",
       "        \"Have you seen who's back at Holby?!\",\n",
       "        'Our brand new mobile music service is now live. The free music player will arrive shortly. Just install on your phone to browse content from the top artists.',\n",
       "        'PRIVATE! Your 2003 Account Statement for shows 800 un-redeemed S. I. M. points. Call 08715203694 Identifier Code: 40533 Expires 31/10/04',\n",
       "        'No worries, hope photo shoot went well. have a spiffing fun at workage. ',\n",
       "        '3. You have received your mobile content. Enjoy',\n",
       "        'FreeMsg Hey U, i just got 1 of these video/pic fones, reply WILD to this txt & ill send U my pics, hurry up Im so bored at work xxx (18 150p/rcvd STOP2stop)',\n",
       "        'Romantic Paris. 2 nights, 2 flights from £79 Book now 4 next year. Call 08704439680Ts&Cs apply.',\n",
       "        'Fantasy Football is back on your TV. Go to Sky Gamestar on Sky Active and play £250k Dream Team. Scoring starts on Saturday, so register now!SKY OPT OUT to 88088',\n",
       "        'Maybe i could get book out tomo then return it immediately ..? Or something.',\n",
       "        \"By the way, i've put a skip right outside the front of the house so you can see which house it is. Just pull up before it.\",\n",
       "        \"She's borderline but yeah whatever.\",\n",
       "        'Do you want a New Nokia 3510i Colour Phone Delivered Tomorrow? With 200 FREE minutes to any mobile + 100 FREE text + FREE camcorder Reply or Call 8000930705',\n",
       "        'Not heard from U4 a while. Call 4 rude chat private line 01223585334 to cum. Wan 2C pics of me gettin shagged then text PIX to 8552. 2End send STOP 8552 SAM xxx',\n",
       "        \"For ur chance to win £250 cash every wk TXT: PLAY to 83370. T's&C's www.music-trivia.net custcare 08715705022, 1x150p/wk.\",\n",
       "        'Your weekly Cool-Mob tones are ready to download !This weeks new Tones include: 1) Crazy Frog-AXEL F>>> 2) Akon-Lonely>>> 3) Black Eyed-Dont P >>>More info in n',\n",
       "        \"Sounds like a plan! Cardiff is still here and still cold! I'm sitting on the radiator!\",\n",
       "        'And several to you sir.',\n",
       "        'You know, wot people wear. T shirts, jumpers, hat, belt, is all we know. We r at Cribbs',\n",
       "        'Think i might have to give it a miss. Am teaching til twelve, then have lecture at two. Damn this working thing.',\n",
       "        'You have won a guaranteed £200 award or even £1000 cashto claim UR award call free on 08000407165 (18+) 2 stop getstop on 88222 PHP. RG21 4JX',\n",
       "        'UR awarded a City Break and could WIN a £200 Summer Shopping spree every WK. Txt STORE to 88039 . SkilGme. TsCs087147403231Winawk!Age16 £1.50perWKsub',\n",
       "        \"You'll never believe this but i have actually got off at taunton. Wow\",\n",
       "        \"Need a coffee run tomo?Can't believe it's that time of week already\",\n",
       "        'You have won a Nokia 7250i. This is what you get when you win our FREE auction. To take part send Nokia to 86021 now. HG/Suite342/2Lands Row/W1JHL 16+',\n",
       "        'Are you available for soiree on June 3rd?',\n",
       "        \"Hard LIVE 121 chat just 60p/min. Choose your girl and connect LIVE. Call 09094646899 now! Cheap Chat UK's biggest live service. VU BCM1896WC1N3XX\",\n",
       "        \"Lovely smell on this bus and it ain't tobacco... \",\n",
       "        'I am back. Bit long cos of accident on a30. Had to divert via wadebridge.I had a brilliant weekend thanks. Speak soon. Lots of love',\n",
       "        'Block Breaker now comes in deluxe format with new features and great graphics from T-Mobile. Buy for just £5 by replying GET BBDELUXE and take the challenge',\n",
       "        'Hi if ur lookin 4 saucy daytime fun wiv busty married woman Am free all next week Chat now 2 sort time 09099726429 JANINExx Calls£1/minMobsmoreLKPOBOX177HP51FL',\n",
       "        'Do you want a new Video handset? 750 any time any network mins? UNLIMITED TEXT? Camcorder? Reply or Call now 08000930705 for del Sat AM',\n",
       "        'Spook up your mob with a Halloween collection of a logo & pic message plus a free eerie tone, txt CARD SPOOK to 8007 zed 08701417012150p per logo/pic',\n",
       "        'WIN: We have a winner! Mr. T. Foley won an iPod! More exciting prizes soon, so keep an eye on ur mobile or visit www.win-82050.co.uk',\n",
       "        \"More people are dogging in your area now. Call 09090204448 and join like minded guys. Why not arrange 1 yourself. There's 1 this evening. A£1.50 minAPN LS278BB\",\n",
       "        'Have you not finished work yet or something?',\n",
       "        \"+123 Congratulations - in this week's competition draw u have won the £1450 prize to claim just call 09050002311 b4280703. T&Cs/stop SMS 08718727868. Over 18 only 150ppm\",\n",
       "        'V nice! Off 2 sheffield tom 2 air my opinions on categories 2 b used 2 measure ethnicity in next census. Busy transcribing. :-)',\n",
       "        'Velly good, yes please!',\n",
       "        'Freemsg: 1-month unlimited free calls! Activate SmartCall Txt: CALL to No: 68866. Subscriptn3gbp/wk unlimited calls Help: 08448714184 Stop?txt stop landlineonly',\n",
       "        'Your unique user ID is 1172. For removal send STOP to 87239 customer services 08708034412',\n",
       "        'Hi babe its Chloe, how r u? I was smashed on saturday night, it was great! How was your weekend? U been missing me? SP visionsms.com Text stop to stop 150p/text',\n",
       "        'As a registered optin subscriber ur draw 4 £100 gift voucher will be entered on receipt of a correct ans to 80062 Whats No1 in the BBC charts',\n",
       "        'Have you been practising your curtsey?',\n",
       "        'Printer is cool. I mean groovy. Wine is groovying',\n",
       "        'Double eviction this week - Spiral and Michael and good riddance to them!',\n",
       "        \"R u sure they'll understand that! Wine * good idea just had a slurp!\",\n",
       "        \"Am on a train back from northampton so i'm afraid not! I'm staying skyving off today ho ho! Will be around wednesday though. Do you fancy the comedy club this week by the way?\",\n",
       "        'Beerage?',\n",
       "        'Free 1st week entry 2 TEXTPOD 4 a chance 2 win 40GB iPod or £250 cash every wk. Txt POD to 84128 Ts&Cs www.textpod.net custcare 08712405020.',\n",
       "        'Hi, wlcome back, did wonder if you got eaten by a lion or something, nothing much',\n",
       "        \"Oops - am at my mum's in somerset... Bit far! Back tomo, see you soon x\",\n",
       "        \"I've been barred from all B and Q stores for life!?This twat in orange dungerees came up to me and asked if I wanted decking? So I got the first punch in!!\",\n",
       "        '* Am on my way', 'FROM 88066 LOST £12 HELP',\n",
       "        'For sale - arsenal dartboard. Good condition but no doubles or trebles!',\n",
       "        '<Forwarded from 88877>FREE entry into our £250 weekly comp just send the word ENTER to 88877 NOW. 18 T&C www.textcomp.com',\n",
       "        'Jordan got voted out last nite!',\n",
       "        \"Hiya, sorry didn't hav signal. I haven't seen or heard from and neither has, which is unusual in itself! I'll put on the case and get him to sort it out! Hugs and snogs.\",\n",
       "        'Did u find out what time the bus is at coz i need to sort some stuff out.',\n",
       "        'Ha ha - had popped down to the loo when you hello-ed me. Hello!',\n",
       "        'Ahhhh...just woken up!had a bad dream about u tho,so i dont like u right now :) i didnt know anything about comedy night but i guess im up for it.',\n",
       "        'money!!! you r a lucky winner ! 2 claim your prize text money 2 88600 over £1million to give away ! ppt150x3+normal text rate box403 w1t1jy',\n",
       "        'Your next amazing xxx PICSFREE1 video will be sent to you enjoy! If one vid is not enough for 2day text back the keyword PICSFREE1 to get the next video.',\n",
       "        'SPJanuary Male Sale! Hot Gay chat now cheaper, call 08709222922. National rate from 1.5p/min cheap to 7.8p/min peak! To stop texts call 08712460324 (10p/min)',\n",
       "        \"Oh my god! I've found your number again! I'm so glad, text me back xafter this msgs cst std ntwk chg £1.50\",\n",
       "        'No. 1 Nokia Tone 4 ur mob every week! Just txt NOK to 87021. 1st Tone FREE ! so get txtin now and tell ur friends. 150p/tone. 16 reply HL 4info',\n",
       "        \"Bored of speed dating? Try SPEEDCHAT, txt SPEEDCHAT to 80155, if you don't like em txt SWAP and get a new chatter! Chat80155 POBox36504W45WQ 150p/msg rcd 16\",\n",
       "        'UR GOING 2 BAHAMAS! CallFREEFONE 08081560665 and speak to a live operator to claim either Bahamas cruise of£2000 CASH 18+only. To opt out txt X to 07786200117',\n",
       "        'Call 09094100151 to use ur mins! Calls cast 10p/min (mob vary). Service provided by AOM, just GBP5/month. AOM Box61,M60 1ER until u stop. Ages 18+ only!',\n",
       "        'You have 1 new message. Call 0207-083-6089',\n",
       "        'U have a secret admirer who is looking 2 make contact with U-find out who they R*reveal who thinks UR so special-call on 09058094599',\n",
       "        'Yeah confirmed for you staying at  that weekend',\n",
       "        \"Unfortunately i've just found out that we have to pick my sister up from the airport that evening so don't think i'll be going out at all. We should try to go out one of th\",\n",
       "        'Get a brand new mobile phone by being an agent of The Mob! Plus loads more goodies! For more info just text MAT to 87021.',\n",
       "        \"That would be great. We'll be at the Guild. Could meet on Bristol road or somewhere - will get in touch over weekend. Our plans take flight! Have a good week\",\n",
       "        'Have you emigrated or something? Ok maybe 5.30 was a bit hopeful...',\n",
       "        ';-) ok. I feel like john lennon.',\n",
       "        'swhrt how u dey,hope ur ok, tot about u 2day.love n miss.take care.',\n",
       "        'Natalja (25/F) is inviting you to be her friend. Reply YES-440 or NO-440 See her: www.SMS.ac/u/nat27081980 STOP? Send STOP FRND to 62468',\n",
       "        'Okey dokey swashbuckling stuff what oh.',\n",
       "        \"Join the UK's horniest Dogging service and u can have sex 2nite!. Just sign up and follow the instructions. Txt ENTRY to 69888 now! Nyt.EC2A.3LP.msg@150p\",\n",
       "        'PRIVATE! Your 2004 Account Statement for 07742676969 shows 786 unredeemed Bonus Points. To claim call 08719180248 Identifier Code: 45239 Expires',\n",
       "        'What time you coming down later? ',\n",
       "        'Save money on wedding lingerie at www.bridal.petticoatdreams.co.uk Choose from a superb selection with national delivery. Brought to you by WeddingFriend',\n",
       "        'You intrepid duo you! Have a great time and see you both soon. ',\n",
       "        \"Man this bus is so so so slow. I think you're gonna get there before me\",\n",
       "        'Hows the champ just leaving glasgow!',\n",
       "        'Boltblue tones for 150p Reply POLY# or MONO# eg POLY3 1. Cha Cha Slide 2. Yeah 3. Slow Jamz 6. Toxic 8. Come With Me or STOP 4 more tones txt MORE',\n",
       "        \"Very strange.  and  are watching the 2nd one now but i'm in bed. Sweet dreams, miss u \",\n",
       "        'TBS/PERSOLVO. been chasing us since Sept for£38 definitely not paying now thanks to your information. We will ignore them. Kath. Manchester.',\n",
       "        'We tried to contact you re our offer of New Video Phone 750 anytime any network mins HALF PRICE Rental camcorder call 08000930705 or reply for delivery Wed',\n",
       "        'Great NEW Offer - DOUBLE Mins & DOUBLE Txt on best Orange tariffs AND get latest camera phones 4 FREE! Call MobileUpd8 free on 08000839402 NOW! or 2stoptxt T&Cs',\n",
       "        'Will u meet ur dream partner soon? Is ur career off 2 a flyng start? 2 find out free, txt HORO followed by ur star sign, e. g. HORO ARIES',\n",
       "        \"Yes watching footie but worried we're going to blow it - Phil Neville?\",\n",
       "        'Hello. No news on job, they are making me wait a fifth week! Yeah im up for some woozles and weasels... In exeter still, but be home about 3. ',\n",
       "        'I‘m parked next to a MINI!!!! When are you coming in today do you think?',\n",
       "        'Yeah work is fine, started last week, all the same stuff as before, dull but easy and guys are fun!',\n",
       "        \" says that he's quitting at least5times a day so i wudn't take much notice of that. Nah, she didn't mind. Are you gonna see him again? Do you want to come to taunton tonight? U can tell me all about !\",\n",
       "        'ROMCAPspam Everyone around should be responding well to your presence since you are so warm and outgoing. You are bringing in a real breath of sunshine.',\n",
       "        'Your free ringtone is waiting to be collected. Simply text the password \"MIX\" to 85069 to verify. Get Usher and Britney. FML, PO Box 5249, MK17 92H. 450Ppw 16',\n",
       "        'You will recieve your tone within the next 24hrs. For Terms and conditions please see Channel U Teletext Pg 750',\n",
       "        \"I'm coming back on Thursday. Yay. Is it gonna be ok to get the money. Cheers. Oh yeah and how are you. Everything alright. Hows school. Or do you call it work now\",\n",
       "        'Hack Chat. Get backdoor entry into 121 chat rooms at a fraction of the cost. Reply NEO69 or call 09050280520, to subscribe 25p pm. DPS, Bcm box 8027 Ldn, wc1n3xx',\n",
       "        'What time. I‘m out until prob 3 or so',\n",
       "        'We tried to contact you re your reply to our offer of 750 mins 150 textand a new video phone call 08002988890 now or reply for free delivery tomorrow',\n",
       "        'Been running but only managed 5 minutes and then needed oxygen! Might have to resort to the roller option!',\n",
       "        'Guess what! Somebody you know secretly fancies you! Wanna find out who it is? Give us a call on 09065394514 From Landline DATEBox1282EssexCM61XN 150p/min 18',\n",
       "        'U are subscribed to the best Mobile Content Service in the UK for £3 per ten days until you send STOP to 83435. Helpline 08706091795.',\n",
       "        'YOU VE WON! Your 4* Costa Del Sol Holiday or £5000 await collection. Call 09050090044 Now toClaim. SAE, TC s, POBox334, Stockport, SK38xh, Cost£1.50/pm, Max10mins',\n",
       "        \"Hi ya babe x u 4goten bout me?' scammers getting smart..Though this is a regular vodafone no, if you respond you get further prem rate msg/subscription. Other nos used also. Beware!\",\n",
       "        'Back 2 work 2morro half term over! Can U C me 2nite 4 some sexy passion B4 I have 2 go back? Chat NOW 09099726481 Luv DENA Calls £1/minMobsmoreLKPOBOX177HP51FL',\n",
       "        'Loans for any purpose even if you have Bad Credit! Tenants Welcome. Call NoWorriesLoans.com on 08717111821',\n",
       "        'Got it. Seventeen pounds for seven hundred ml – hope ok.',\n",
       "        'on hen night. Going with a swing',\n",
       "        'Todays Vodafone numbers ending with 4882 are selected to a receive a £350 award. If your number matches call 09064019014 to receive your £350 award.',\n",
       "        'Dear Voucher Holder, To claim this weeks offer, at your PC please go to http://www.wtlp.co.uk/text. Ts&Cs apply.',\n",
       "        'Hello! Just got here, st andrews-boy its a long way! Its cold. I will keep you posted',\n",
       "        'Our ride equally uneventful - not too many of those pesky cyclists around at that time of night ;).',\n",
       "        \"Hiya , have u been paying money into my account? If so, thanks. Got a pleasant surprise when i checked my balance -u c, i don't get statements 4 that acc\",\n",
       "        'New Mobiles from 2004, MUST GO! Txt: NOKIA to No: 89545 & collect yours today! From ONLY £1. www.4-tc.biz 2optout 087187262701.50gbp/mtmsg18 TXTAUCTION.',\n",
       "        'Did you hear about the new \"Divorce Barbie\"? It comes with all of Ken\\'s stuff!',\n",
       "        \"I don't know, same thing that's wrong everyso often, he panicks starts goin on bout not bein good enough …\",\n",
       "        'Yep then is fine 7.30 or 8.30 for ice age.',\n",
       "        \"You won't believe it but it's true. It's Incredible Txts! Reply G now to learn truly amazing things that will blow your mind. From O2FWD only 18p/txt\",\n",
       "        \"hope things went well at 'doctors' ;) reminds me i still need 2go.did u c d little thing i left in the lounge?\",\n",
       "        'Customer service announcement. We recently tried to make a delivery to you but were unable to do so, please call 07090298926 to re-schedule. Ref:9307622',\n",
       "        'FreeMsg: Claim ur 250 SMS messages-Text OK to 84025 now!Use web2mobile 2 ur mates etc. Join Txt250.com for 1.50p/wk. T&C BOX139, LA32WU. 16 . Remove txtX or stop',\n",
       "        'PRIVATE! Your 2003 Account Statement for <fone no> shows 800 un-redeemed S. I. M. points. Call 08715203656 Identifier Code: 42049 Expires 26/10/04',\n",
       "        'Final Chance! Claim ur £150 worth of discount vouchers today! Text YES to 85023 now! SavaMob, member offers mobile! T Cs SavaMob POBOX84, M263UZ. £3.00 Subs 16',\n",
       "        'Sexy Singles are waiting for you! Text your AGE followed by your GENDER as wither M or F E.G.23F. For gay men text your AGE followed by a G. e.g.23G.',\n",
       "        'Xmas Offer! Latest Motorola, SonyEricsson & Nokia & FREE Bluetooth or DVD! Double Mins & 1000 Txt on Orange. Call MobileUpd8 on 08000839402 or call2optout/4QF2',\n",
       "        'Hey I am really horny want to chat or see me naked text hot to 69698 text charged at 150pm to unsubscribe text stop 69698',\n",
       "        'Someone has contacted our dating service and entered your phone because they fancy you! To find out who it is call from a landline 09111032124 . PoBox12n146tf150p',\n",
       "        'yeah sure thing mate haunt got all my stuff sorted but im going sound anyway promoting hex for .by the way who is this? dont know number. Joke',\n",
       "        'FREE RINGTONE text FIRST to 87131 for a poly or text GET to 87131 for a true tone! Help? 0845 2814032 16 after 1st free, tones are 3x£150pw to e£nd txt stop',\n",
       "        'Do you want 750 anytime any network mins 150 text and a NEW VIDEO phone for only five pounds per week call 08002888812 or reply for delivery tomorrow',\n",
       "        'Call from 08702490080 - tells u 2 call 09066358152 to claim £5000 prize. U have 2 enter all ur mobile & personal details @ the prompts. Careful!',\n",
       "        'Indeed and by the way it was either or - not both !',\n",
       "        \"Loan for any purpose £500 - £75,000. Homeowners + Tenants welcome. Have you been previously refused? We can still help. Call Free 0800 1956669 or text back 'help'\",\n",
       "        'FREE for 1st week! No1 Nokia tone 4 ur mobile every week just txt NOKIA to 8077 Get txting and tell ur mates. www.getzed.co.uk POBox 36504 W45WQ 16+ norm150p/tone',\n",
       "        \"How's it going? Got any exciting karaoke type activities planned? I'm debating whether to play football this eve. Feeling lazy though.\",\n",
       "        'Message from . I am at Truro Hospital on ext. You can phone me here. as I have a phone by my side',\n",
       "        'Hi, the SEXYCHAT girls are waiting for you to text them. Text now for a great night chatting. send STOP to stop this service',\n",
       "        \"* Was a nice day and, impressively, i was sensible, went home early and now feel fine. Or am i just boring?! When's yours, i can't remember.\",\n",
       "        'Sorry im getting up now, feel really bad- totally rejected that kinda me thing.',\n",
       "        \"Do you realize that in about 40 years, we'll have thousands of old ladies running around with tattoos?\",\n",
       "        'TheMob> Check out our newest selection of content, Games, Tones, Gossip, babes and sport, Keep your mobile fit and funky text WAP to 82468',\n",
       "        'Do you want a new video handset? 750 anytime any network mins? Half Price Line Rental? Camcorder? Reply or call 08000930705 for delivery tomorrow',\n",
       "        'Yeah no probs - last night is obviously catching up with you... Speak soon ',\n",
       "        'Want the latest Video handset? 750 anytime any network mins? Half price line rental? Reply or call 08000930705 for delivery tomorrow',\n",
       "        'Mm not entirely sure i understood that text but hey. Ho. Which weekend?',\n",
       "        'It‘s £6 to get in, is that ok?',\n",
       "        'In The Simpsons Movie released in July 2007 name the band that died at the start of the film? A-Green Day, B-Blue Day, C-Red Day. (Send A, B or C)',\n",
       "        'Please give it 2  or i will pick it up on Tuesday evening about 8 if that is ok.',\n",
       "        'U have a secret admirer. REVEAL who thinks U R So special. Call 09065174042. To opt out Reply REVEAL STOP. 1.50 per msg recd. Cust care 07821230901',\n",
       "        'You have 1 new message. Please call 08715205273',\n",
       "        'A link to your picture has been sent. You can also use http://alto18.co.uk/wave/wave.asp?o=44345',\n",
       "        \"hows my favourite person today? r u workin hard? couldn't sleep again last nite nearly rang u at 4.30\",\n",
       "        'I‘m going to try for 2 months ha ha only joking',\n",
       "        'Eerie Nokia tones 4u, rply TONE TITLE to 8007 eg TONE DRACULA to 8007 Titles: GHOST, ADDAMSFA, MUNSTERS, EXORCIST, TWILIGHT www.getzed.co.uk POBox36504W45WQ 150p',\n",
       "        'Call Germany for only 1 pence per minute! Call from a fixed line via access number 0844 861 85 85. No prepayment. Direct access! www.telediscount.co.uk',\n",
       "        \", how's things? Just a quick question.\",\n",
       "        'Cashbin.co.uk (Get lots of cash this weekend!) www.cashbin.co.uk Dear Welcome to the weekend We have got our biggest and best EVER cash give away!! These..',\n",
       "        \"Sorry, left phone upstairs. OK, might be hectic but would be all my birds with one fell swoop. It's a date.\",\n",
       "        'SMS. ac Sptv: The New Jersey Devils and the Detroit Red Wings play Ice Hockey. Correct or Incorrect? End? Reply END SPTV',\n",
       "        'Natalie (20/F) is inviting you to be her friend. Reply YES-165 or NO-165 See her: www.SMS.ac/u/natalie2k9 STOP? Send STOP FRND to 62468',\n",
       "        'Nutter. Cutter. Ctter. Cttergg. Cttargg. Ctargg. Ctagg. ie you',\n",
       "        \"Oops sorry. Just to check that you don't mind picking me up tomo at half eight from station. Would that be ok?\",\n",
       "        'Please call our customer service representative on 0800 169 6031 between 10am-9pm as you have WON a guaranteed £1000 cash or £5000 prize!',\n",
       "        \"No i'm not gonna be able to. || too late notice. || i'll be home in a few weeks anyway. || what are the plans\",\n",
       "        'PRIVATE! Your 2003 Account Statement for 07753741225 shows 800 un-redeemed S. I. M. points. Call 08715203677 Identifier Code: 42478 Expires 24/10/04',\n",
       "        'Cheers for the card ... Is it that time of year already?',\n",
       "        'Missed call alert. These numbers called but left no message. 07008009200',\n",
       "        'Don‘t give a flying monkeys wot they think and I certainly don‘t mind. Any friend of mine and all that!',\n",
       "        'Babe: U want me dont u baby! Im nasty and have a thing 4 filthyguys. Fancy a rude time with a sexy bitch. How about we go slo n hard! Txt XXX SLO(4msgs)',\n",
       "        'Lol! U drunkard! Just doing my hair at d moment. Yeah still up 4 tonight. Wats the plan? ',\n",
       "        \"Today's Offer! Claim ur £150 worth of discount vouchers! Text YES to 85023 now! SavaMob, member offers mobile! T Cs 08717898035. £3.00 Sub. 16 . Unsub reply X\",\n",
       "        'BIG BROTHER ALERT! The computer has selected u for 10k cash or #150 voucher. Call 09064018838. NTT PO Box CRO1327 18+ BT Landline Cost 150ppm mobiles vary',\n",
       "        'CLAIRE here am havin borin time & am now alone U wanna cum over 2nite? Chat now 09099725823 hope 2 C U Luv CLAIRE xx Calls£1/minmoremobsEMSPOBox45PO139WA',\n",
       "        \"I think we're going to finn's now, come\",\n",
       "        '* FREE* POLYPHONIC RINGTONE Text SUPER to 87131 to get your FREE POLY TONE of the week now! 16 SN PoBox202 NR31 7ZS subscription 450pw',\n",
       "        \"Honestly i've just made a lovely cup of tea and promptly dropped my keys in it and then burnt my fingers getting them out!\",\n",
       "        'Call 09095350301 and send our girls into erotic ecstacy. Just 60p/min. To stop texts call 08712460324 (nat rate)',\n",
       "        'Our records indicate u maybe entitled to 5000 pounds in compensation for the Accident you had. To claim 4 free reply with CLAIM to this msg. 2 stop txt STOP',\n",
       "        'U have a Secret Admirer who is looking 2 make contact with U-find out who they R*reveal who thinks UR so special-call on 09065171142-stopsms-08',\n",
       "        'Hmm, too many of them unfortunately... Pics obviously arent hot cakes. Its kinda fun tho',\n",
       "        ':-) :-)',\n",
       "        '1.20 that call cost. Which i guess isnt bad. Miss ya, need ya, want ya, love ya',\n",
       "        'Welcome! Please reply with your AGE and GENDER to begin. e.g 24M',\n",
       "        'You have WON a guaranteed £1000 cash or a £2000 prize. To claim yr prize call our customer service representative on 08714712394 between 10am-7pm',\n",
       "        'Double mins and txts 4 6months FREE Bluetooth on Orange. Available on Sony, Nokia Motorola phones. Call MobileUpd8 on 08000839402 or call2optout/N9DX',\n",
       "        'See you there! ',\n",
       "        'Hi hope u get this txt~journey hasnt been gd,now about 50 mins late I think.',\n",
       "        'Valentines Day Special! Win over £1000 in our quiz and take your partner on the trip of a lifetime! Send GO to 83600 now. 150p/msg rcvd. CustCare:08718720201.',\n",
       "        '<Forwarded from 448712404000>Please CALL 08712404000 immediately as there is an urgent message waiting for you.',\n",
       "        'PRIVATE! Your 2003 Account Statement for 07815296484 shows 800 un-redeemed S.I.M. points. Call 08718738001 Identifier Code 41782 Expires 18/11/04 ',\n",
       "        'Hungry gay guys feeling hungry and up 4 it, now. Call 08718730555 just 10p/min. To stop texts call 08712460324 (10p/min)',\n",
       "        'SMS SERVICES For your inclusive text credits pls gotto www.comuk.net login 3qxj9 unsubscribe with STOP no extra charge help 08702840625 comuk.220cm2 9AE',\n",
       "        'Yeah do! Don‘t stand to close tho- you‘ll catch something!',\n",
       "        'Good good, billy mates all gone. Just been jogging, again! Did enjoy concert?',\n",
       "        'FreeMsg:Feelin kinda lnly hope u like 2 keep me company! Jst got a cam moby wanna c my pic?Txt or reply DATE to 82242 Msg150p 2rcv Hlp 08712317606 stop to 82242',\n",
       "        \"Oh right, ok. I'll make sure that i do loads of work during the day!  got a really nasty cough today and is dry n shot so that should really help it!\",\n",
       "        \"I want some cock! My hubby's away, I need a real man 2 satisfy me. Txt WIFE to 89938 for no strings action. (Txt STOP 2 end, txt rec £1.50ea. OTBox 731 LA1 7WS. )\",\n",
       "        'Reminder: You have not downloaded the content you have already paid for. Goto http://doit. mymoby. tv/ to collect your content.',\n",
       "        'PRIVATE! Your 2003 Account Statement for 07973788240 shows 800 un-redeemed S. I. M. points. Call 08715203649 Identifier Code: 40533 Expires 31/10/04',\n",
       "        \"Lol no ouch but wish i'd stayed out a bit longer\",\n",
       "        'I though we shd go out n have some fun so bar in town or something – sound ok?',\n",
       "        'Yes. Last  practice',\n",
       "        'FreeMsg: Txt: CALL to No: 86888 & claim your reward of 3 hours talk time to use from your phone now! Subscribe6GBP/mnth inc 3hrs 16 stop?txtStop',\n",
       "        'Saw Guys and Dolls last night with Patrick Swayze it was great',\n",
       "        '4mths half price Orange line rental & latest camera phones 4 FREE. Had your phone 11mths ? Call MobilesDirect free on 08000938767 to update now! or2stoptxt',\n",
       "        'Let me know if you need anything else. Salad or desert or something... How many beers shall i get?',\n",
       "        'Gr8 Poly tones 4 ALL mobs direct 2u rply with POLY TITLE to 8007 eg POLY BREATHE1 Titles: CRAZYIN, SLEEPINGWITH, FINEST, YMCA :getzed.co.uk POBox365O4W45WQ 300p',\n",
       "        'Dear Voucher holder Have your next meal on us. Use the following link on your pc 2 enjoy a 2 4 1 dining experiencehttp://www.vouch4me.com/etlp/dining.asp',\n",
       "        'Okay but i thought you were the expert',\n",
       "        \"I jus hope its true that  missin me cos i'm really missin him! You haven't done anything to feel guilty about, yet.\",\n",
       "        \"Ok. Can be later showing around 8-8:30 if you want + cld have drink before. Wld prefer not to spend money on nosh if you don't mind, as doing that nxt wk.\",\n",
       "        'Thanks for your ringtone order, reference number X29. Your mobile will be charged 4.50. Should your tone not arrive please call customer services 09065989180',\n",
       "        'Sunshine Quiz Wkly Q! Win a top Sony DVD player if u know which country Liverpool played in mid week? Txt ansr to 82277. £1.50 SP:Tyrone',\n",
       "        'V skint too but fancied few bevies.waz gona go meet &othrs in spoon but jst bin watchng planet earth&sofa is v comfey; If i dont make it hav gd night',\n",
       "        \"I'm really sorry i won't b able 2 do this friday.hope u can find an alternative.hope yr term's going ok:-)\",\n",
       "        'Urgh, coach hot, smells of chip fat! Thanks again, especially for the duvet (not a predictive text word).',\n",
       "        'Ok but knackered. Just came home and went to sleep! Not good at this full time work lark.',\n",
       "        \"Just got up. have to be out of the room very soon. …. i hadn't put the clocks back til at 8 i shouted at everyone to get up and then realised it was 7. wahay. another hour in bed.\",\n",
       "        'XMAS Prize draws! We are trying to contact U. Todays draw shows that you have won a £2000 prize GUARANTEED. Call 09058094565 from land line. Valid 12hrs only',\n",
       "        'Get your garden ready for summer with a FREE selection of summer bulbs and seeds worth £33:50 only with The Scotsman this Saturday. To stop go2 notxt.co.uk',\n",
       "        \"Guess who am I?This is the first time I created a web page WWW.ASJESUS.COM read all I wrote. I'm waiting for your opinions. I want to be your friend 1/1\",\n",
       "        'Ur balance is now £600. Next question: Complete the landmark, Big, A. Bob, B. Barry or C. Ben ?. Text A, B or C to 83738. Good luck!',\n",
       "        'Lol! Oops sorry! Have fun. ',\n",
       "        \"I'm in solihull, | do you want anything?\",\n",
       "        \"Arms fine, how's Cardiff and uni? \",\n",
       "        'Latest News! Police station toilet stolen, cops have nothing to go on!',\n",
       "        'Do you want a new Video phone? 600 anytime any network mins 400 Inclusive Video calls AND downloads 5 per week Free delTOMORROW call 08002888812 or reply NOW',\n",
       "        'Big brother‘s really scraped the barrel with this shower of social misfits',\n",
       "        'Thanks  and ! Or bomb and date as my phone wanted to say! ',\n",
       "        'Dear relieved of westonzoyland, all going to plan this end too!',\n",
       "        'That way transport is less problematic than on sat night. By the way, if u want to ask  n  to join my bday, feel free. But need to know definite nos as booking on fri. ',\n",
       "        'FREE entry into our £250 weekly competition just text the word WIN to 80086 NOW. 18 T&C www.txttowin.co.uk',\n",
       "        \"I didn't get the second half of that message\",\n",
       "        '-PLS STOP bootydelious (32/F) is inviting you to be her friend. Reply YES-434 or NO-434 See her: www.SMS.ac/u/bootydelious STOP? Send STOP FRND to 62468',\n",
       "        'Kind of. Just missed train cos of asthma attack, nxt one in half hr so driving in. not sure where to park.',\n",
       "        'Have you bookedthe hut? And also your time off? How are you by the way?',\n",
       "        'Hi here. have birth at on the  to  at 8lb 7oz. Mother and baby doing brilliantly.',\n",
       "        'Have you got Xmas radio times. If not i will get it now',\n",
       "        'I think I‘m waiting for the same bus! Inform me when you get there, if you ever get there.',\n",
       "        'Had your mobile 11mths ? Update for FREE to Oranges latest colour camera mobiles & unlimited weekend calls. Call Mobile Upd8 on freefone 08000839402 or 2StopTx',\n",
       "        'This message is free. Welcome to the new & improved Sex & Dogging club! To unsubscribe from this service reply STOP. msgs@150p 18 only',\n",
       "        'Yes i thought so. Thanks.',\n",
       "        \"It is a good thing I'm now getting the connection to bw\",\n",
       "        'Yo! Howz u? girls never rang after india. L',\n",
       "        'FREE entry into our £250 weekly comp just send the word WIN to 80086 NOW. 18 T&C www.txttowin.co.uk',\n",
       "        \"UpgrdCentre Orange customer, you may now claim your FREE CAMERA PHONE upgrade for your loyalty. Call now on 0207 153 9153. Offer ends 26th July. T&C's apply. Opt-out available\",\n",
       "        \"Hello! How's you and how did saturday go? I was just texting to see if you'd decided to do anything tomo. Not that i'm trying to invite myself or anything!\",\n",
       "        ', ,  and  picking them up from various points | going 2 yeovil | and they will do the motor project 4 3 hours | and then u take them home. || 12 2 5.30 max. || Very easy',\n",
       "        'Reply to win £100 weekly! Where will the 2006 FIFA World Cup be held? Send STOP to 87239 to end service',\n",
       "        \"I'll pick you up at about 5.15pm to go to taunton if you still want to come.\",\n",
       "        \"That's ok. I popped in to ask bout something and she said you'd been in. Are you around tonght wen this girl comes?\",\n",
       "        \"Thought we could go out for dinner. I'll treat you! Seem ok?\",\n",
       "        'Urgent! Please call 09066612661 from your landline, your complimentary 4* Lux Costa Del Sol holiday or £1000 CASH await collection. ppm 150 SAE T&Cs James 28, EH74RR',\n",
       "        'Thnx dude. u guys out 2nite?',\n",
       "        'Text82228>> Get more ringtones, logos and games from www.txt82228.com. Questions: info@txt82228.co.uk',\n",
       "        'You have won ?1,000 cash or a ?2,000 prize! To claim, call09050000327. T&C: RSTM, SW7 3SS. 150ppm',\n",
       "        \"Ha! I wouldn't say that I just didn't read anything into way u seemed. I don't like 2 be judgemental....i save that for fridays in the pub!\",\n",
       "        \"Hmm. Shall i bring a bottle of wine to keep us amused? Just joking! I'll still bring a bottle. Red or white? See you tomorrow\",\n",
       "        'Love that holiday Monday feeling even if I have to go to the dentists in an hour',\n",
       "        'To review and KEEP the fantastic Nokia N-Gage game deck with Club Nokia, go 2 www.cnupdates.com/newsletter. unsubscribe from alerts reply with the word OUT',\n",
       "        \"Yeah right! I'll bring my tape measure fri!\",\n",
       "        \"Lol! Nah wasn't too bad thanks. Its good to b home but its been quite a reality check. Hows ur day been? Did u do anything with website?\",\n",
       "        'Good! No, don‘t need any receipts—well done! (…) Yes, please tell . What‘s her number, i could ring her'],\n",
       "       dtype=object)}"
      ]
     },
     "execution_count": 12,
     "metadata": {},
     "output_type": "execute_result"
    }
   ],
   "source": [
    "british_corpus_features_dict"
   ]
  },
  {
   "cell_type": "code",
   "execution_count": 13,
   "metadata": {
    "colab": {
     "base_uri": "https://localhost:8080/"
    },
    "id": "cAuxa0szTtC6",
    "outputId": "ca03a9f3-8ba2-4fd4-9ffc-62ed3d89bdfb"
   },
   "outputs": [
    {
     "data": {
      "text/plain": [
       "{'Spam': array([1, 1, 0, 1, 1, 0, 0, 0, 1, 0, 0, 0, 0, 0, 0, 1, 1, 0, 1, 1, 1, 0,\n",
       "        1, 0, 0, 0, 0, 1, 0, 1, 0, 1, 0, 1, 0, 1, 1, 1, 1, 0, 0, 1, 0, 1,\n",
       "        0, 0, 1, 0, 1, 0, 0, 0, 0, 1, 1, 1, 1, 1, 1, 1, 0, 1, 1, 0, 1, 1,\n",
       "        1, 1, 1, 0, 0, 0, 1, 0, 0, 0, 0, 0, 0, 1, 1, 0, 0, 1, 0, 0, 0, 0,\n",
       "        1, 0, 0, 0, 1, 0, 0, 0, 0, 0, 0, 0, 1, 0, 1, 0, 0, 0, 0, 1, 0, 0,\n",
       "        1, 1, 0, 1, 1, 1, 0, 1, 1, 1, 0, 1, 1, 0, 1, 1, 0, 1, 0, 1, 0, 1,\n",
       "        1, 1, 1, 0, 0, 0, 0, 1, 1, 1, 1, 0, 0, 1, 1, 1, 1, 0, 1, 0, 1, 1,\n",
       "        1, 1, 1, 0, 1, 0, 1, 1, 0, 0, 1, 1, 1, 0, 0, 1, 0, 0, 0, 0, 1, 1,\n",
       "        1, 1, 0, 0, 0, 1, 1, 1, 0, 1, 0, 1, 1, 0, 1, 0, 0, 0, 1, 0, 1, 1,\n",
       "        0, 0, 1, 0, 1, 1, 1, 0, 1, 1, 1, 1, 1, 0, 0, 1, 1, 0, 0, 1, 0, 0,\n",
       "        1, 0, 0, 0, 0, 0, 1, 0, 1, 1, 1, 1, 0, 1, 0, 1, 1, 1, 0, 1, 1, 0,\n",
       "        0, 0, 0, 1, 1, 1, 0, 0, 1, 1, 1, 0, 0, 1, 0, 0, 1, 1, 1, 1, 0, 1,\n",
       "        0, 1, 0, 1, 0, 0, 1, 0, 0, 0, 1, 0, 1, 0, 0, 1, 0, 1, 1, 0, 0, 0,\n",
       "        0, 1, 1, 1, 1, 0, 0, 0, 1, 0, 0, 1, 1, 0, 1, 1, 1, 0, 1, 1, 1, 0,\n",
       "        1, 1, 0, 0, 0, 1, 1, 1, 1, 1, 0, 0, 0, 0, 0, 1, 0, 0, 0, 0, 1, 1,\n",
       "        0, 1, 1, 0, 0, 0, 0, 0, 1, 0, 0, 1, 1, 0, 0, 1, 0, 1, 0, 0, 0, 0,\n",
       "        1, 1, 0, 1, 0, 1, 0, 1, 1, 0, 1, 1, 1, 1, 1, 0, 1, 0, 1, 0, 0, 0,\n",
       "        0, 1, 0, 1, 1, 0, 1, 1, 1, 1, 0, 1, 1, 1, 1, 1, 1, 0, 0, 0, 1, 0,\n",
       "        0, 1, 0, 0, 0, 1, 1, 1, 1, 0, 1, 1, 1, 1, 0, 0, 1, 0, 1, 0, 1, 0,\n",
       "        1, 0, 1, 0, 1, 1, 0, 0, 0, 1, 0, 0, 1, 1, 0, 0, 0, 1, 0, 1, 1, 0,\n",
       "        0, 0, 0, 0, 0, 1, 1, 1, 1, 0, 1, 0, 1, 0, 0, 1, 0, 0, 0, 0, 0, 1,\n",
       "        0, 1, 1, 0, 1, 0, 1, 0, 0, 0, 0, 0, 1, 1, 1, 0, 0, 0, 1, 1, 0, 0,\n",
       "        1, 0, 0, 0, 1, 1, 1, 1, 1, 0, 0, 0, 1, 0, 1, 1, 0, 1, 0, 1, 1, 0,\n",
       "        1, 0, 0, 1, 0, 1, 0, 0, 1, 0, 1, 1, 1, 0, 0, 0, 1, 1, 0, 0, 0, 0,\n",
       "        0, 0, 1, 0, 0, 1, 1, 1, 0, 0, 0, 0, 0, 0, 0, 0, 0, 1, 0, 1, 1, 0,\n",
       "        1, 0, 0, 0, 0, 0, 0, 0, 0, 0, 1, 1, 0, 0, 1, 1, 0, 1, 0, 0, 0, 1,\n",
       "        0, 0, 0, 0, 1, 1, 0, 1, 1, 1, 0, 0, 0, 1, 0, 0, 0, 1, 0, 1, 0, 1,\n",
       "        0, 0, 1, 0, 0, 0, 0, 1, 0, 1, 1, 0, 0, 1, 1, 0, 1, 1, 1, 1, 0, 0,\n",
       "        0, 1, 1, 1, 1, 0, 0, 0, 0, 1, 1, 0, 0, 1, 0, 1, 0, 0, 1, 1, 1, 1,\n",
       "        1, 1, 0, 1, 0, 0, 1, 1, 1, 1, 0, 0, 0, 0, 0, 0, 1, 0, 0, 0, 0, 1,\n",
       "        1, 1, 0, 0, 0, 0, 0, 1, 1, 1, 1, 1, 1, 1, 1, 1, 1, 0, 0, 1, 0, 0,\n",
       "        0, 0, 1, 0, 1, 1, 0, 1, 0, 0, 0, 1, 0, 1, 1, 1, 1, 0, 0, 0, 0, 0,\n",
       "        1, 1, 1, 0, 1, 0, 1, 0, 1, 1, 1, 1, 1, 1, 0, 0, 1, 1, 0, 0, 0, 1,\n",
       "        1, 0, 0, 1, 0, 1, 1, 1, 1, 1, 1, 1, 1, 0, 1, 1, 1, 0, 1, 1, 0, 0,\n",
       "        1, 0, 0, 1, 1, 1, 0, 1, 0, 0, 1, 0, 1, 1, 1, 0, 0, 1, 1, 0, 1, 0,\n",
       "        1, 1, 0, 0, 1, 0, 1, 0, 1, 0, 1, 0, 1, 1, 1, 0, 1, 0, 1, 1, 1, 0,\n",
       "        0, 0, 1, 1, 1, 0, 0, 1, 1, 1, 1, 1, 0, 0, 1, 0, 1, 1, 1, 0, 0, 0,\n",
       "        1, 0, 1, 0, 1, 1, 0, 0, 0, 1, 1, 0, 0, 0, 0, 0, 1, 1, 1, 1, 0, 0,\n",
       "        0, 1, 1, 0, 0, 0, 0, 1, 0, 1, 0, 0, 0, 0, 0, 1, 1, 0, 0, 0, 1, 1,\n",
       "        0, 0, 1, 0, 0, 0, 1, 0, 1, 1, 0, 0, 0, 1, 0, 0, 0], dtype=int64)}"
      ]
     },
     "execution_count": 13,
     "metadata": {},
     "output_type": "execute_result"
    }
   ],
   "source": [
    "british_corpus_labels_dict"
   ]
  },
  {
   "cell_type": "markdown",
   "metadata": {
    "id": "OOJ6bcQ1UGdk"
   },
   "source": [
    "### Create a TF dataset Now"
   ]
  },
  {
   "cell_type": "code",
   "execution_count": 14,
   "metadata": {
    "id": "2lClm-1yTpO5"
   },
   "outputs": [],
   "source": [
    "british_corpus_tf_dataset = tf.data.Dataset.from_tensor_slices((british_corpus_features_dict['Message'], british_corpus_labels_dict['Spam']))\n",
    "\n",
    "BATCH_SIZE = 8\n",
    "british_corpus_tf_dataset = british_corpus_tf_dataset.batch(BATCH_SIZE)\n",
    "\n",
    "# british_corpus_tf_dataset = tf.data.experimental.make_csv_dataset(\"/content/british_corpus.csv\",label_name='Spam',\n",
    "#                                                                   batch_size=BATCH_SIZE,\n",
    "#                                                                   shuffle_buffer_size=SHUFFLE_SIZE)"
   ]
  },
  {
   "cell_type": "code",
   "execution_count": 15,
   "metadata": {
    "colab": {
     "base_uri": "https://localhost:8080/"
    },
    "id": "mVpvZ7HoD653",
    "outputId": "6844aad8-e209-4074-8f31-7bb2c15c9ca5"
   },
   "outputs": [
    {
     "name": "stdout",
     "output_type": "stream",
     "text": [
      "tf.Tensor(\n",
      "[b'Your credits have been topped up for http://www.bubbletext.com Your renewal Pin is tgxxrz'\n",
      " b\"You will be receiving this week's Triple Echo ringtone shortly. Enjoy it!\"\n",
      " b\"Well I'm going to be an aunty!\"\n",
      " b'U have a secret admirer who is looking 2 make contact with U-find out who they R*reveal who thinks UR so special-call on 09058094565'\n",
      " b'Hello. We need some posh birds and chaps to user trial prods for champneys. Can i put you down? I need your address and dob asap. Ta r'\n",
      " b'Hiya, probably coming home * weekend after next'\n",
      " b'Thanks. It was only from tescos but quite nice. All gone now. Speak soon '\n",
      " b'Oh and by the way you do have more food in your fridge! Want to go out for a meal tonight? '], shape=(8,), dtype=string) tf.Tensor([1 1 0 1 1 0 0 0], shape=(8,), dtype=int64)\n"
     ]
    }
   ],
   "source": [
    "for message, spam in british_corpus_tf_dataset:\n",
    "    print(message, spam)\n",
    "    break"
   ]
  },
  {
   "cell_type": "code",
   "execution_count": 16,
   "metadata": {
    "colab": {
     "base_uri": "https://localhost:8080/"
    },
    "id": "iix9_-boVFd3",
    "outputId": "9081d455-bbd5-48c7-8884-dc4a9f367ca5"
   },
   "outputs": [
    {
     "name": "stdout",
     "output_type": "stream",
     "text": [
      "tf.Tensor(\n",
      "[b'Your credits have been topped up for http://www.bubbletext.com Your renewal Pin is tgxxrz'\n",
      " b\"You will be receiving this week's Triple Echo ringtone shortly. Enjoy it!\"\n",
      " b\"Well I'm going to be an aunty!\"\n",
      " b'U have a secret admirer who is looking 2 make contact with U-find out who they R*reveal who thinks UR so special-call on 09058094565'\n",
      " b'Hello. We need some posh birds and chaps to user trial prods for champneys. Can i put you down? I need your address and dob asap. Ta r'\n",
      " b'Hiya, probably coming home * weekend after next'\n",
      " b'Thanks. It was only from tescos but quite nice. All gone now. Speak soon '\n",
      " b'Oh and by the way you do have more food in your fridge! Want to go out for a meal tonight? '], shape=(8,), dtype=string) tf.Tensor([1 1 0 1 1 0 0 0], shape=(8,), dtype=int64)\n"
     ]
    }
   ],
   "source": [
    "for (message, spam) in british_corpus_tf_dataset.take(1):\n",
    "    print(message, spam)"
   ]
  },
  {
   "cell_type": "markdown",
   "metadata": {
    "id": "BgAn1LEeuHXh"
   },
   "source": [
    "### Train and Test Split the Dataset"
   ]
  },
  {
   "cell_type": "code",
   "execution_count": 17,
   "metadata": {
    "id": "RgreIaf1rYQr"
   },
   "outputs": [],
   "source": [
    "TOTAL_SAMPLES = len(british_corpus_df)\n",
    "\n",
    "TOTAL_BATCHES = int(TOTAL_SAMPLES / BATCH_SIZE)\n",
    "\n",
    "VALIDATION_SPLIT = 0.2\n",
    "\n",
    "VALIDATION_BATCHES = int(VALIDATION_SPLIT * TOTAL_BATCHES)\n",
    "\n",
    "train_dataset = british_corpus_tf_dataset.skip(VALIDATION_BATCHES)\n",
    "test_dataset = british_corpus_tf_dataset.take(VALIDATION_BATCHES) "
   ]
  },
  {
   "cell_type": "markdown",
   "metadata": {
    "id": "g_WtLSiQuQLU"
   },
   "source": [
    "### Tutorial: https://keras.io/examples/nlp/pretrained_word_embeddings/"
   ]
  },
  {
   "cell_type": "markdown",
   "metadata": {
    "id": "4MiqoKH3t9lq"
   },
   "source": [
    "### Download Glove Word Embeddings"
   ]
  },
  {
   "cell_type": "code",
   "execution_count": null,
   "metadata": {
    "colab": {
     "base_uri": "https://localhost:8080/"
    },
    "id": "2CNajikLVGm5",
    "outputId": "dbbe4b2e-7125-4a00-cfbc-13179c030e37"
   },
   "outputs": [
    {
     "name": "stdout",
     "output_type": "stream",
     "text": [
      "--2022-01-09 10:42:14--  http://nlp.stanford.edu/data/glove.6B.zip\n",
      "Resolving nlp.stanford.edu (nlp.stanford.edu)... 171.64.67.140\n",
      "Connecting to nlp.stanford.edu (nlp.stanford.edu)|171.64.67.140|:80... connected.\n",
      "HTTP request sent, awaiting response... 302 Found\n",
      "Location: https://nlp.stanford.edu/data/glove.6B.zip [following]\n",
      "--2022-01-09 10:42:14--  https://nlp.stanford.edu/data/glove.6B.zip\n",
      "Connecting to nlp.stanford.edu (nlp.stanford.edu)|171.64.67.140|:443... connected.\n",
      "HTTP request sent, awaiting response... 301 Moved Permanently\n",
      "Location: http://downloads.cs.stanford.edu/nlp/data/glove.6B.zip [following]\n",
      "--2022-01-09 10:42:14--  http://downloads.cs.stanford.edu/nlp/data/glove.6B.zip\n",
      "Resolving downloads.cs.stanford.edu (downloads.cs.stanford.edu)... 171.64.64.22\n",
      "Connecting to downloads.cs.stanford.edu (downloads.cs.stanford.edu)|171.64.64.22|:80... connected.\n",
      "HTTP request sent, awaiting response... 200 OK\n",
      "Length: 862182613 (822M) [application/zip]\n",
      "Saving to: ‘glove.6B.zip.2’\n",
      "\n",
      "glove.6B.zip.2        3%[                    ]  29.04M  48.4MB/s               ^C\n",
      "replace glove.6B.50d.txt? [y]es, [n]o, [A]ll, [N]one, [r]ename: n\n",
      "replace glove.6B.100d.txt? [y]es, [n]o, [A]ll, [N]one, [r]ename: n\n",
      "replace glove.6B.200d.txt? [y]es, [n]o, [A]ll, [N]one, [r]ename: n\n",
      "replace glove.6B.300d.txt? [y]es, [n]o, [A]ll, [N]one, [r]ename: n\n"
     ]
    }
   ],
   "source": [
    "!wget http://nlp.stanford.edu/data/glove.6B.zip\n",
    "!unzip -q glove.6B.zip"
   ]
  },
  {
   "cell_type": "code",
   "execution_count": null,
   "metadata": {
    "colab": {
     "base_uri": "https://localhost:8080/"
    },
    "id": "jD_UCF9-VG4O",
    "outputId": "c3c680b5-dcce-4da9-eada-f07be5a79104"
   },
   "outputs": [
    {
     "name": "stdout",
     "output_type": "stream",
     "text": [
      "Found 400000 word vectors.\n"
     ]
    }
   ],
   "source": [
    "import os \n",
    "\n",
    "GLOVE_EMBEDDING_PATH = '/content/glove.6B.200d.txt'\n",
    "\n",
    "path_to_glove_file = os.path.join(\n",
    "    # os.path.expanduser(\"~\"), \".keras/datasets/glove.6B.100d.txt\"\n",
    "    os.path.expanduser(\"~\"), GLOVE_EMBEDDING_PATH\n",
    ")\n",
    "\n",
    "embeddings_index = {}\n",
    "with open(path_to_glove_file) as f:\n",
    "    for line in f:\n",
    "        word, coefs = line.split(maxsplit=1)\n",
    "        coefs = np.fromstring(coefs, \"f\", sep=\" \")\n",
    "        embeddings_index[word] = coefs\n",
    "\n",
    "print(\"Found %s word vectors.\" % len(embeddings_index))"
   ]
  },
  {
   "cell_type": "markdown",
   "metadata": {
    "id": "onKf7kuwuztx"
   },
   "source": [
    "### Create VOCABULARY INDEX"
   ]
  },
  {
   "cell_type": "code",
   "execution_count": null,
   "metadata": {
    "colab": {
     "base_uri": "https://localhost:8080/"
    },
    "id": "x_SQgU3y-QZu",
    "outputId": "936a11d6-b718-4fd9-9d58-7020e15e36fc"
   },
   "outputs": [
    {
     "name": "stdout",
     "output_type": "stream",
     "text": [
      "[b'Your credits have been topped up for http://www.bubbletext.com Your renewal Pin is tgxxrz', b\"You will be receiving this week's Triple Echo ringtone shortly. Enjoy it!\", b\"Well I'm going to be an aunty!\", b'U have a secret admirer who is looking 2 make contact with U-find out who they R*reveal who thinks UR so special-call on 09058094565', b'Hello. We need some posh birds and chaps to user trial prods for champneys. Can i put you down? I need your address and dob asap. Ta r', b'Hiya, probably coming home * weekend after next', b'Thanks. It was only from tescos but quite nice. All gone now. Speak soon ', b'Oh and by the way you do have more food in your fridge! Want to go out for a meal tonight? ', b'Free Top ringtone -sub to weekly ringtone-get 1st week free-send SUBPOLY to 81618-?3 per week-stop sms-08718727870', b'Hello. Sort of out in town already. That . So dont rush home, I am eating nachos. Will let you know eta.', b'Everybody had fun this evening. Miss you.', b\"There generally isn't one. It's an uncountable noun - u in the dictionary. pieces of research?\", b'No, but you told me you were going, before you got drunk!', b'Hey there! Glad u r better now. I hear u treated urself to a digi cam, is it good? We r off at 9pm. Have a fab new year, c u in coupla wks!', b'That\\xe2\\x80\\x98s the thing with apes, u can fight to the death to keep something, but the minute they have it when u let go, thats it!', b'Good Luck! Draw takes place 28th Feb 06. Good Luck! For removal send STOP to 87239 customer services 08708034412', b'Monthly password for wap. mobsi.com is 391784. Use your wap phone not PC.', b'Sure thing big man. i have hockey elections at 6, shouldn\\xe2\\x80\\x98t go on longer than an hour though', b'Urgent! Please call 09061743811 from landline. Your ABTA complimentary 4* Tenerife Holiday or \\xc2\\xa35000 cash await collection SAE T&Cs Box 326 CW25WX 150ppm', b'Do you want a NEW video phone750 anytime any network mins 150 text for only five pounds per week call 08000776320 now or reply for delivery tomorrow', b'PRIVATE! Your 2003 Account Statement for shows 800 un-redeemed S.I.M. points. Call 08718738001 Identifier Code: 49557 Expires 26/11/04', b'meet you in corporation st outside gap \\xe2\\x80\\xa6 you can see how my mind is working!', b'U have a secret admirer who is looking 2 make contact with U-find out who they R*reveal who thinks UR so special-call on 09058094594', b'I think your mentor is , but not 100 percent sure.', b'Sorry completely forgot * will pop em round this week if your still here?', b'Yeah whatever lol', b'Miss ya, need ya, want ya, love ya.', b'This weeks SavaMob member offers are now accessible. Just call 08709501522 for details! SavaMob, POBOX 139, LA3 2WU. Only \\xc2\\xa31.50/week. SavaMob - offers mobile!', b'HIYA STU WOT U UP 2.IM IN SO MUCH TRUBLE AT HOME AT MOMENT EVONE HATES ME EVEN U! WOT THE HELL AV I DONE NOW? Y WONT U JUST TELL ME TEXT BCK PLEASE LUV DAN ', b'You have won a guaranteed 32000 award or maybe even \\xc2\\xa31000 cash to claim ur award call free on 0800 ..... (18+). Its a legitimat efreefone number wat do u think???', b'Not a lot has happened here. Feels very quiet. Beth is at her aunts and charlie is working lots. Just me and helen in at the mo. How have you been? ', b'Reply with your name and address and YOU WILL RECEIVE BY POST a weeks completely free accommodation at various global locations www.phb1.com ph:08700435505150p', b'Sorry * was at the grocers.', b\"Don't b floppy... b snappy & happy! Only gay chat service with photo upload call 08718730666 (10p/min). 2 stop our texts call 08712460324\", b'By the way, make sure u get train to worc foregate street not shrub hill. Have fun night x', b'U 447801259231 have a secret admirer who is looking 2 make contact with U-find out who they R*reveal who thinks UR so special-call on 09058094597', b'YOUR CHANCE TO BE ON A REALITY FANTASY SHOW call now = 08707509020 Just 20p per min NTT Ltd, PO Box 1327 Croydon CR9 5WB 0870 is a national = rate call.', b'Bored housewives! Chat n date now! 0871750.77.11! BT-national rate 10p/min only from landlines!', b'todays vodafone numbers ending with 0089(my last four digits) are selected to received a \\xc2\\xa3350 award. If your number matches please call 09063442151 to claim your \\xc2\\xa3350 award', b'Hello hun how ru? Its here by the way. Im good. Been on 2 dates with that guy i met in walkabout so far. We have to meet up soon. Hows everyone else?', b'Er yep sure. Props?', b'FREE camera phones with linerental from 4.49/month with 750 cross ntwk mins. 1/2 price txt bundle deals also avble. Call 08001950382 or call2optout/J MF', b'Tee hee. Off to lecture, cheery bye bye.', b'88800 and 89034 are premium phone services call 08718711108', b'It\\xe2\\x80\\x98s reassuring, in this crazy world.', b\"Realy sorry-i don't recognise this number and am now confused :) who r u please?! \", b'Sex up ur mobile with a FREE sexy pic of Jordan! Just text BABE to 88600. Then every wk get a sexy celeb! PocketBabe.co.uk 4 more pics. 16 \\xc2\\xa33/wk 087016248', b\"I thought i'd get him a watch, just cos thats the kind of thing u get4an18th. And he loves so much!\", b'SMSSERVICES. for yourinclusive text credits, pls goto www.comuk.net login= 3qxj9 unsubscribe with STOP, no extra charge. help 08702840625.COMUK. 220-CM2 9AE', b':-( sad puppy noise', b'Hey mate. Spoke to the mag people. We\\xe2\\x80\\x98re on.  the is deliver by the end of the month. Deliver on the 24th sept. Talk later. ', b'Hey gorgeous man. My work mobile number is. Have a good one babe. Squishy Mwahs.', b'whatever, im pretty pissed off.', b'Thanks 4 your continued support Your question this week will enter u in2 our draw 4 \\xc2\\xa3100 cash. Name the NEW US President? txt ans to 80082', b'PRIVATE! Your 2003 Account Statement for shows 800 un-redeemed S. I. M. points. Call 08719899230 Identifier Code: 41685 Expires 07/11/04', b\"Free entry in 2 a weekly comp for a chance to win an ipod. Txt POD to 80182 to get entry (std txt rate) T&C's apply 08452810073 for details 18+\", b\"2p per min to call Germany 08448350055 from your BT line. Just 2p per min. Check PlanetTalkInstant.com for info & T's & C's. Text stop to opt out\", b'U have a Secret Admirer who is looking 2 make contact with U-find out who they R*reveal who thinks UR so special-call on 09065171142-stopsms-08718727870150ppm', b'URGENT! Your Mobile No 07808726822 was awarded a \\xc2\\xa32,000 Bonus Caller Prize on 02/09/03! This is our 2nd attempt to contact YOU! Call 0871-872-9758 BOX95QU', b'Ringtone Club: Gr8 new polys direct to your mobile every week !', b'Gosh that , what a pain. Spose I better come then.', b'TheMob>Hit the link to get a premium Pink Panther game, the new no. 1 from Sugababes, a crazy Zebra animation or a badass Hoody wallpaper-all 4 FREE!', b'Am new 2 club & dont fink we met yet Will B gr8 2 C U Please leave msg 2day wiv ur area 09099726553 reply promised CARLIE x Calls\\xc2\\xa31/minMobsmore LKPOBOX177HP51FL', b\"By the way, 'rencontre' is to meet again. Mountains dont....\", b'Hey Boys. Want hot XXX pics sent direct 2 ur phone? Txt PORN to 69855, 24Hrs free and then just 50p per day. To stop text STOPBCM SF WC1N3XX', b'You can stop further club tones by replying \"STOP MIX\" See my-tone.com/enjoy. html for terms. Club tones cost GBP4.50/week. MFL, PO Box 1146 MK45 2WT (2/3)', b'5 Free Top Polyphonic Tones call 087018728737, National Rate. Get a toppoly tune sent every week, just text SUBPOLY to 81618, \\xc2\\xa33 per pole. UnSub 08718727870.', b'You have been specially selected to receive a 2000 pound award! Call 08712402050 BEFORE the lines close. Cost 10ppm. 16+. T&Cs apply. AG Promo', b'Camera - You are awarded a SiPix Digital Camera! call 09061221066 fromm landline. Delivery within 28 days.', b'yay! finally lol. i missed our cinema trip last week :-(', b'This weekend is fine (an excuse not to do too much decorating)', b'All sounds good. Fingers . Makes it difficult to type', b'Moby Pub Quiz.Win a \\xc2\\xa3100 High Street prize if u know who the new Duchess of Cornwall will be? Txt her first name to 82277.unsub STOP \\xc2\\xa31.50 008704050406 SP Arrow', b'Kinda. First one gets in at twelve! Aah. Speak tomo', b'No * am working on the ringing u thing but have whole houseful of screaming brats so * am pulling my hair out! Loving u', b'I\\xe2\\x80\\x98ll have a look at the frying pan in case it\\xe2\\x80\\x98s cheap or a book perhaps. No that\\xe2\\x80\\x98s silly a frying pan isn\\xe2\\x80\\x98t likely to be a book', b'Thanks. Fills me with complete calm and reassurance! ', b'Pity, * was in mood for that. So...any other suggestions?', b\":-) yeah! Lol. Luckily i didn't have a starring role like you!\", b'from www.Applausestore.com MonthlySubscription@50p/msg max6/month T&CsC web age16 2stop txt stop', b'Marvel Mobile Play the official Ultimate Spider-man game (\\xc2\\xa34.50) on ur mobile right now. Text SPIDER to 83338 for the game & we ll send u a FREE 8Ball wallpaper', b'Hi, wkend ok but journey terrible. Wk not good as have huge back log of marking to do', b'Yes obviously, but you are the eggs-pert and the potato head\\xe2\\x80\\xa6 Speak soon! ', b'Congratulations ur awarded 500 of CD vouchers or 125gift guaranteed & Free entry 2 100 wkly draw txt MUSIC to 87066 TnCs www.Ldew.com1win150ppmx3age16', b\"Not yet. Just i'd like to keep in touch and it will be the easiest way to do that from barcelona. By the way how ru and how is the house?\", b\"Hi hope u r both ok, he said he would text and he hasn't, have u seen him, let me down gently please \", b'Well. You know what i mean. Texting', b\"Okey doke. I'm at home, but not dressed cos laying around ill! Speak to you later bout times and stuff. \", b'Thank you, winner notified by sms. Good Luck! No future marketing reply STOP to 84122 customer services 08450542832', b'Maybe?! Say hi to  and find out if  got his card. Great escape or wetherspoons? ', b'Can you do a mag meeting this avo at some point?', b\"What is this 'hex' place you talk of? Explain!\", b'U have a secret admirer who is looking 2 make contact with U-find out who they R*reveal who thinks UR so special-call on 09058094599', b'hanks lotsly!', b'Okay, good, no problem, and thanx!', b'Hi my email address has changed now it is ', b'Can not use foreign stamps in this country.', b'Ok. Not much to do here though. H&M Friday, cant wait. Dunno wot the hell im gonna do for another 3 weeks! Become a slob- oh wait, already done that! ', b'Greetings me, ! Consider yourself excused.', b'Hi did u decide wot 2 get 4 his bday if not ill prob jus get him a voucher frm virgin or sumfing ', b'Mobile Club: Choose any of the top quality items for your mobile. 7cfca1a', b'Can you use foreign stamps for whatever you send them off for? ', b'Can U get 2 phone NOW? I wanna chat 2 set up meet Call me NOW on 09096102316 U can cum here 2moro Luv JANE xx Calls\\xc2\\xa31/minmoremobsEMSPOBox45PO139WA', b'The whole car appreciated the last two! Dad and are having a map reading semi argument but apart from that things are going ok. P.', b'Hi its in durban are you still on this number', b'have * good weekend.', b\"* Thought I didn't see you.\", b'Welcome to UK-mobile-date this msg is FREE giving you free calling to 08719839835. Future mgs billed at 150p daily. To cancel send \"go stop\" to 89123', b\"Hello beautiful r u ok? I've kinda ad a row wiv and he walked out the pub?? I wanted a night wiv u Miss u \", b'Hm good morning, headache anyone? :-)', b'2/2 146tf150p', b'**FREE MESSAGE**Thanks for using the Auction Subscription Service. 18 . 150p/MSGRCVD 2 Skip an Auction txt OUT. 2 Unsubscribe txt STOP CustomerCare 08718726270', b'Erm. I thought the contract ran out the4th of october.', b'FREE GAME. Get Rayman Golf 4 FREE from the O2 Games Arcade. 1st get UR games settings. Reply POST, then save & activ8. Press 0 key for Arcade. Termsapply', b'Married local women looking for discreet action now! 5 real matches instantly to your phone. Text MATCH to 69969 Msg cost 150p 2 stop txt stop BCMSFWC1N3XX', b\"For ur chance to win a \\xc2\\xa3250 wkly shopping spree TXT: SHOP to 80878. T's&C's www.txt-2-shop.com custcare 08715705022, 1x150p/wk\", b'I have 2 sleeping bags, 1 blanket and paper and  phone details. Anything else?', b\"Want 2 get laid tonight? Want real Dogging locations sent direct 2 ur Mob? Join the UK's largest Dogging Network by txting MOAN to 69888Nyt. ec2a. 31p.msg@150p\", b'Promotion Number: 8714714 - UR awarded a City Break and could WIN a \\xc2\\xa3200 Summer Shopping spree every WK. Txt STORE to 88039 . SkilGme. TsCs087147403231Winawk!Age16 \\xc2\\xa31.50perWKsub', b'How come it takes so little time for a child who is afraid of the dark to become a teenager who wants to stay out all night?', b'Jolly good! By the way,  will give u tickets for sat eve 7.30. Speak before then x', b'You are now unsubscribed all services. Get tons of sexy babes or hunks straight to your phone! go to http://gotbabes.co.uk. No subscriptions.', b'Well done ENGLAND! Get the official poly ringtone or colour flag on yer mobile! text TONE or FLAG to 84199 NOW! Opt-out txt ENG STOP. Box39822 W111WX \\xc2\\xa31.50', b\"it's really getting me down just hanging around.\", b'Free entry to the gr8prizes wkly comp 4 a chance to win the latest Nokia 8800, PSP or \\xc2\\xa3250 cash every wk.TXT GREAT to 80878 http//www.gr8prizes.com 08715705022', b'Thanks for your ringtone order, ref number R836. Your mobile will be charged \\xc2\\xa34.50. Should your tone not arrive please call customer services on 09065069154', b'We made it! Eta at taunton is 12:30 as planned, hope that\\xe2\\x80\\x98s still okday?! Good to see you! :-xx', b'85233 FREE>Ringtone!Reply REAL', b\"The wine is flowing and i'm i have nevering..\", b'Bought one ringtone and now getting texts costing 3 pound offering more tones etc', b'It wont b until 2.15 as trying 2 sort house out, is that ok?', b'As a valued customer, I am pleased to advise you that following recent review of your Mob No. you are awarded with a \\xc2\\xa31500 Bonus Prize, call 09066364589', b'The current leading bid is 151. To pause this auction send OUT. Customer Care: 08718726270', b'Hi babe its Jordan, how r u? Im home from abroad and lonely, text me back if u wanna chat xxSP visionsms.com Text stop to stopCost 150p 08712400603', b'Summers finally here! Fancy a chat or flirt with sexy singles in yr area? To get MATCHED up just reply SUMMER now. Free 2 Join. OptOut txt STOP Help08714742804', b'Not thought bout it... || Drink in tap & spile at seven. || Is that pub on gas st off broad st by canal. || Ok?', b\"My friend, she's studying at warwick, we've planned to go shopping and to concert tmw, but it may be canceled, havn't seen  for ages, yeah we should get together sometime!\", b'Well I might not come then...', b'Dare i ask... Any luck with sorting out the car?', b'You are a winner U have been specially selected 2 receive \\xc2\\xa31000 cash or a 4* holiday (flights inc) speak to a live operator 2 claim 0871277810810', b'From next month get upto 50% More Calls 4 Ur standard network charge 2 activate Call 9061100010 C Wire3.net 1st4Terms PoBox84 M26 3UZ Cost \\xc2\\xa31.50 min MobcudB more', b'http//tms. widelive.com/index. wml?id=820554ad0a1705572711&first=true\\xc2\\xa1C C Ringtone\\xc2\\xa1', b'URGENT! Your Mobile number has been awarded with a \\xc2\\xa32000 prize GUARANTEED. Call 09061790121 from land line. Claim 3030. Valid 12hrs only 150ppm', b\" gonna let me know cos comes bak from holiday that day.  is coming. Don't4get2text me  number. \", b'Perhaps * is much easy give your account identification, so i will tomorrow at UNI', b\"You've won tkts to the EURO2004 CUP FINAL or \\xc2\\xa3800 CASH, to collect CALL 09058099801 b4190604, POBOX 7876150ppm\", b'URGENT! Your Mobile number has been awarded with a \\xc2\\xa32000 prize GUARANTEED. Call 09058094454 from land line. Claim 3030. Valid 12hrs only', b'Thanks for your subscription to Ringtone UK your mobile will be charged \\xc2\\xa35/month Please confirm by replying YES or NO. If you reply NO you will not be charged', b'Claim a 200 shopping spree, just call 08717895698 now! Have you won! MobStoreQuiz10ppm', b'I have lost 10 kilos as of today!', b'Hope you enjoyed your new content. text stop to 61610 to unsubscribe. help:08712400602450p Provided by tones2you.co.uk', b\"Aah bless! How's your arm?\", b'FREE MESSAGE Activate your 500 FREE Text Messages by replying to this message with the word FREE For terms & conditions, visit www.07781482378.com', b\"I don't know u and u don't know me. Send CHAT to 86688 now and let's find each other! Only 150p/Msg rcvd. HG/Suite342/2Lands/Row/W1J6HL LDN. 18 years or over.\", b'Filthy stories and GIRLS waiting for your', b'YES! The only place in town to meet exciting adult singles is now in the UK. Txt CHAT to 86688 now! 150p/Msg.', b'0A$NETWORKS allow companies to bill for SMS, so they are responsible for their \"suppliers\", just as a shop has to give a guarantee on what they sell. B. G.', b'Hey chief, can you give me a bell when you get this. Need to talk to you about this royal visit on the 1st june. ', b\"GSOH? Good with SPAM the ladies?U could b a male gigolo? 2 join the uk's fastest growing mens club reply ONCALL. mjzgroup. 08714342399.2stop reply STOP. msg@\\xc2\\xa31.50rcvd\", b'Now thats going to ruin your thesis!', b'Reply to win \\xc2\\xa3100 weekly! What professional sport does Tiger Woods play? Send STOP to 87239 to end service', b'FreeMsg: Fancy a flirt? Reply DATE now & join the UKs fastest growing mobile dating service. Msgs rcvd just 25p to optout txt stop to 83021. Reply DATE now!', b\"I wonder if you'll get this text?\", b'Allo! We have braved the buses and taken on the trains and triumphed. I mean we\\xe2\\x80\\x98re in b\\xe2\\x80\\x98ham. Have a jolly good rest of week', b'500 New Mobiles from 2004, MUST GO! Txt: NOKIA to No: 89545 & collect yours today!From ONLY \\xc2\\xa31 www.4-tc.biz 2optout 087187262701.50gbp/mtmsg18 TXTAUCTION', b'GENT! We are trying to contact you. Last weekends draw shows that you won a \\xc2\\xa31000 prize GUARANTEED. Call 09064012160. Claim Code K52. Valid 12hrs only. 150ppm', b'You have 1 new voicemail. Please call 08719181503', b'Well, I was about to give up cos they all said no they didn\\xe2\\x80\\x98t do one nighters. I persevered and found one but it is very cheap so i apologise in advance. It is just somewhere to sleep isnt it?', b\"Aah! A cuddle would be lush! I'd need lots of tea and soup before any kind of fumbling!\", b'Thanks for your ringtone order, reference number X49.Your mobile will be charged 4.50. Should your tone not arrive please call customer services 09065989182', b'Is that on the telly? No its Brdget Jones!', b'All done? All handed in? Celebrations in full swing yet?', b'R u in this continent?', b'Hey! Congrats 2u2. id luv 2 but ive had 2 go home!', b'You have WON a guaranteed \\xc2\\xa31000 cash or a \\xc2\\xa32000 prize. To claim yr prize call our customer service representative on 08714712412 between 10am-7pm Cost 10p', b'U are subscribed to the best Mobile Content Service in the UK for \\xc2\\xa33 per 10 days until you send STOP to 82324. Helpline 08706091795', b'You are guaranteed the latest Nokia Phone, a 40GB iPod MP3 player or a \\xc2\\xa3500 prize! Txt word: COLLECT to No: 83355! IBHltd LdnW15H 150p/Mtmsgrcvd18', b'Your B4U voucher w/c 27/03 is MARSMS. Log onto www.B4Utele.com for discount credit. To opt out reply stop. Customer care call 08717168528', b'Bognor it is! Should be splendid at this time of year.', b'Ah you see. You have to be in the lingo. I will let you know wot on earth it is when has finished making it!', b'would u fuckin believe it they didnt know i had thurs pre booked off so they re cancelled me AGAIN! that needs to b sacked', b'Money i have won wining number 946 wot do i do next', b\"FREE NOKIA Or Motorola with upto 12mths 1/2price linerental, 500 FREE x-net mins&100txt/mth FREE B'tooth*. Call Mobileupd8 on 08001950382 or call 2optout/D3WV\", b'Show ur colours! Euro 2004 2-4-1 Offer! Get an England Flag & 3Lions tone on ur phone! Click on the following service message for info!', b'Er yeah, i will b there at 15:26, sorry! Just tell me which pub/cafe to sit in and come wen u can', b'U have won a nokia 6230 plus a free digital camera. This is what u get when u win our FREE auction. To take part send NOKIA to 83383 now. POBOX114/14TCR/W1 16', b\"Pansy! You've been living in a jungle for two years! Its my driving you should be more worried about!\", b'Great News! Call FREEFONE 08006344447 to claim your guaranteed \\xc2\\xa31000 CASH or \\xc2\\xa32000 gift. Speak to a live operator NOW!', b'Panasonic & BluetoothHdset FREE. Nokia FREE. Motorola FREE & DoubleMins & DoubleTxt on Orange contract. Call MobileUpd8 on 08000839402 or call 2optout', b\"I'm gonna say no. Sorry. I would but as normal am starting to panic about time. Sorry again! Are you seeing on Tuesday?\", b'<Forwarded from 21870000>Hi - this is your Mailbox Messaging SMS alert. You have 4 messages. You have 21 matches. Please call back on 09056242159 to retrieve your messages and matches', b'did u get that message', b\"Annoying isn't it.\", b'Shit that is really shocking and scary, cant imagine for a second. Def up for night out. Do u think there is somewhere i could crash for night, save on taxi?', b'Ringtone Club: Get the UK singles chart on your mobile each week and choose any top quality ringtone! This message is free of charge.', b'I am back. Good journey! Let me know if you need any of the receipts. Shall i tell you like the pendent?', b'sexy sexy cum and text me im wet and warm and ready for some porn! u up for some fun? THIS MSG IS FREE RECD MSGS 150P INC VAT 2 CANCEL TEXT STOP', b'URGENT! Your Mobile No was awarded a \\xc2\\xa32,000 Bonus Caller Prize on 1/08/03! This is our 2nd attempt to contact YOU! Call 0871-4719-523 BOX95QU BT National Rate', b\"that would be good \\xe2\\x80\\xa6 I'll phone you tomo lunchtime, shall I, to organise something?\", b'Nationwide auto centre (or something like that) on Newport road. I liked them there', b'Had your mobile 10 mths? Update to the latest Camera/Video phones for FREE. KEEP UR SAME NUMBER, Get extra free mins/texts. Text YES for a call', b'happened here while you were adventuring', b'Hi this is Amy, we will be sending you a free phone number in a couple of days, which will give you an access to all the adult parties...', b'Hi. Customer Loyalty Offer:The NEW Nokia6650 Mobile from ONLY \\xc2\\xa310 at TXTAUCTION! Txt word: START to No: 81151 & get yours Now! 4T&Ctxt TC 150p/MTmsg', b'This msg is for your mobile content order It has been resent as previous attempt failed due to network error Queries to customersqueries@netvision.uk.com', b'I take it the post has come then! You must have 1000s of texts now! Happy reading. My one from wiv hello caroline at the end is my favourite. Bless him', b\"URGENT! Last weekend's draw shows that you have won \\xc2\\xa31000 cash or a Spanish holiday! CALL NOW 09050000332 to claim. T&C: RSTM, SW7 3SS. 150ppm\", b'Dear Voucher Holder, To claim this weeks offer, at you PC please go to http://www.e-tlp.co.uk/reward. Ts&Cs apply.', b'Double Mins & Double Txt & 1/2 price Linerental on Latest Orange Bluetooth mobiles. Call MobileUpd8 for the very latest offers. 08000839402 or call2optout/LF56', b'complimentary 4 STAR Ibiza Holiday or \\xc2\\xa310,000 cash needs your URGENT collection. 09066364349 NOW from Landline not to lose out! Box434SK38WP150PPM18+', b'goldviking (29/M) is inviting you to be his friend. Reply YES-762 or NO-762 See him: www.SMS.ac/u/goldviking STOP? Send STOP FRND to 62468', b'What is the plural of the noun research?', b'Are you driving or training?', b'FREEMSG: Our records indicate you may be entitled to 3750 pounds for the Accident you had. To claim for free reply with YES to this msg. To opt out text STOP', b'Check Out Choose Your Babe Videos @ sms.shsex.netUN fgkslpoPW fgkslpo', b'Bill, as in: Are there any letters for me. i\\xe2\\x80\\x99m expecting one from orange that isn\\xe2\\x80\\x99t a bill but may still say orange on it.', b'Hi. Hope ur day * good! Back from walk, table booked for half eight. Let me know when ur coming over.', b'Customer service annoncement. You have a New Years delivery waiting for you. Please call 07046744435 now to arrange delivery', b'There are some nice pubs near here or there is Frankie n Bennys near the warner cinema?', b'Serious? What like proper tongued her', b'WOW! The Boys R Back. TAKE THAT 2007 UK Tour. Win VIP Tickets & pre-book with VIP Club. Txt CLUB to 81303. Trackmarque Ltd info@vipclub4u.', b\"Hello, yeah i've just got out of the bath and need to do my hair so i'll come up when i'm done, yeah?\", b\"Sorry to be a pain. Is it ok if we meet another night? I spent late afternoon in casualty and that means i haven't done any of y stuff42moro and that includes all my time sheets and that. Sorry. \", b'Hi. Wk been ok - on hols now! Yes on for a bit of a run. Forgot that i have hairdressers appointment at four so need to get home n shower beforehand. Does that cause prob for u?\"', b'Hello! Good week? Fancy a drink or something later?', b' what number do u live at? Is it 11?', b'Urgent UR awarded a complimentary trip to EuroDisinc Trav, Aco&Entry41 Or \\xc2\\xa31000. To claim txt DIS to 87121 18+6*\\xc2\\xa31.50(moreFrmMob. ShrAcomOrSglSuplt)10, LS1 3AJ', b\"Hope ur head doesn't hurt 2 much ! Am ploughing my way through a pile of ironing ! Staying in with a chinky tonight come round if you like.\", b'You have 1 new voicemail. Please call 08719181513.', b'Double Mins & 1000 txts on Orange tariffs. Latest Motorola, SonyEricsson & Nokia with Bluetooth FREE! Call MobileUpd8 on 08000839402 or call2optout/HF8', b'Auction round 4. The highest bid is now \\xc2\\xa354. Next maximum bid is \\xc2\\xa371. To bid, send BIDS e. g. 10 (to bid \\xc2\\xa310) to 83383. Good luck.', b'Customer service announcement. We recently tried to make a delivery to you but were unable to do so, please call 07099833605 to re-schedule. Ref:9280114', b'Are we doing the norm tomorrow? I finish just a 4.15 cos of st tests. Need to sort library stuff out at some point tomo - got letter from today - access til end march so i better get move on!', b'Thanks for your Ringtone Order, Reference T91. You will be charged GBP 4 per week. You can unsubscribe at anytime by calling customer services on 09057039994', b'Que pases un buen tiempo or something like that', b'Urgent Please call 09066612661 from landline. \\xc2\\xa35000 cash or a luxury 4* Canary Islands Holiday await collection. T&Cs SAE award. 20M12AQ. 150ppm. 16+ \\xe2\\x80\\x9c', b'SMS. ac sun0819 posts HELLO:\"You seem cool, wanted to say hi. HI!!!\" Stop? Send STOP to 62468', b'RECPT 1/3. You have ordered a Ringtone. Your order is being processed...', b'Does cinema plus drink appeal tomo? * Is a fr thriller by director i like on at mac at 8.30.', b'What do U want for Xmas? How about 100 free text messages & a new video phone with half price line rental? Call free now on 0800 0721072 to find out more!', b'BangBabes Ur order is on the way. U SHOULD receive a Service Msg 2 download UR content. If U do not, GoTo wap. bangb. tv on UR mobile internet/service menu', b\"Thanks honey but still haven't heard anything I will leave it a bit longer so not 2 crowd him and will try later - great advice thanks hope cardiff is still there!\", b'* You gonna ring this weekend or wot?', b'Have a good trip. Watch out for . Remember when you get back we must decide about easter.', b'Erm... Woodland avenue somewhere. Do you get the parish magazine, his telephone number will be in there.', b'TheMob>Yo yo yo-Here comes a new selection of hot downloads for our members to get for FREE! Just click & open the next link sent to ur fone...', b\"FreeMsg Today's the day if you are ready! I'm horny & live in your town. I love sex fun & games! Netcollex Ltd 08700621170150p per msg reply Stop to end\", b'SMS SERVICES. for your inclusive text credits, pls goto www.comuk.net login= 3qxj9 unsubscribe with STOP, no extra charge. help 08702840625.COMUK. 220-CM2 9AE', b\"Thought praps you meant another one. Goodo! I'll look tomorrow \", b'Did he say how fantastic I am by any chance, or anything need a bigger life lift as losing the will 2 live, do you think I would be the first person 2 die from N V Q? ', b'Hottest pics straight to your phone!! See me getting Wet and Wanting, just for you xx Text PICS to 89555 now! txt costs 150p textoperator g696ga 18 XxX', b'Sunshine Quiz! Win a super Sony DVD recorder if you canname the capital of Australia? Text MQUIZ to 82277. B', b'Do you want a New Nokia 3510i colour phone DeliveredTomorrow? With 300 free minutes to any mobile + 100 free texts + Free Camcorder reply or call 08000930705.', b'Your daily text from me \\xe2\\x80\\x93 a favour this time', b\"Yeah he got in at 2 and was v apologetic. n had fallen out and she was actin like spoilt child and he got caught up in that. Till 2! But we won't go there! Not doing too badly cheers. You? \", b'Urgent! Please call 09061213237 from landline. \\xc2\\xa35000 cash or a luxury 4* Canary Islands Holiday await collection. T&Cs SAE PO Box 177. M227XY. 150ppm. 16+', b'Okay. No no, just shining on. That was meant to be signing, but that sounds better.', b'It certainly puts things into perspective when something like this happens', b'How about getting in touch with folks waiting for company? Just txt back your NAME and AGE to opt in! Enjoy the community (150p/SMS)', b'U were outbid by simonwatson5120 on the Shinco DVD Plyr. 2 bid again, visit sms. ac/smsrewards 2 end bid notifications, reply END OUT', b'ASKED 3MOBILE IF 0870 CHATLINES INCLU IN FREE MINS. INDIA CUST SERVs SED YES. L8ER GOT MEGA BILL. 3 DONT GIV A SHIT. BAILIFF DUE IN DAYS. I O \\xc2\\xa3250 3 WANT \\xc2\\xa3800', b'You are being ripped off! Get your mobile content from www.clubmoby.com call 08717509990 poly/true/Pix/Ringtones/Games six downloads for only 3', b'Hello. They are going to the village pub at 8 so either come here or there accordingly. Ok?', b'Santa Calling! Would your little ones like a call from Santa Xmas eve? Call 09058094583 to book your time.', b'Oi when you gonna ring', b'Free tones Hope you enjoyed your new content. text stop to 61610 to unsubscribe. help:08712400602450p Provided by tones2you.co.uk', b'Just hopeing that wasn\\xe2\\x80\\x98t too pissed up to remember and has gone off to his sisters or something!', b'Goal! Arsenal 4 (Henry, 7 v Liverpool 2 Henry scores with a simple shot from 6 yards from a pass by Bergkamp to give Arsenal a 2 goal margin after 78 mins.', b\"It's justbeen overa week since we broke up and already our brains are going to mush!\", b'Bbq this sat at mine from 6ish. Ur welcome 2 come', b'thesmszone.com lets you send free anonymous and masked messages..im sending this message from there..do you see the potential for abuse???', b'Kind of. Took it to garage. Centre part of exhaust needs replacing. Part ordered n taking it to be fixed tomo morning.', b'A lot of this sickness thing going round. Take it easy. Hope u feel better soon. Lol', b'Your bill at 3 is \\xc2\\xa333.65 so thats not bad!', b'PRIVATE! Your 2003 Account Statement for shows 800 un-redeemed S. I. M. points. Call 08715203652 Identifier Code: 42810 Expires 29/10/0', b'He said that he had a right giggle when he saw u again! You would possibly be the first person2die from NVQ, but think how much you could for! ', b'Ur ringtone service has changed! 25 Free credits! Go to club4mobiles.com to choose content now! Stop? txt CLUB STOP to 87070. 150p/wk Club4 PO Box1146 MK45 2WT', b'Hello.How u doing?What u been up 2?When will u b moving out of the flat, cos I will need to arrange to pick up the lamp, etc. Take care. Hello caroline!', b'Looks like u wil b getting a headstart im leaving here bout 2.30ish but if u r desperate for my company I could head in earlier-we were goin to meet in rummer.', b'Dear Subscriber ur draw 4 \\xc2\\xa3100 gift voucher will b entered on receipt of a correct ans. When was Elvis Presleys Birthday? TXT answer to 80062', b\"Hasn't that been the pattern recently crap weekends?\", b'Dorothy@kiefer.com (Bank of Granite issues Strong-Buy) EXPLOSIVE PICK FOR OUR MEMBERS *****UP OVER 300% *********** Nasdaq Symbol CDGT That is a $5.00 per..', b'Text & meet someone sexy today. U can find a date or even flirt its up to U. Join 4 just 10p. REPLY with NAME & AGE eg Sam 25. 18 -msg recd@thirtyeight pence', b' and  picking them up from various points', b\"All was well until slightly disastrous class this pm with my fav darlings! Hope day off ok. Coffee wld be good as can't stay late tomorrow. Same time + place as always?\", b'Not tonight mate. Catching up on some sleep. This is my new number by the way. ', b'what I meant to say is cant wait to see u again getting bored of this bridgwater banter', b\"FreeMsg Hey there darling it's been 3 week's now and no word back! I'd like some fun you up for it still? Tb ok! XxX std chgs to send, \\xc2\\xa31.50 to rcv\", b'I am hot n horny and willing I live local to you - text a reply to hear strt back from me 150p per msg Netcollex LtdHelpDesk: 02085076972 reply Stop to end', b'Thanks for the Vote. Now sing along with the stars with Karaoke on your mobile. For a FREE link just reply with SING now.', b'Buy Space Invaders 4 a chance 2 win orig Arcade Game console. Press 0 for Games Arcade (std WAP charge) See o2.co.uk/games 4 Terms + settings. No purchase', b'Cant think of anyone with * spare room off * top of my head', b'And you! Will expect you whenever you text! Hope all goes well tomo ', b'sorry, no, have got few things to do. may be in pub later.', b\"Orange customer, you may now claim your FREE CAMERA PHONE upgrade for your loyalty. Call now on 0207 153 9996. Offer ends 14thMarch. T&C's apply. Opt-out availa\", b'Oops. 4 got that bit.', b'Ha. You don\\xe2\\x80\\x98t know either. I did a a clever but simple thing with pears the other day, perfect for christmas.', b'PRIVATE! Your 2003 Account Statement for shows 800 un-redeemed S. I. M. points. Call 08718738002 Identifier Code: 48922 Expires 21/11/04', b'Free msg: Single? Find a partner in your area! 1000s of real people are waiting to chat now!Send CHAT to 62220Cncl send STOPCS 08717890890\\xc2\\xa31.50 per msg', b'Camera quite good, 10.1mega pixels, 3optical and 5digital dooms. Have a lovely holiday, be safe and i hope you hav a good journey! Happy new year to you both! See you in a couple of weeks! ', b'Get 3 Lions England tone, reply lionm 4 mono or lionp 4 poly. 4 more go 2 www.ringtones.co.uk, the original n best. Tones 3GBP network operator rates apply.', b'<Forwarded from 21870000>Hi - this is your Mailbox Messaging SMS alert. You have 40 matches. Please call back on 09056242159 to retrieve your messages and matches cc100p/min', b'Had your contract mobile 11 Mnths? Latest Motorola, Nokia etc. all FREE! Double Mins & Text on Orange tariffs. TEXT YES for callback, no to remove from records.', b'Er, hello, things didn\\xe2\\x80\\x98t quite go to plan \\xe2\\x80\\x93 is limping slowly home followed by aa and with exhaust hanging off', b'URGENT! You have won a 1 week FREE membership in our \\xc2\\xa3100,000 Prize Jackpot! Txt the word: CLAIM to No: 81010 T&C www.dbuk.net LCCLTD POBOX 4403LDNW1A7RW18', b'Congrats! 1 year special cinema pass for 2 is yours. call 09061209465 now! C Suprman V, Matrix3, StarWars3, etc all 4 FREE! bx420-ip4-5we. 150pm. Dont miss out!', b'ringtoneking 84484', b'Men like shorter ladies. Gaze up into his eyes.', b'Dear Voucher Holder, To claim this weeks offer, at you PC please go to http://www.e-tlp.co.uk/expressoffer Ts&Cs apply. To stop texts, txt STOP to 80062', b'January Male Sale! Hot Gay chat now cheaper, call 08709222922. National rate from 1.5p/min cheap to 7.8p/min peak! To stop texts call 08712460324 (10p/min)', b'No! But we found a diff farm shop to buy some cheese. On way back now, can i call in?', b'Dont flatter yourself... Tell that man of mine two pints of carlin in ten minutes please.... ', b\"Not really dude, have no friends i'm afraid :(\", b'Dear Voucher Holder, 2 claim this weeks offer, at your PC go to http://www.e-tlp.co.uk/expressoffer Ts&Cs apply.2 stop texts txt STOP to 80062.', b'Ur cash-balance is currently 500 pounds - to maximize ur cash-in now send GO to 86688 only 150p/msg. CC 08718720201 HG/Suite342/2Lands Row/W1J6HL', b'Want a new Video Phone? 750 anytime any network mins? Half price line rental free text for 3 months? Reply or call 08000930705 for free delivery', b'PRIVATE! Your 2003 Account Statement for 07808 XXXXXX shows 800 un-redeemed S. I. M. points. Call 08719899217 Identifier Code: 41685 Expires 07/11/04', b'FREE>Ringtone! Reply REAL or POLY eg REAL1 1. PushButton 2. DontCha 3. BabyGoodbye 4. GoldDigger 5. WeBeBurnin 1st tone FREE and 6 more when u join for \\xc2\\xa33/wk', b\"Don't worry, * is easy once have ingredients!\", b\"Glad it went well :) come over at 11 then we'll have plenty of time before claire goes to work.\", b\"I don't quite know what to do. I still can't get hold of anyone. I cud pick you up bout 7.30pm and we can see if they're in the pub?\", b'Hello. Damn this christmas thing. I think i have decided to keep this mp3 that doesnt work.', b'Ah, well that confuses things, doesn\\xe2\\x80\\x98t it?', b'Urgent! call 09066350750 from your landline. Your complimentary 4* Ibiza Holiday or 10,000 cash await collection SAE T&Cs PO BOX 434 SK3 8WP 150 ppm 18+', b'Reckon need to be in town by eightish to walk from * carpark.', b'Not getting anywhere with this damn job hunting over here!', b\"Hmm ok, i'll stay for like an hour cos my eye is really sore!\", b'Ok not a problem will get them a taxi. C ing  tomorrow and tuesday. On tuesday think we r all going to the cinema. ', b'3 FREE TAROT TEXTS! Find out about your love life now! TRY 3 FOR FREE! Text CHANCE to 85555 16 only! After 3 Free, Msgs \\xc2\\xa31.50 each', b'Dear Voucher Holder 2 claim your 1st class airport lounge passes when using Your holiday voucher call 08704439680. When booking quote 1st class x 2', b'They can try! They can get lost, in fact. Tee hee', b\"Refused a loan? Secured or Unsecured? Can't get credit? Call free now 0800 195 6669 or text back 'help' & we will!\", b'Last chance 2 claim ur \\xc2\\xa3150 worth of discount vouchers-Text YES to 85023 now!SavaMob-member offers mobile T Cs 08717898035. \\xc2\\xa33.00 Sub. 16 . Remove txt X or STOP', b'Just got part Nottingham - 3 hrs 63miles. Good thing i love my man so much, but only doing 40mph. Hey ho', b'And maybe some pressies', b'Okey dokey, i\\xe2\\x80\\x98ll be over in a bit just sorting some stuff out.', b'Yes i will be there. Glad you made it.', b'Hey cutie. How goes it? Here in WALES its kinda ok. There is like hills and shit but i still avent killed myself. ', b'Someone U know has asked our dating service 2 contact you! Cant Guess who? CALL 09058091854 NOW all will be revealed. PO BOX385 M6 6WU', b':) ', b'You all ready for * big day tomorrow?', b'tddnewsletter@emc1.co.uk (More games from TheDailyDraw) Dear Helen, Dozens of Free Games - with great prizesWith..', b'XXXMobileMovieClub: To use your credit, click the WAP link in the next txt message or click here>> http://wap. xxxmobilemovieclub.com?n=QJKGIGHJJGCBL', b\"Dont give a monkeys wot they think and i certainly don't mind. Any friend of mine&all that! Just don't sleep wiv , that wud be annoyin!\", b'Yes, my reg is  Ciao!', b'PRIVATE! Your 2003 Account Statement for 078', b'* Will have two more cartons off u and is very pleased with shelves', b'For your chance to WIN a FREE Bluetooth Headset then simply reply back with \"ADP\"', b'Its normally hot mail. Com you see!', b'Whats that coming over the hill..... Is it a monster! Hope you have a great day. Things r going fine here, busy though! ', b'I like cheap! But i\\xe2\\x80\\x98m happy to splash out on the wine if it makes you feel better..', b'I\\xe2\\x80\\x98ve got some salt, you can rub it in my open wounds if you like!', b'HOT LIVE FANTASIES call now 08707509020 Just 20p per min NTT Ltd, PO Box 1327 Croydon CR9 5WB 0870 is a national rate call', b\"Free entry in 2 a wkly comp to win FA Cup final tkts 21st May 2005. Text FA to 87121 to receive entry question(std txt rate)T&C's apply 08452810075over18's\", b\"Wrong phone! This phone! I answer this one but assume the other is people i don't well\", b'You have 1 new message. Please call 08712400200.', b'4 oclock at mine. Just to bash out a flat plan.', b\"Dear U've been invited to XCHAT. This is our final attempt to contact u! Txt CHAT to 86688 150p/MsgrcvdHG/Suite342/2Lands/Row/W1J6HL LDN 18 yrs\", b'here is my new address -apples&pairs&all that malarky', b'Email AlertFrom: Jeri StewartSize: 2KBSubject: Low-cost prescripiton drvgsTo listen to email call 123', b\"Want 2 get laid tonight? Want real Dogging locations sent direct 2 ur mob? Join the UK's largest Dogging Network bt Txting GRAVEL to 69888! Nt. ec2a. 31p.msg@150p\", b'Should I have picked up a receipt or something earlier', b'Ur cash-balance is currently 500 pounds - to maximize ur cash-in now send COLLECT to 83600 only 150p/msg. CC: 08718720201 PO BOX 114/14 TCR/W1', b'You have 1 new message. Please call 08718738034.', b'Our dating service has been asked 2 contact U by someone shy! CALL 09058091870 NOW all will be revealed. POBox84, M26 3UZ 150p', b'Do you want 750 anytime any network mins 150 text and a NEW video phone for only five pounds per week call 08000776320 now or reply for delivery Tomorrow', b'YOU ARE CHOSEN TO RECEIVE A \\xc2\\xa3350 AWARD! Pls call claim number 09066364311 to collect your award which you are selected to receive as a valued mobile customer.', b\"I like to think there's always the possibility of being in a pub later.\", b'Free msg. Sorry, a service you ordered from 81303 could not be delivered as you do not have sufficient credit. Please top up to receive the service.', b'We are at grandmas. Oh dear, u still ill? I felt Shit this morning but i think i am just hungover! Another night then. We leave on sat.', b\"Get a FREE mobile video player FREE movie. To collect text GO to 89105. Its free! Extra films can be ordered t's and c's apply. 18 yrs only\", b'I think just yourself \\xe2\\x80\\xa6Thanks and see you tomo', b'say thanks2. ', b'tap & spile at seven. * Is that pub on gas st off broad st by canal. Ok?', b'Sorry. || mail? || ', b'URGENT! We are trying to contact U. Todays draw shows that you have won a \\xc2\\xa3800 prize GUARANTEED. Call 09050001808 from land line. Claim M95. Valid12hrs only', b\"I'll text now! All creepy like so he won't think that we forgot\", b'u r subscribed 2 TEXTCOMP 250 wkly comp. 1st wk?s free question follows, subsequent wks charged@150p/msg.2 unsubscribe txt STOP 2 84128,custcare 08712405020', b'You have an important customer service announcement. Call FREEPHONE 0800 542 0825 now!', b'Oh yes I can speak txt 2 u no! Hmm. Did u get  email?', b'U can WIN \\xc2\\xa3100 of Music Gift Vouchers every week starting NOW Txt the word DRAW to 87066 TsCs www.Idew.com SkillGame, 1Winaweek, age16. 150ppermessSubscription', b\"FREE2DAY sexy St George's Day pic of Jordan!Txt PIC to 89080 dont miss out, then every wk a saucy celeb!4 more pics c PocketBabe.co.uk 0870241182716 \\xc2\\xa33/wk\", b\"LookAtMe!: Thanks for your purchase of a video clip from LookAtMe!, you've been charged 35p. Think you can do better? Why not send a video in a MMSto 32323.\", b'Tone Club: Your subs has now expired 2 re-sub reply MONOC 4 monos or POLYC 4 polys 1 weekly @ 150p per week Txt STOP 2 stop This msg free Stream 0871212025016', b\"Come round, it's . \", b'FREE for 1st week! No1 Nokia tone 4 ur mob every week just txt NOKIA to 87077 Get txting and tell ur mates. zed POBox 36504 W45WQ norm150p/tone 16+', b\"1000's of girls many local 2 u who r virgins 2 this & r ready 2 4fil ur every sexual need. Can u 4fil theirs? text CUTE to 69911(\\xc2\\xa31.50p. m)\", b'PRIVATE! Your 2004 Account Statement for 078498****7 shows 786 unredeemed Bonus Points. To claim call 08719180219 Identifier Code: 45239 Expires 06.05.05', b\"Please call Amanda with regard to renewing or upgrading your current T-Mobile handset free of charge. Offer ends today. Tel 0845 021 3680 subject to T's and C's\", b'EASTENDERS TV Quiz. What FLOWER does DOT compare herself to? D= VIOLET E= TULIP F= LILY txt D E or F to 84025 NOW 4 chance 2 WIN \\xc2\\xa3100 Cash WKENT/150P16+', b'Txt: CALL to No: 86888 & claim your reward of 3 hours talk time to use from your phone now! Subscribe6GBP/mnth inc 3hrs 16 stop?txtStop www.gamb.tv', b'PS U no ur a grown up now right?', b'Goodo! Yes we must speak friday - egg-potato ratio for tortilla needed! ', b'We are hoping to get away by 7, from Langport. You still up for town tonight?', b'FREE RING TONE just text \"POLYS\" to 87131. Then every week get a new tone. 0870737910216yrs only \\xc2\\xa31.50/wk.', b'For fear of fainting with the of all that housework you just did? Quick have a cuppa', b\"Can you let me know details of fri when u find out cos I'm not in tom or fri. mentionned chinese. Thanks\", b'Dont forget you can place as many FREE Requests with 1stchoice.co.uk as you wish. For more Information call 08707808226.', b'I got another job! The one at the hospital doing data analysis or something, starts on monday! Not sure when my thesis will got finished', b\"Evening * v good if somewhat event laden. Will fill you in, don't you worry \\xe2\\x80\\xa6 Head * ok but throat * wrecked. See you at six then!\", b'Well am officially in a philosophical hole, so if u wanna call am at home ready to be saved!', b'SMS. ac Blind Date 4U!: Rodds1 is 21/m from Aberdeen, United Kingdom. Check Him out http://img. sms. ac/W/icmb3cktz8r7!-4 no Blind Dates send HIDE', b'For taking part in our mobile survey yesterday! You can now have 500 texts 2 use however you wish. 2 get txts just send TXT to 80160 T&C www.txt43.com 1.50p', b\"Do you ever notice that when you're driving, anyone going slower than you is an idiot and everyone driving faster than you is a maniac?\", b'Free Msg: get Gnarls Barkleys \"Crazy\" ringtone TOTALLY FREE just reply GO to this message right now!', b\" said kiss, kiss, i can't do the sound effects! He is a gorgeous man isn't he! Kind of person who needs a smile to brighten his day! \", b'Hi 07734396839 IBH Customer Loyalty Offer: The NEW NOKIA6600 Mobile from ONLY \\xc2\\xa310 at TXTAUCTION!Txt word:START to No:81151 & get Yours Now!4T&', b'As a Registered Subscriber yr draw 4 a \\xc2\\xa3100 gift voucher will b entered on receipt of a correct ans. When are the next olympics. Txt ans to 80062', b\"FreeMsg: Hey - I'm Buffy. 25 and love to satisfy men. Home alone feeling randy. Reply 2 C my PIX! QlynnBV Help08700621170150p a msg Send stop to stop txts\", b'We tried to contact you re your reply to our offer of a Video Phone 750 anytime any network mins Half Price Line Rental Camcorder Reply or call 08000930705', b'* Was really good to see you the other day dudette, been missing you!', b\"What are you doing in langport? Sorry, but I'll probably be in bed by 9pm. It sucks being ill at xmas! When do you and go2sri lanka? \", b'Want to funk up ur fone with a weekly new tone reply TONES2U 2 this text. www.ringtones.co.uk, the original n best. Tones 3GBP network operator rates apply', b\"Have you heard about that job? I'm going to that wildlife talk again tonight if u want2come. Its that2worzels and a wizzle or whatever it is?! \", b'URGENT! We are trying to contact U. Todays draw shows that you have won a \\xc2\\xa32000 prize GUARANTEED. Call 09058094507 from land line. Claim 3030. Valid 12hrs only', b'Hi. || Do u want | to join me with sts later? || Meeting them at five. || Call u after class.', b'PRIVATE! Your 2003 Account Statement for shows 800 un-redeemed S.I.M. points. Call 08715203685 Identifier Code:4xx26 Expires 13/10/04', b'No. Yes please. Been swimming?', b'SMS. ac JSco: Energy is high, but u may not know where 2channel it. 2day ur leadership skills r strong. Psychic? Reply ANS w/question. End? Reply END JSCO', b\"That's a shame! Maybe cld meet for few hrs tomo?\", b'Congrats! 2 mobile 3G Videophones R yours. call 09061744553 now! videochat wid ur mates, play java games, Dload polyH music, noline rentl. bx420. ip4. 5we. 150pm', b\"My sort code is  and acc no is . The bank is natwest. Can you reply to confirm i've sent this to the right person!\", b'Ever thought about living a good life with a perfect partner? Just txt back NAME and AGE to join the mobile community. (100p/SMS)', b'18 days to Euro2004 kickoff! U will be kept informed of all the latest news and results daily. Unsubscribe send GET EURO STOP to 83222.', b'Back in brum! Thanks for putting us up and keeping us all and happy. See you soon ', b'\\xe2\\x80\\xa6 and don\\xe2\\x80\\x98t worry we\\xe2\\x80\\x98ll have finished by march \\xe2\\x80\\xa6 ish!', b'Will do. Was exhausted on train this morning. Too much wine and pie. You sleep well too', b'HMV BONUS SPECIAL 500 pounds of genuine HMV vouchers to be won. Just answer 4 easy questions. Play Now! Send HMV to 86688 More info:www.100percent-real.com', b\"I've got it down to a tea. not sure which flavour\", b'Was the farm open?', b'We have new local dates in your area - Lots of new people registered in YOUR AREA. Reply DATE to start now! 18 only www.flirtparty.us REPLYS150', b'Shop till u Drop, IS IT YOU, either 10K, 5K, \\xc2\\xa3500 Cash or \\xc2\\xa3100 Travel voucher, Call now, 09064011000. NTT PO Box CR01327BT fixedline Cost 150ppm mobile vary', b\"I take it we didn't have the phone callon Friday. Can we assume we won't have it this year now?\", b\"What i mean was i left too early to check, cos i'm working a 9-6.\", b'Can not use foreign stamps in this country. Good lecture .', b'Mila, age23, blonde, new in UK. I look sex with UK guys. if u like fun with me. Text MTALK to 69866.18 . 30pp/txt 1st 5free. \\xc2\\xa31.50 increments. Help08718728876', b'What * u wearing?', b\"FreeMsg Why haven't you replied to my text? I'm Randy, sexy, female and live local. Luv to hear from u. Netcollex Ltd 08700621170150p per msg reply Stop to end\", b'Welcome to Select, an O2 service with added benefits. You can now call our specially trained advisors FREE from your mobile by dialling 402.', b'Early bird! Any purchases yet?', b\"Neither [in sterm voice] - i'm studying. All fine with me! Not sure the  thing will be resolved, tho. Anyway. Have a fab hols\", b'Have you heard from this week?', b\"Wow didn't think it was that common. I take it all back ur not a freak! Unless u chop it off:-)\", b'We took hooch for a walk toaday and i fell over! Splat! Grazed my knees and everything! Should have stayed at home! See you tomorrow! ', b'Well done, blimey, exercise, yeah, i kinda remember wot that is, hmm. ', b\"Twinks, bears, scallies, skins and jocks are calling now. Don't miss the weekend's fun. Call 08712466669 at 10p/min. 2 stop texts call 08712460324(nat rate)\", b'Sunshine Hols. To claim ur med holiday send a stamped self address envelope to Drinks on Us UK, PO Box 113, Bray, Wicklow, Eire. Quiz Starts Saturday! Unsub Stop', b'FreeMSG You have been awarded a FREE mini DIGITAL CAMERA, just reply SNAP to collect your prize! (quizclub Opt out? Stop 80122300p/wk SP:RWM Ph:08704050406)', b'Sunshine Quiz Wkly Q! Win a top Sony DVD player if u know which country the Algarve is in? Txt ansr to 82277. \\xc2\\xa31.50 SP:Tyrone', b\"see you then, we're all christmassy here!\", b'FreeMsg>FAV XMAS TONES!Reply REAL', b\"Its on in engalnd! But telly has decided it won't let me watch it and mia and elliot were kissing! Damn it!\", b'HOT LIVE FANTASIES call now 08707509020 Just 20p per min NTT Ltd, PO Box 1327 Croydon CR9 5WB 0870..k', b'Cool, we shall go and see, have to go to tip anyway. Are you at home, got something to drop in later? So lets go to town tonight! Maybe mum can take us in.', b\"Hi , where are you? We're at  and they're not keen to go out i kind of am but feel i shouldn't so can we go out tomo, don't mind do you?\", b'PRIVATE! Your 2003 Account Statement for 07808247860 shows 800 un-redeemed S. I. M. points. Call 08719899229 Identifier Code: 40411 Expires 06/11/04', b'Shall I bring us a bottle of wine to keep us amused? Only joking! I\\xe2\\x80\\x98ll bring one anyway', b'Ok that would b lovely, if u r sure. Think about wot u want to do, drinkin, dancin, eatin, cinema, in, out, about... Up to u! Wot about ? ', b'Rightio. 11.48 it is then. Well arent we all up bright and early this morning.', b'Wow v v impressed. Have funs shopping!', b\"Yes but can we meet in town cos will go to gep and then home. You could text at bus stop. And don't worry we'll have finished by march \\xe2\\x80\\xa6 ish!\", b'Burger King - Wanna play footy at a top stadium? Get 2 Burger King before 1st Sept and go Large or Super with Coca-Cola and walk out a winner', b'am up to my eyes in philosophy', b'Please call our customer service representative on FREEPHONE 0808 145 4742 between 9am-11pm as you have WON a guaranteed \\xc2\\xa31000 cash or \\xc2\\xa35000 prize!', b'Win the newest \\xe2\\x80\\x9cHarry Potter and the Order of the Phoenix (Book 5) reply HARRY, answer 5 questions - chance to be the first among readers!', b'Received, understood n acted upon!', b'U\\xe2\\x80\\x99ve Bin Awarded \\xc2\\xa350 to Play 4 Instant Cash. Call 08715203028 To Claim. EVERY 9th Player Wins Min \\xc2\\xa350-\\xc2\\xa3500. OptOut 08718727870', b'Hello! How r u? Im bored. Inever thought id get bored with the tv but I am. Tell me something exciting has happened there? Anything! =/', b'New TEXTBUDDY Chat 2 horny guys in ur area 4 just 25p Free 2 receive Search postcode or at gaytextbuddy.com. TXT ONE name to 89693. 08715500022 rpl Stop 2 cnl', b'Hey , is * rite u put \\xc2\\xbb10 evey mnth is that all?', b' came to look at the flat, seems ok, in his 50s? * Is away alot wiv work. Got woman coming at 6.30 too.', b'Hmm well, night night ', b'dont make ne plans for nxt wknd coz she wants us to come down then ok', b'I had a good time too. Its nice to do something a bit different with my weekends for a change. See ya soon', b'u r a winner U ave been specially selected 2 receive \\xc2\\xa31000 cash or a 4* holiday (flights inc) speak to a live operator 2 claim 0871277810710p/min (18 )', b'Had your mobile 10 mths? Update to latest Orange camera/video phones for FREE. Save \\xc2\\xa3s with Free texts/weekend calls. Text YES for a callback orno to opt out', b'Want explicit SEX in 30 secs? Ring 02073162414 now! Costs 20p/min Gsex POBOX 2667 WC1N 3XX', b'Done it but internet connection v slow and can\\xe2\\x80\\x98t send it. Will try again later or first thing tomo.', b'Spoons it is then okay?', b'Hello- thanx for taking that call. I got a job! Starts on monday!', b'Ur TONEXS subscription has been renewed and you have been charged \\xc2\\xa34.50. You can choose 10 more polys this month. www.clubzed.co.uk *BILLING MSG*', b'cmon babe, make me horny, *turn* me on! Txt me your fantasy now babe -) Im hot, sticky and need you now. All replies cost \\xc2\\xa31.50. 2 cancel send STOP', b'\\xe2\\x80\\xa6 we r stayin here an extra week, back next wed. How did we do in the rugby this weekend? Hi to and and , c u soon \"', b\"How have your little darlings been so far this week? Need a coffee run tomo?Can't believe it's that time of week already \\xe2\\x80\\xa6\", b'URGENT! Your Mobile number has been awarded with a \\xc2\\xa32000 Bonus Caller Prize. Call 09058095201 from land line. Valid 12hrs only', b\"That's the trouble with classes that go well - you're due a dodgey one \\xe2\\x80\\xa6 Expecting mine tomo! See you for recovery, same time, same place \", b'Good stuff, will do.', b'Well done and ! luv ya all ', b'Free video camera phones with Half Price line rental for 12 mths and 500 cross ntwk mins 100 txts. Call MobileUpd8 08001950382 or Call2OptOut/674&', b'Bears Pic Nick, and Tom, Pete and ... Dick. In fact, all types try gay chat with photo upload call 08718730666 (10p/min). 2 stop texts call 08712460324', b'Jamster! To get your free wallpaper text HEART to 88888 now! T&C apply. 16 only. Need Help? Call 08701213186.', b\"'RCT' THNQ Adrian for U text. Rgds Vatian\", b'FreeMsg Hi baby wow just got a new cam moby. Wanna C a hot pic? or Fancy a chat?Im w8in 4uTxt / rply CHAT to 82242 Hlp 08712317606 Msg150p 2rcv', b'Yes see ya not on the dot', b'Ok thats cool. Its , just off either raglan rd or edward rd. Behind the cricket ground. Gimme ring when ur closeby see you tuesday.', b'I have had two more letters from . I will copy them for you cos one has a message for you. Speak soon', b\"I'd like to tell you my deepest darkest fantasies. Call me 09094646631 just 60p/min. To stop texts call 08712460324 (nat rate)\", b'Yes fine ', b\"For ur chance to win a \\xc2\\xa3250 cash every wk TXT: ACTION to 80608. T's&C's www.movietrivia.tv custcare 08712405022, 1x150p/wk.\", b'Thanks for your ringtone order, ref number K718. Your mobile will be charged \\xc2\\xa34.50. Should your tone not arrive please call customer services on 09065069120', b'Hiya, had a good day? Have you spoken to since the weekend?', b'Urgent! Please call 09061213237 from a landline. \\xc2\\xa35000 cash or a 4* holiday await collection. T &Cs SAE PO Box 177 M227XY. 16+', b'Easy mate, * guess the quick drink was bit ambitious.', b'Gr8 new service - live sex video chat on your mob - see the sexiest dirtiest girls live on ur phone - 4 details text horny to 89070 to cancel send STOP to 89070', b'URGENT!! Your 4* Costa Del Sol Holiday or \\xc2\\xa35000 await collection. Call 09050090044 Now toClaim. SAE, TC s, POBox334, Stockport, SK38xh, Cost\\xc2\\xa31.50/pm, Max10mins', b\"Ooh, 4got, i'm gonna start belly dancing in moseley weds 6.30 if u want 2 join me, they have a cafe too. \", b'Adult 18 Content Your video will be with you shortly', b'Oh unintentionally not bad timing. Great. Fingers  the trains play along! Will give fifteen min warning.', b\"I do know what u mean,  is the king of not havin credit! I'm goin2bed now. Night night sweet! Only1more sleep! \", b'dating:i have had two of these. Only started after i sent a text to talk sport radio last week. Any connection do you think or coincidence?', b'I to am looking forward to all the sex cuddling.. Only two more sleeps ', b'Here is your discount code RP176781. To stop further messages reply stop. www.regalportfolio.co.uk. Customer Services 08717205546', b\"Well I wasn't available as I washob nobbing with last night so they had to ask Nickey Platt instead of me!;\", b\"Yeah, that's fine! It's \\xc2\\xa36 to get in, is that ok? \", b'Get the official ENGLAND poly ringtone or colour flag on yer mobile for tonights game! Text TONE or FLAG to 84199. Optout txt ENG STOP Box39822 W111WX \\xc2\\xa31.50', b\"Boo. How's things? I'm back at home and a little bored already :-(\", b\"You'll not rcv any more msgs from the chat svc. For FREE Hardcore services text GO to: 69988 If u get nothing u must Age Verify with yr network & try again\", b'Please CALL 08712402902 immediately as there is an urgent message waiting for you.', b\"Rock yr chik. Get 100's of filthy films &XXX pics on yr phone now. rply FILTH to 69669. Saristar Ltd, E14 9YT 08701752560. 450p per 5 days. Stop2 cancel\", b'Hey mr whats the name of that bill brison book the one about language and words ', b\"All done, all handed in. Don't know if mega shop in asda counts as celebration but thats what i'm doing!\", b\"S'fine. Anytime. All the best with it.\", b\"Xmas & New Years Eve tickets are now on sale from the club, during the day from 10am till 8pm, and on Thurs, Fri & Sat night this week. They're selling fast!\", b\"important information 4 orange user . today is your lucky day!2find out why log onto http://www.urawinner.com THERE'S A FANTASTIC SURPRISE AWAITING YOU!\", b\"Forgot you were working today! Wanna chat, but things are ok so drop me a text when you're free / bored etc and i'll ring. Hope all is well, nose essay and all xx\", b'Sorry . I will be able to get to you. See you in the morning.', b'Hey mr  and I are going to the sea view and having a couple of gays I mean games! Give me a bell when ya finish ', b'[\\xe2\\x80\\xa6] anyway, many good evenings to u! s', b'if you text on your way to cup stop that should work. And that should be BUS', b'Nope thats fine. I might have a nap tho! ', b'88066 FROM 88066 LOST 3POUND HELP', b'Roger that. We\\xe2\\x80\\x98re probably going to rem in about 20', b'... Are you in the pub?', b'Double your mins & txts on Orange or 1/2 price linerental - Motorola and SonyEricsson with B/Tooth FREE-Nokia FREE Call MobileUpd8 on 08000839402 or2optout/HV9D', b'Get ur 1st RINGTONE FREE NOW! Reply to this msg with TONE. Gr8 TOP 20 tones to your phone every week just \\xc2\\xa31.50 per wk 2 opt out send STOP 08452810071 16', b'FREE entry into our \\xc2\\xa3250 weekly comp just send the word ENTER to 84128 NOW. 18 T&C www.textcomp.com cust care 08712405020.', b'Not sure I have the stomach for it ...', b'* Was thinking about chuckin ur red green n black trainners 2 save carryin them bac on train', b', im .. On the snowboarding trip. I was wondering if your planning to get everyone together befor we go..a meet and greet kind of affair? Cheers, ', b'Thank you. And by the way, I just lost.', b\"Night sweet, sleep well! I've just been to see The Exorcism of Emily Rose and may never sleep again! Hugs and snogs! \", b'Did you show him and wot did he say or could u not c him 4 dust?', b'I have a rather prominent bite mark on my right cheek', b'Ok. Not sure what time tho as not sure if can get to library before class. Will try. See you at some point! Have good eve.', b'Nimbomsons. Yep phone knows that one. Obviously, cos thats a real word', b\"Ur balance is now \\xc2\\xa3500. Ur next question is: Who sang 'Uptown Girl' in the 80's ? 2 answer txt ur ANSWER to 83600. Good luck!\", b'Am watching house \\xe2\\x80\\x93 very entertaining \\xe2\\x80\\x93 am getting the whole hugh laurie thing \\xe2\\x80\\x93 even with the stick \\xe2\\x80\\x93 indeed especially with the stick.', b\"LIFE has never been this much fun and great until you came in. You made it truly special for me. I won't forget you! enjoy @ one gbp/sms\", b'Free 1st week entry 2 TEXTPOD 4 a chance 2 win 40GB iPod or \\xc2\\xa3250 cash every wk. Txt VPOD to 81303 Ts&Cs www.textpod.net custcare 08712405020.', b\"Mystery solved! Just opened my email and he's sent me another batch! Isn't he a sweetie\", b'Santa calling! Would your little ones like a call from Santa Xmas Eve? Call 09077818151 to book you time. Calls1.50ppm last 3mins 30s T&C www.santacalling.com', b'Thats a bit weird, even ?- where is the do supposed to be happening? But good idea, sure they will be in pub!', b'I just cooked a rather nice salmon a la you', b'Can help u swoop by picking u up from wherever ur other birds r meeting if u want.', b\"Hiya. How was last night? I've been naughty and bought myself clothes and very little ... Ready for more shopping tho! What kind of time do you wanna meet?\", b'hiya hows it going in sunny africa? hope u r avin a good time. give that big old silver back a big kiss from me.', b'twenty past five he said will this train have been to durham already or not coz i am in a reserved seat', b'Hi there. We have now moved in2 our pub . Would be great 2 c u if u cud come up.', b\"Erm \\xe2\\x80\\xa6 ill pick you up at about 6.45pm. That'll give enough time to get there, park and that.\", b'At home by the way', b'Last Chance! Claim ur \\xc2\\xa3150 worth of discount vouchers today! Text SHOP to 85023 now! SavaMob, offers mobile! T Cs SavaMob POBOX84, M263UZ. \\xc2\\xa33.00 Sub. 16', b\"IMPORTANT INFORMATION 4 ORANGE USER 0796XXXXXX. TODAY IS UR LUCKY DAY!2 FIND OUT WHY LOG ONTO http://www.urawinner.com THERE'S A FANTASTIC PRIZEAWAITING YOU!\", b'Only just got this message, not ignoring you. Yes, i was. Shopping that is', b'Oh yes, why is it like torture watching england?', b'December only! Had your mobile 11mths+? You are entitled to update to the latest colour camera mobile for Free! Call The Mobile Update Co FREE on 08002986906', b'Got what it takes 2 take part in the WRC Rally in Oz? U can with Lucozade Energy! Text RALLY LE to 61200 (25p), see packs or lucozade.co.uk/wrc & itcould be u!', b'Just sent you an email \\xe2\\x80\\x93 to an address with incomm in it, is that right?', b'This is the 2nd time we have tried 2 contact u. U have won the 750 Pound prize. 2 claim is easy, call 08712101358 NOW! Only 10p per min. BT-national-rate', b\"* Am on a train back from northampton so i'm afraid not!\", b', ow u dey.i paid 60,400thousad.i told  u would call . ', b'Guess which pub im in? Im as happy as a pig in clover or whatever the saying is! ', b'FREE for 1st week! No1 Nokia tone 4 ur mob every week just txt NOKIA to 8007 Get txting and tell ur mates www.getzed.co.uk POBox 36504 W45WQ norm150p/tone 16+', b'Ho ho - big belly laugh! See ya tomo', b';-( oh well, c u later', b'Ok cool. See ya then.', b'have got * few things to do. may be in * pub later.', b'We currently have a message awaiting your collection. To collect your message just call 08718723815.', b'WIN a year supply of CDs 4 a store of ur choice worth \\xc2\\xa3500 & enter our \\xc2\\xa3100 Weekly draw txt MUSIC to 87066 Ts&Cs www.Ldew.com.subs16+1win150ppmx3', b'Pick you up bout 7.30ish? What time are  and that going?', b'Your account has been credited with 500 FREE Text Messages. To activate, just txt the word: CREDIT to No: 80488 T&Cs www.80488.biz', b\"U've been selected to stay in 1 of 250 top British hotels - FOR NOTHING! Holiday valued at \\xc2\\xa3350! Dial 08712300220 to claim - National Rate Call. Bx526, SW73SS\", b\"1000's flirting NOW! Txt GIRL or BLOKE & ur NAME & AGE, eg GIRL ZOE 18 to 8007 to join and get chatting!\", b'* Will be september by then!', b\"Well good morning mr . Hows london treatin' ya treacle?\", b\"This pen thing is beyond a joke. Wont a Biro do? Don't do a masters as can't do this ever again! \", b'FREE UNLIMITED HARDCORE PORN direct 2 your mobile Txt PORN to 69200 & get FREE access for 24 hrs then chrgd@50p per day txt Stop 2exit. This msg is free', b'Yeah go on then, bored and depressed sittin waitin for phone to ring... Hope the wind drops though, scary', b'I av a new number,  . Wil u only use this one,ta.', b'I\\xe2\\x80\\x98ll leave around four, ok?', b'URGENT! Your Mobile number has been awarded with a \\xc2\\xa32000 prize GUARANTEED. Call 09058094455 from land line. Claim 3030. Valid 12hrs only', b'Just re read it and I have no shame but tell me how he takes it and if he runs I will blame u 4 ever!! Not really 4 ever just a long time ', b'Hi its LUCY Hubby at meetins all day Fri & I will B alone at hotel U fancy cumin over? Pls leave msg 2day 09099726395 Lucy x Calls\\xc2\\xa31/minMobsmoreLKPOBOX177HP51FL', b\"I shall book chez jules for half eight, if that's ok with you?\", b'Ur cash-balance is currently 500 pounds - to maximize ur cash-in now send GO to 86688 only 150p/msg. CC: 08718720201 PO BOX 114/14 TCR/W1', b'Great escape. I fancy the bridge but needs her lager. See you tomo ', b'Ah, well that confuses things, doesnt it? I thought was friends with now. Maybe i did the wrong thing but i already sort of invited -tho he may not come cos of money.', b'URGENT! Your Mobile number has been awarded with a \\xc2\\xa32000 prize GUARANTEED. Call 09061790126 from land line. Claim 3030. Valid 12hrs only 150ppm', b\"I don't think he has spatula hands!\", b\"Err... Cud do. I'm going to  at 8pm. I haven't got a way to contact him until then.\", b'Bloody hell, cant believe you forgot my surname Mr . Ill give u a clue, its spanish and begins with m... ', b\":-( that's not v romantic!\", b'Free Msg: Ringtone!From: http://tms. widelive.com/index. wml?id=1b6a5ecef91ff9*37819&first=true18:0430-JUL-05', b\"What do u reckon as need 2 arrange transport if u can't do it, thanks\", b'Sorry! U can not unsubscribe yet. THE MOB offer package has a min term of 54 weeks> pls resubmit request after expiry. Reply THEMOB HELP 4 more info', b'Not heard from U4 a while. Call me now am here all night with just my knickers on. Make me beg for it like U did last time 01223585236 XX Luv Nikiyu4.net', b'Am not working but am up to eyes in philosophy so will text u later when a bit more free for chat...', b\"Have you seen who's back at Holby?!\", b'Our brand new mobile music service is now live. The free music player will arrive shortly. Just install on your phone to browse content from the top artists.', b'PRIVATE! Your 2003 Account Statement for shows 800 un-redeemed S. I. M. points. Call 08715203694 Identifier Code: 40533 Expires 31/10/04', b'No worries, hope photo shoot went well. have a spiffing fun at workage. ', b'3. You have received your mobile content. Enjoy', b'FreeMsg Hey U, i just got 1 of these video/pic fones, reply WILD to this txt & ill send U my pics, hurry up Im so bored at work xxx (18 150p/rcvd STOP2stop)', b'Romantic Paris. 2 nights, 2 flights from \\xc2\\xa379 Book now 4 next year. Call 08704439680Ts&Cs apply.', b'Fantasy Football is back on your TV. Go to Sky Gamestar on Sky Active and play \\xc2\\xa3250k Dream Team. Scoring starts on Saturday, so register now!SKY OPT OUT to 88088', b'Maybe i could get book out tomo then return it immediately ..? Or something.', b\"By the way, i've put a skip right outside the front of the house so you can see which house it is. Just pull up before it.\", b\"She's borderline but yeah whatever.\", b'Do you want a New Nokia 3510i Colour Phone Delivered Tomorrow? With 200 FREE minutes to any mobile + 100 FREE text + FREE camcorder Reply or Call 8000930705', b'Not heard from U4 a while. Call 4 rude chat private line 01223585334 to cum. Wan 2C pics of me gettin shagged then text PIX to 8552. 2End send STOP 8552 SAM xxx', b\"For ur chance to win \\xc2\\xa3250 cash every wk TXT: PLAY to 83370. T's&C's www.music-trivia.net custcare 08715705022, 1x150p/wk.\", b'Your weekly Cool-Mob tones are ready to download !This weeks new Tones include: 1) Crazy Frog-AXEL F>>> 2) Akon-Lonely>>> 3) Black Eyed-Dont P >>>More info in n', b\"Sounds like a plan! Cardiff is still here and still cold! I'm sitting on the radiator!\", b'And several to you sir.', b'You know, wot people wear. T shirts, jumpers, hat, belt, is all we know. We r at Cribbs', b'Think i might have to give it a miss. Am teaching til twelve, then have lecture at two. Damn this working thing.', b'You have won a guaranteed \\xc2\\xa3200 award or even \\xc2\\xa31000 cashto claim UR award call free on 08000407165 (18+) 2 stop getstop on 88222 PHP. RG21 4JX', b'UR awarded a City Break and could WIN a \\xc2\\xa3200 Summer Shopping spree every WK. Txt STORE to 88039 . SkilGme. TsCs087147403231Winawk!Age16 \\xc2\\xa31.50perWKsub', b\"You'll never believe this but i have actually got off at taunton. Wow\", b\"Need a coffee run tomo?Can't believe it's that time of week already\", b'You have won a Nokia 7250i. This is what you get when you win our FREE auction. To take part send Nokia to 86021 now. HG/Suite342/2Lands Row/W1JHL 16+', b'Are you available for soiree on June 3rd?', b\"Hard LIVE 121 chat just 60p/min. Choose your girl and connect LIVE. Call 09094646899 now! Cheap Chat UK's biggest live service. VU BCM1896WC1N3XX\", b\"Lovely smell on this bus and it ain't tobacco... \", b'I am back. Bit long cos of accident on a30. Had to divert via wadebridge.I had a brilliant weekend thanks. Speak soon. Lots of love', b'Block Breaker now comes in deluxe format with new features and great graphics from T-Mobile. Buy for just \\xc2\\xa35 by replying GET BBDELUXE and take the challenge', b'Hi if ur lookin 4 saucy daytime fun wiv busty married woman Am free all next week Chat now 2 sort time 09099726429 JANINExx Calls\\xc2\\xa31/minMobsmoreLKPOBOX177HP51FL', b'Do you want a new Video handset? 750 any time any network mins? UNLIMITED TEXT? Camcorder? Reply or Call now 08000930705 for del Sat AM', b'Spook up your mob with a Halloween collection of a logo & pic message plus a free eerie tone, txt CARD SPOOK to 8007 zed 08701417012150p per logo/pic', b'WIN: We have a winner! Mr. T. Foley won an iPod! More exciting prizes soon, so keep an eye on ur mobile or visit www.win-82050.co.uk', b\"More people are dogging in your area now. Call 09090204448 and join like minded guys. Why not arrange 1 yourself. There's 1 this evening. A\\xc2\\xa31.50 minAPN LS278BB\", b'Have you not finished work yet or something?', b\"+123 Congratulations - in this week's competition draw u have won the \\xc2\\xa31450 prize to claim just call 09050002311 b4280703. T&Cs/stop SMS 08718727868. Over 18 only 150ppm\", b'V nice! Off 2 sheffield tom 2 air my opinions on categories 2 b used 2 measure ethnicity in next census. Busy transcribing. :-)', b'Velly good, yes please!', b'Freemsg: 1-month unlimited free calls! Activate SmartCall Txt: CALL to No: 68866. Subscriptn3gbp/wk unlimited calls Help: 08448714184 Stop?txt stop landlineonly', b'Your unique user ID is 1172. For removal send STOP to 87239 customer services 08708034412', b'Hi babe its Chloe, how r u? I was smashed on saturday night, it was great! How was your weekend? U been missing me? SP visionsms.com Text stop to stop 150p/text', b'As a registered optin subscriber ur draw 4 \\xc2\\xa3100 gift voucher will be entered on receipt of a correct ans to 80062 Whats No1 in the BBC charts', b'Have you been practising your curtsey?', b'Printer is cool. I mean groovy. Wine is groovying', b'Double eviction this week - Spiral and Michael and good riddance to them!', b\"R u sure they'll understand that! Wine * good idea just had a slurp!\", b\"Am on a train back from northampton so i'm afraid not! I'm staying skyving off today ho ho! Will be around wednesday though. Do you fancy the comedy club this week by the way?\", b'Beerage?', b'Free 1st week entry 2 TEXTPOD 4 a chance 2 win 40GB iPod or \\xc2\\xa3250 cash every wk. Txt POD to 84128 Ts&Cs www.textpod.net custcare 08712405020.', b'Hi, wlcome back, did wonder if you got eaten by a lion or something, nothing much', b\"Oops - am at my mum's in somerset... Bit far! Back tomo, see you soon x\", b\"I've been barred from all B and Q stores for life!?This twat in orange dungerees came up to me and asked if I wanted decking? So I got the first punch in!!\", b'* Am on my way', b'FROM 88066 LOST \\xc2\\xa312 HELP', b'For sale - arsenal dartboard. Good condition but no doubles or trebles!', b'<Forwarded from 88877>FREE entry into our \\xc2\\xa3250 weekly comp just send the word ENTER to 88877 NOW. 18 T&C www.textcomp.com', b'Jordan got voted out last nite!', b\"Hiya, sorry didn't hav signal. I haven't seen or heard from and neither has, which is unusual in itself! I'll put on the case and get him to sort it out! Hugs and snogs.\", b'Did u find out what time the bus is at coz i need to sort some stuff out.', b'Ha ha - had popped down to the loo when you hello-ed me. Hello!', b'Ahhhh...just woken up!had a bad dream about u tho,so i dont like u right now :) i didnt know anything about comedy night but i guess im up for it.', b'money!!! you r a lucky winner ! 2 claim your prize text money 2 88600 over \\xc2\\xa31million to give away ! ppt150x3+normal text rate box403 w1t1jy', b'Your next amazing xxx PICSFREE1 video will be sent to you enjoy! If one vid is not enough for 2day text back the keyword PICSFREE1 to get the next video.', b'SPJanuary Male Sale! Hot Gay chat now cheaper, call 08709222922. National rate from 1.5p/min cheap to 7.8p/min peak! To stop texts call 08712460324 (10p/min)', b\"Oh my god! I've found your number again! I'm so glad, text me back xafter this msgs cst std ntwk chg \\xc2\\xa31.50\", b'No. 1 Nokia Tone 4 ur mob every week! Just txt NOK to 87021. 1st Tone FREE ! so get txtin now and tell ur friends. 150p/tone. 16 reply HL 4info', b\"Bored of speed dating? Try SPEEDCHAT, txt SPEEDCHAT to 80155, if you don't like em txt SWAP and get a new chatter! Chat80155 POBox36504W45WQ 150p/msg rcd 16\", b'UR GOING 2 BAHAMAS! CallFREEFONE 08081560665 and speak to a live operator to claim either Bahamas cruise of\\xc2\\xa32000 CASH 18+only. To opt out txt X to 07786200117', b'Call 09094100151 to use ur mins! Calls cast 10p/min (mob vary). Service provided by AOM, just GBP5/month. AOM Box61,M60 1ER until u stop. Ages 18+ only!', b'You have 1 new message. Call 0207-083-6089', b'U have a secret admirer who is looking 2 make contact with U-find out who they R*reveal who thinks UR so special-call on 09058094599', b'Yeah confirmed for you staying at  that weekend', b\"Unfortunately i've just found out that we have to pick my sister up from the airport that evening so don't think i'll be going out at all. We should try to go out one of th\", b'Get a brand new mobile phone by being an agent of The Mob! Plus loads more goodies! For more info just text MAT to 87021.', b\"That would be great. We'll be at the Guild. Could meet on Bristol road or somewhere - will get in touch over weekend. Our plans take flight! Have a good week\", b'Have you emigrated or something? Ok maybe 5.30 was a bit hopeful...', b';-) ok. I feel like john lennon.', b'swhrt how u dey,hope ur ok, tot about u 2day.love n miss.take care.', b'Natalja (25/F) is inviting you to be her friend. Reply YES-440 or NO-440 See her: www.SMS.ac/u/nat27081980 STOP? Send STOP FRND to 62468', b'Okey dokey swashbuckling stuff what oh.', b\"Join the UK's horniest Dogging service and u can have sex 2nite!. Just sign up and follow the instructions. Txt ENTRY to 69888 now! Nyt.EC2A.3LP.msg@150p\", b'PRIVATE! Your 2004 Account Statement for 07742676969 shows 786 unredeemed Bonus Points. To claim call 08719180248 Identifier Code: 45239 Expires', b'What time you coming down later? ', b'Save money on wedding lingerie at www.bridal.petticoatdreams.co.uk Choose from a superb selection with national delivery. Brought to you by WeddingFriend', b'You intrepid duo you! Have a great time and see you both soon. ', b\"Man this bus is so so so slow. I think you're gonna get there before me\", b'Hows the champ just leaving glasgow!', b'Boltblue tones for 150p Reply POLY# or MONO# eg POLY3 1. Cha Cha Slide 2. Yeah 3. Slow Jamz 6. Toxic 8. Come With Me or STOP 4 more tones txt MORE', b\"Very strange.  and  are watching the 2nd one now but i'm in bed. Sweet dreams, miss u \", b'TBS/PERSOLVO. been chasing us since Sept for\\xc2\\xa338 definitely not paying now thanks to your information. We will ignore them. Kath. Manchester.', b'We tried to contact you re our offer of New Video Phone 750 anytime any network mins HALF PRICE Rental camcorder call 08000930705 or reply for delivery Wed', b'Great NEW Offer - DOUBLE Mins & DOUBLE Txt on best Orange tariffs AND get latest camera phones 4 FREE! Call MobileUpd8 free on 08000839402 NOW! or 2stoptxt T&Cs', b'Will u meet ur dream partner soon? Is ur career off 2 a flyng start? 2 find out free, txt HORO followed by ur star sign, e. g. HORO ARIES', b\"Yes watching footie but worried we're going to blow it - Phil Neville?\", b'Hello. No news on job, they are making me wait a fifth week! Yeah im up for some woozles and weasels... In exeter still, but be home about 3. ', b'I\\xe2\\x80\\x98m parked next to a MINI!!!! When are you coming in today do you think?', b'Yeah work is fine, started last week, all the same stuff as before, dull but easy and guys are fun!', b\" says that he's quitting at least5times a day so i wudn't take much notice of that. Nah, she didn't mind. Are you gonna see him again? Do you want to come to taunton tonight? U can tell me all about !\", b'ROMCAPspam Everyone around should be responding well to your presence since you are so warm and outgoing. You are bringing in a real breath of sunshine.', b'Your free ringtone is waiting to be collected. Simply text the password \"MIX\" to 85069 to verify. Get Usher and Britney. FML, PO Box 5249, MK17 92H. 450Ppw 16', b'You will recieve your tone within the next 24hrs. For Terms and conditions please see Channel U Teletext Pg 750', b\"I'm coming back on Thursday. Yay. Is it gonna be ok to get the money. Cheers. Oh yeah and how are you. Everything alright. Hows school. Or do you call it work now\", b'Hack Chat. Get backdoor entry into 121 chat rooms at a fraction of the cost. Reply NEO69 or call 09050280520, to subscribe 25p pm. DPS, Bcm box 8027 Ldn, wc1n3xx', b'What time. I\\xe2\\x80\\x98m out until prob 3 or so', b'We tried to contact you re your reply to our offer of 750 mins 150 textand a new video phone call 08002988890 now or reply for free delivery tomorrow', b'Been running but only managed 5 minutes and then needed oxygen! Might have to resort to the roller option!', b'Guess what! Somebody you know secretly fancies you! Wanna find out who it is? Give us a call on 09065394514 From Landline DATEBox1282EssexCM61XN 150p/min 18', b'U are subscribed to the best Mobile Content Service in the UK for \\xc2\\xa33 per ten days until you send STOP to 83435. Helpline 08706091795.', b'YOU VE WON! Your 4* Costa Del Sol Holiday or \\xc2\\xa35000 await collection. Call 09050090044 Now toClaim. SAE, TC s, POBox334, Stockport, SK38xh, Cost\\xc2\\xa31.50/pm, Max10mins', b\"Hi ya babe x u 4goten bout me?' scammers getting smart..Though this is a regular vodafone no, if you respond you get further prem rate msg/subscription. Other nos used also. Beware!\", b'Back 2 work 2morro half term over! Can U C me 2nite 4 some sexy passion B4 I have 2 go back? Chat NOW 09099726481 Luv DENA Calls \\xc2\\xa31/minMobsmoreLKPOBOX177HP51FL', b'Loans for any purpose even if you have Bad Credit! Tenants Welcome. Call NoWorriesLoans.com on 08717111821', b'Got it. Seventeen pounds for seven hundred ml \\xe2\\x80\\x93 hope ok.', b'on hen night. Going with a swing', b'Todays Vodafone numbers ending with 4882 are selected to a receive a \\xc2\\xa3350 award. If your number matches call 09064019014 to receive your \\xc2\\xa3350 award.', b'Dear Voucher Holder, To claim this weeks offer, at your PC please go to http://www.wtlp.co.uk/text. Ts&Cs apply.', b'Hello! Just got here, st andrews-boy its a long way! Its cold. I will keep you posted', b'Our ride equally uneventful - not too many of those pesky cyclists around at that time of night ;).', b\"Hiya , have u been paying money into my account? If so, thanks. Got a pleasant surprise when i checked my balance -u c, i don't get statements 4 that acc\", b'New Mobiles from 2004, MUST GO! Txt: NOKIA to No: 89545 & collect yours today! From ONLY \\xc2\\xa31. www.4-tc.biz 2optout 087187262701.50gbp/mtmsg18 TXTAUCTION.', b'Did you hear about the new \"Divorce Barbie\"? It comes with all of Ken\\'s stuff!', b\"I don't know, same thing that's wrong everyso often, he panicks starts goin on bout not bein good enough \\xe2\\x80\\xa6\", b'Yep then is fine 7.30 or 8.30 for ice age.', b\"You won't believe it but it's true. It's Incredible Txts! Reply G now to learn truly amazing things that will blow your mind. From O2FWD only 18p/txt\", b\"hope things went well at 'doctors' ;) reminds me i still need 2go.did u c d little thing i left in the lounge?\", b'Customer service announcement. We recently tried to make a delivery to you but were unable to do so, please call 07090298926 to re-schedule. Ref:9307622', b'FreeMsg: Claim ur 250 SMS messages-Text OK to 84025 now!Use web2mobile 2 ur mates etc. Join Txt250.com for 1.50p/wk. T&C BOX139, LA32WU. 16 . Remove txtX or stop', b'PRIVATE! Your 2003 Account Statement for <fone no> shows 800 un-redeemed S. I. M. points. Call 08715203656 Identifier Code: 42049 Expires 26/10/04', b'Final Chance! Claim ur \\xc2\\xa3150 worth of discount vouchers today! Text YES to 85023 now! SavaMob, member offers mobile! T Cs SavaMob POBOX84, M263UZ. \\xc2\\xa33.00 Subs 16', b'Sexy Singles are waiting for you! Text your AGE followed by your GENDER as wither M or F E.G.23F. For gay men text your AGE followed by a G. e.g.23G.', b'Xmas Offer! Latest Motorola, SonyEricsson & Nokia & FREE Bluetooth or DVD! Double Mins & 1000 Txt on Orange. Call MobileUpd8 on 08000839402 or call2optout/4QF2', b'Hey I am really horny want to chat or see me naked text hot to 69698 text charged at 150pm to unsubscribe text stop 69698', b'Someone has contacted our dating service and entered your phone because they fancy you! To find out who it is call from a landline 09111032124 . PoBox12n146tf150p', b'yeah sure thing mate haunt got all my stuff sorted but im going sound anyway promoting hex for .by the way who is this? dont know number. Joke', b'FREE RINGTONE text FIRST to 87131 for a poly or text GET to 87131 for a true tone! Help? 0845 2814032 16 after 1st free, tones are 3x\\xc2\\xa3150pw to e\\xc2\\xa3nd txt stop', b'Do you want 750 anytime any network mins 150 text and a NEW VIDEO phone for only five pounds per week call 08002888812 or reply for delivery tomorrow', b'Call from 08702490080 - tells u 2 call 09066358152 to claim \\xc2\\xa35000 prize. U have 2 enter all ur mobile & personal details @ the prompts. Careful!', b'Indeed and by the way it was either or - not both !', b\"Loan for any purpose \\xc2\\xa3500 - \\xc2\\xa375,000. Homeowners + Tenants welcome. Have you been previously refused? We can still help. Call Free 0800 1956669 or text back 'help'\", b'FREE for 1st week! No1 Nokia tone 4 ur mobile every week just txt NOKIA to 8077 Get txting and tell ur mates. www.getzed.co.uk POBox 36504 W45WQ 16+ norm150p/tone', b\"How's it going? Got any exciting karaoke type activities planned? I'm debating whether to play football this eve. Feeling lazy though.\", b'Message from . I am at Truro Hospital on ext. You can phone me here. as I have a phone by my side', b'Hi, the SEXYCHAT girls are waiting for you to text them. Text now for a great night chatting. send STOP to stop this service', b\"* Was a nice day and, impressively, i was sensible, went home early and now feel fine. Or am i just boring?! When's yours, i can't remember.\", b'Sorry im getting up now, feel really bad- totally rejected that kinda me thing.', b\"Do you realize that in about 40 years, we'll have thousands of old ladies running around with tattoos?\", b'TheMob> Check out our newest selection of content, Games, Tones, Gossip, babes and sport, Keep your mobile fit and funky text WAP to 82468', b'Do you want a new video handset? 750 anytime any network mins? Half Price Line Rental? Camcorder? Reply or call 08000930705 for delivery tomorrow', b'Yeah no probs - last night is obviously catching up with you... Speak soon ', b'Want the latest Video handset? 750 anytime any network mins? Half price line rental? Reply or call 08000930705 for delivery tomorrow', b'Mm not entirely sure i understood that text but hey. Ho. Which weekend?', b'It\\xe2\\x80\\x98s \\xc2\\xa36 to get in, is that ok?', b'In The Simpsons Movie released in July 2007 name the band that died at the start of the film? A-Green Day, B-Blue Day, C-Red Day. (Send A, B or C)', b'Please give it 2  or i will pick it up on Tuesday evening about 8 if that is ok.', b'U have a secret admirer. REVEAL who thinks U R So special. Call 09065174042. To opt out Reply REVEAL STOP. 1.50 per msg recd. Cust care 07821230901', b'You have 1 new message. Please call 08715205273', b'A link to your picture has been sent. You can also use http://alto18.co.uk/wave/wave.asp?o=44345', b\"hows my favourite person today? r u workin hard? couldn't sleep again last nite nearly rang u at 4.30\", b'I\\xe2\\x80\\x98m going to try for 2 months ha ha only joking', b'Eerie Nokia tones 4u, rply TONE TITLE to 8007 eg TONE DRACULA to 8007 Titles: GHOST, ADDAMSFA, MUNSTERS, EXORCIST, TWILIGHT www.getzed.co.uk POBox36504W45WQ 150p', b'Call Germany for only 1 pence per minute! Call from a fixed line via access number 0844 861 85 85. No prepayment. Direct access! www.telediscount.co.uk', b\", how's things? Just a quick question.\", b'Cashbin.co.uk (Get lots of cash this weekend!) www.cashbin.co.uk Dear Welcome to the weekend We have got our biggest and best EVER cash give away!! These..', b\"Sorry, left phone upstairs. OK, might be hectic but would be all my birds with one fell swoop. It's a date.\", b'SMS. ac Sptv: The New Jersey Devils and the Detroit Red Wings play Ice Hockey. Correct or Incorrect? End? Reply END SPTV', b'Natalie (20/F) is inviting you to be her friend. Reply YES-165 or NO-165 See her: www.SMS.ac/u/natalie2k9 STOP? Send STOP FRND to 62468', b'Nutter. Cutter. Ctter. Cttergg. Cttargg. Ctargg. Ctagg. ie you', b\"Oops sorry. Just to check that you don't mind picking me up tomo at half eight from station. Would that be ok?\", b'Please call our customer service representative on 0800 169 6031 between 10am-9pm as you have WON a guaranteed \\xc2\\xa31000 cash or \\xc2\\xa35000 prize!', b\"No i'm not gonna be able to. || too late notice. || i'll be home in a few weeks anyway. || what are the plans\", b'PRIVATE! Your 2003 Account Statement for 07753741225 shows 800 un-redeemed S. I. M. points. Call 08715203677 Identifier Code: 42478 Expires 24/10/04', b'Cheers for the card ... Is it that time of year already?', b'Missed call alert. These numbers called but left no message. 07008009200', b'Don\\xe2\\x80\\x98t give a flying monkeys wot they think and I certainly don\\xe2\\x80\\x98t mind. Any friend of mine and all that!', b'Babe: U want me dont u baby! Im nasty and have a thing 4 filthyguys. Fancy a rude time with a sexy bitch. How about we go slo n hard! Txt XXX SLO(4msgs)', b'Lol! U drunkard! Just doing my hair at d moment. Yeah still up 4 tonight. Wats the plan? ', b\"Today's Offer! Claim ur \\xc2\\xa3150 worth of discount vouchers! Text YES to 85023 now! SavaMob, member offers mobile! T Cs 08717898035. \\xc2\\xa33.00 Sub. 16 . Unsub reply X\", b'BIG BROTHER ALERT! The computer has selected u for 10k cash or #150 voucher. Call 09064018838. NTT PO Box CRO1327 18+ BT Landline Cost 150ppm mobiles vary', b'CLAIRE here am havin borin time & am now alone U wanna cum over 2nite? Chat now 09099725823 hope 2 C U Luv CLAIRE xx Calls\\xc2\\xa31/minmoremobsEMSPOBox45PO139WA', b\"I think we're going to finn's now, come\", b'* FREE* POLYPHONIC RINGTONE Text SUPER to 87131 to get your FREE POLY TONE of the week now! 16 SN PoBox202 NR31 7ZS subscription 450pw', b\"Honestly i've just made a lovely cup of tea and promptly dropped my keys in it and then burnt my fingers getting them out!\", b'Call 09095350301 and send our girls into erotic ecstacy. Just 60p/min. To stop texts call 08712460324 (nat rate)', b'Our records indicate u maybe entitled to 5000 pounds in compensation for the Accident you had. To claim 4 free reply with CLAIM to this msg. 2 stop txt STOP', b'U have a Secret Admirer who is looking 2 make contact with U-find out who they R*reveal who thinks UR so special-call on 09065171142-stopsms-08', b'Hmm, too many of them unfortunately... Pics obviously arent hot cakes. Its kinda fun tho', b':-) :-)', b'1.20 that call cost. Which i guess isnt bad. Miss ya, need ya, want ya, love ya', b'Welcome! Please reply with your AGE and GENDER to begin. e.g 24M', b'You have WON a guaranteed \\xc2\\xa31000 cash or a \\xc2\\xa32000 prize. To claim yr prize call our customer service representative on 08714712394 between 10am-7pm', b'Double mins and txts 4 6months FREE Bluetooth on Orange. Available on Sony, Nokia Motorola phones. Call MobileUpd8 on 08000839402 or call2optout/N9DX', b'See you there! ', b'Hi hope u get this txt~journey hasnt been gd,now about 50 mins late I think.', b'Valentines Day Special! Win over \\xc2\\xa31000 in our quiz and take your partner on the trip of a lifetime! Send GO to 83600 now. 150p/msg rcvd. CustCare:08718720201.', b'<Forwarded from 448712404000>Please CALL 08712404000 immediately as there is an urgent message waiting for you.', b'PRIVATE! Your 2003 Account Statement for 07815296484 shows 800 un-redeemed S.I.M. points. Call 08718738001 Identifier Code 41782 Expires 18/11/04 ', b'Hungry gay guys feeling hungry and up 4 it, now. Call 08718730555 just 10p/min. To stop texts call 08712460324 (10p/min)', b'SMS SERVICES For your inclusive text credits pls gotto www.comuk.net login 3qxj9 unsubscribe with STOP no extra charge help 08702840625 comuk.220cm2 9AE', b'Yeah do! Don\\xe2\\x80\\x98t stand to close tho- you\\xe2\\x80\\x98ll catch something!', b'Good good, billy mates all gone. Just been jogging, again! Did enjoy concert?', b'FreeMsg:Feelin kinda lnly hope u like 2 keep me company! Jst got a cam moby wanna c my pic?Txt or reply DATE to 82242 Msg150p 2rcv Hlp 08712317606 stop to 82242', b\"Oh right, ok. I'll make sure that i do loads of work during the day!  got a really nasty cough today and is dry n shot so that should really help it!\", b\"I want some cock! My hubby's away, I need a real man 2 satisfy me. Txt WIFE to 89938 for no strings action. (Txt STOP 2 end, txt rec \\xc2\\xa31.50ea. OTBox 731 LA1 7WS. )\", b'Reminder: You have not downloaded the content you have already paid for. Goto http://doit. mymoby. tv/ to collect your content.', b'PRIVATE! Your 2003 Account Statement for 07973788240 shows 800 un-redeemed S. I. M. points. Call 08715203649 Identifier Code: 40533 Expires 31/10/04', b\"Lol no ouch but wish i'd stayed out a bit longer\", b'I though we shd go out n have some fun so bar in town or something \\xe2\\x80\\x93 sound ok?', b'Yes. Last  practice', b'FreeMsg: Txt: CALL to No: 86888 & claim your reward of 3 hours talk time to use from your phone now! Subscribe6GBP/mnth inc 3hrs 16 stop?txtStop', b'Saw Guys and Dolls last night with Patrick Swayze it was great', b'4mths half price Orange line rental & latest camera phones 4 FREE. Had your phone 11mths ? Call MobilesDirect free on 08000938767 to update now! or2stoptxt', b'Let me know if you need anything else. Salad or desert or something... How many beers shall i get?', b'Gr8 Poly tones 4 ALL mobs direct 2u rply with POLY TITLE to 8007 eg POLY BREATHE1 Titles: CRAZYIN, SLEEPINGWITH, FINEST, YMCA :getzed.co.uk POBox365O4W45WQ 300p', b'Dear Voucher holder Have your next meal on us. Use the following link on your pc 2 enjoy a 2 4 1 dining experiencehttp://www.vouch4me.com/etlp/dining.asp', b'Okay but i thought you were the expert', b\"I jus hope its true that  missin me cos i'm really missin him! You haven't done anything to feel guilty about, yet.\", b\"Ok. Can be later showing around 8-8:30 if you want + cld have drink before. Wld prefer not to spend money on nosh if you don't mind, as doing that nxt wk.\", b'Thanks for your ringtone order, reference number X29. Your mobile will be charged 4.50. Should your tone not arrive please call customer services 09065989180', b'Sunshine Quiz Wkly Q! Win a top Sony DVD player if u know which country Liverpool played in mid week? Txt ansr to 82277. \\xc2\\xa31.50 SP:Tyrone', b'V skint too but fancied few bevies.waz gona go meet &othrs in spoon but jst bin watchng planet earth&sofa is v comfey; If i dont make it hav gd night', b\"I'm really sorry i won't b able 2 do this friday.hope u can find an alternative.hope yr term's going ok:-)\", b'Urgh, coach hot, smells of chip fat! Thanks again, especially for the duvet (not a predictive text word).', b'Ok but knackered. Just came home and went to sleep! Not good at this full time work lark.', b\"Just got up. have to be out of the room very soon. \\xe2\\x80\\xa6. i hadn't put the clocks back til at 8 i shouted at everyone to get up and then realised it was 7. wahay. another hour in bed.\", b'XMAS Prize draws! We are trying to contact U. Todays draw shows that you have won a \\xc2\\xa32000 prize GUARANTEED. Call 09058094565 from land line. Valid 12hrs only', b'Get your garden ready for summer with a FREE selection of summer bulbs and seeds worth \\xc2\\xa333:50 only with The Scotsman this Saturday. To stop go2 notxt.co.uk', b\"Guess who am I?This is the first time I created a web page WWW.ASJESUS.COM read all I wrote. I'm waiting for your opinions. I want to be your friend 1/1\", b'Ur balance is now \\xc2\\xa3600. Next question: Complete the landmark, Big, A. Bob, B. Barry or C. Ben ?. Text A, B or C to 83738. Good luck!', b'Lol! Oops sorry! Have fun. ', b\"I'm in solihull, | do you want anything?\", b\"Arms fine, how's Cardiff and uni? \", b'Latest News! Police station toilet stolen, cops have nothing to go on!', b'Do you want a new Video phone? 600 anytime any network mins 400 Inclusive Video calls AND downloads 5 per week Free delTOMORROW call 08002888812 or reply NOW', b'Big brother\\xe2\\x80\\x98s really scraped the barrel with this shower of social misfits', b'Thanks  and ! Or bomb and date as my phone wanted to say! ', b'Dear relieved of westonzoyland, all going to plan this end too!', b'That way transport is less problematic than on sat night. By the way, if u want to ask  n  to join my bday, feel free. But need to know definite nos as booking on fri. ', b'FREE entry into our \\xc2\\xa3250 weekly competition just text the word WIN to 80086 NOW. 18 T&C www.txttowin.co.uk', b\"I didn't get the second half of that message\", b'-PLS STOP bootydelious (32/F) is inviting you to be her friend. Reply YES-434 or NO-434 See her: www.SMS.ac/u/bootydelious STOP? Send STOP FRND to 62468', b'Kind of. Just missed train cos of asthma attack, nxt one in half hr so driving in. not sure where to park.', b'Have you bookedthe hut? And also your time off? How are you by the way?', b'Hi here. have birth at on the  to  at 8lb 7oz. Mother and baby doing brilliantly.', b'Have you got Xmas radio times. If not i will get it now', b'I think I\\xe2\\x80\\x98m waiting for the same bus! Inform me when you get there, if you ever get there.', b'Had your mobile 11mths ? Update for FREE to Oranges latest colour camera mobiles & unlimited weekend calls. Call Mobile Upd8 on freefone 08000839402 or 2StopTx', b'This message is free. Welcome to the new & improved Sex & Dogging club! To unsubscribe from this service reply STOP. msgs@150p 18 only', b'Yes i thought so. Thanks.', b\"It is a good thing I'm now getting the connection to bw\", b'Yo! Howz u? girls never rang after india. L', b'FREE entry into our \\xc2\\xa3250 weekly comp just send the word WIN to 80086 NOW. 18 T&C www.txttowin.co.uk', b\"UpgrdCentre Orange customer, you may now claim your FREE CAMERA PHONE upgrade for your loyalty. Call now on 0207 153 9153. Offer ends 26th July. T&C's apply. Opt-out available\", b\"Hello! How's you and how did saturday go? I was just texting to see if you'd decided to do anything tomo. Not that i'm trying to invite myself or anything!\", b', ,  and  picking them up from various points | going 2 yeovil | and they will do the motor project 4 3 hours | and then u take them home. || 12 2 5.30 max. || Very easy', b'Reply to win \\xc2\\xa3100 weekly! Where will the 2006 FIFA World Cup be held? Send STOP to 87239 to end service', b\"I'll pick you up at about 5.15pm to go to taunton if you still want to come.\", b\"That's ok. I popped in to ask bout something and she said you'd been in. Are you around tonght wen this girl comes?\", b\"Thought we could go out for dinner. I'll treat you! Seem ok?\", b'Urgent! Please call 09066612661 from your landline, your complimentary 4* Lux Costa Del Sol holiday or \\xc2\\xa31000 CASH await collection. ppm 150 SAE T&Cs James 28, EH74RR', b'Thnx dude. u guys out 2nite?', b'Text82228>> Get more ringtones, logos and games from www.txt82228.com. Questions: info@txt82228.co.uk', b'You have won ?1,000 cash or a ?2,000 prize! To claim, call09050000327. T&C: RSTM, SW7 3SS. 150ppm', b\"Ha! I wouldn't say that I just didn't read anything into way u seemed. I don't like 2 be judgemental....i save that for fridays in the pub!\", b\"Hmm. Shall i bring a bottle of wine to keep us amused? Just joking! I'll still bring a bottle. Red or white? See you tomorrow\", b'Love that holiday Monday feeling even if I have to go to the dentists in an hour', b'To review and KEEP the fantastic Nokia N-Gage game deck with Club Nokia, go 2 www.cnupdates.com/newsletter. unsubscribe from alerts reply with the word OUT', b\"Yeah right! I'll bring my tape measure fri!\", b\"Lol! Nah wasn't too bad thanks. Its good to b home but its been quite a reality check. Hows ur day been? Did u do anything with website?\", b'Good! No, don\\xe2\\x80\\x98t need any receipts\\xe2\\x80\\x94well done! (\\xe2\\x80\\xa6) Yes, please tell . What\\xe2\\x80\\x98s her number, i could ring her']\n"
     ]
    }
   ],
   "source": [
    "complete_dataset = list(british_corpus_tf_dataset.unbatch().as_numpy_iterator())\n",
    "\n",
    "messages = [sample_message for sample_message, sample_label in complete_dataset]\n",
    "\n",
    "print(messages)"
   ]
  },
  {
   "cell_type": "code",
   "execution_count": null,
   "metadata": {
    "id": "AS97eiNRVHFe"
   },
   "outputs": [],
   "source": [
    "from tensorflow.keras.layers.experimental.preprocessing import TextVectorization\n",
    "\n",
    "vectorizer = TextVectorization(max_tokens=20000, output_sequence_length=200)\n",
    "vectorizer.adapt(messages)"
   ]
  },
  {
   "cell_type": "code",
   "execution_count": null,
   "metadata": {
    "colab": {
     "base_uri": "https://localhost:8080/"
    },
    "id": "f6X1Si2dePV_",
    "outputId": "74ef4179-edc8-42d5-81c8-94ec83e5fcc8"
   },
   "outputs": [
    {
     "data": {
      "text/plain": [
       "['', '[UNK]', 'to', 'a', 'you', 'the', 'and', 'i', 'for', 'u']"
      ]
     },
     "execution_count": 20,
     "metadata": {},
     "output_type": "execute_result"
    }
   ],
   "source": [
    "# get top 10 frequent words\n",
    "vectorizer.get_vocabulary()[:10]"
   ]
  },
  {
   "cell_type": "code",
   "execution_count": null,
   "metadata": {
    "id": "LjRwxxSHeex_"
   },
   "outputs": [],
   "source": [
    "voc = vectorizer.get_vocabulary()\n",
    "word_index = dict(zip(voc, range(len(voc))))"
   ]
  },
  {
   "cell_type": "code",
   "execution_count": null,
   "metadata": {
    "colab": {
     "base_uri": "https://localhost:8080/"
    },
    "id": "VJCla_7mggrm",
    "outputId": "5588638e-d4f8-407c-ed12-e26df3e576e3"
   },
   "outputs": [
    {
     "data": {
      "text/plain": [
       "<tf.Tensor: shape=(200,), dtype=int64, numpy=\n",
       "array([ 94,   7, 259,  46, 114,   1,   0,   0,   0,   0,   0,   0,   0,\n",
       "         0,   0,   0,   0,   0,   0,   0,   0,   0,   0,   0,   0,   0,\n",
       "         0,   0,   0,   0,   0,   0,   0,   0,   0,   0,   0,   0,   0,\n",
       "         0,   0,   0,   0,   0,   0,   0,   0,   0,   0,   0,   0,   0,\n",
       "         0,   0,   0,   0,   0,   0,   0,   0,   0,   0,   0,   0,   0,\n",
       "         0,   0,   0,   0,   0,   0,   0,   0,   0,   0,   0,   0,   0,\n",
       "         0,   0,   0,   0,   0,   0,   0,   0,   0,   0,   0,   0,   0,\n",
       "         0,   0,   0,   0,   0,   0,   0,   0,   0,   0,   0,   0,   0,\n",
       "         0,   0,   0,   0,   0,   0,   0,   0,   0,   0,   0,   0,   0,\n",
       "         0,   0,   0,   0,   0,   0,   0,   0,   0,   0,   0,   0,   0,\n",
       "         0,   0,   0,   0,   0,   0,   0,   0,   0,   0,   0,   0,   0,\n",
       "         0,   0,   0,   0,   0,   0,   0,   0,   0,   0,   0,   0,   0,\n",
       "         0,   0,   0,   0,   0,   0,   0,   0,   0,   0,   0,   0,   0,\n",
       "         0,   0,   0,   0,   0,   0,   0,   0,   0,   0,   0,   0,   0,\n",
       "         0,   0,   0,   0,   0,   0,   0,   0,   0,   0,   0,   0,   0,\n",
       "         0,   0,   0,   0,   0])>"
      ]
     },
     "execution_count": 22,
     "metadata": {},
     "output_type": "execute_result"
    }
   ],
   "source": [
    "test_sentence = 'yes i thought so thanks aaa'\n",
    "vectorizer(test_sentence)"
   ]
  },
  {
   "cell_type": "markdown",
   "metadata": {
    "id": "tOyrlmBIee0P"
   },
   "source": [
    "### Create Embedding Matrix"
   ]
  },
  {
   "cell_type": "code",
   "execution_count": null,
   "metadata": {
    "colab": {
     "base_uri": "https://localhost:8080/"
    },
    "id": "k5Dx1R8yee30",
    "outputId": "49217631-50ec-40e0-d0a7-77b5b406ac5b"
   },
   "outputs": [
    {
     "name": "stdout",
     "output_type": "stream",
     "text": [
      "Converted 2592 words (1110 misses)\n"
     ]
    }
   ],
   "source": [
    "num_tokens = len(voc) + 2\n",
    "embedding_dim = 200\n",
    "hits = 0\n",
    "misses = 0\n",
    "\n",
    "# Prepare embedding matrix\n",
    "embedding_matrix = np.zeros((num_tokens, embedding_dim))\n",
    "for word, i in word_index.items():\n",
    "    embedding_vector = embeddings_index.get(word)\n",
    "    if embedding_vector is not None:\n",
    "        # Words not found in embedding index will be all-zeros.\n",
    "        # This includes the representation for \"padding\" and \"OOV\"\n",
    "        embedding_matrix[i] = embedding_vector\n",
    "        hits += 1\n",
    "    else:\n",
    "        misses += 1\n",
    "print(\"Converted %d words (%d misses)\" % (hits, misses))"
   ]
  },
  {
   "cell_type": "markdown",
   "metadata": {
    "id": "JlFgh8Kdee6U"
   },
   "source": [
    "### Set the Embedding Layer "
   ]
  },
  {
   "cell_type": "code",
   "execution_count": null,
   "metadata": {
    "id": "zoef5sH7fg60"
   },
   "outputs": [],
   "source": [
    "embedding_layer = tf.keras.layers.Embedding(\n",
    "    num_tokens,\n",
    "    embedding_dim,\n",
    "    embeddings_initializer=tf.keras.initializers.Constant(embedding_matrix),\n",
    "    trainable=False,\n",
    ")"
   ]
  },
  {
   "cell_type": "markdown",
   "metadata": {
    "id": "mN7MTsbg2WmL"
   },
   "source": [
    "## Process the Data for Model Training"
   ]
  },
  {
   "cell_type": "code",
   "execution_count": null,
   "metadata": {
    "id": "zRiazvRf1GBG"
   },
   "outputs": [],
   "source": [
    "def transform_text(msg, label):\n",
    "    return (vectorizer(msg), label)\n",
    "\n",
    "processed_train_dataset = train_dataset.unbatch().map(transform_text).padded_batch(BATCH_SIZE)\n",
    "processed_test_dataset = test_dataset.unbatch().map(transform_text).padded_batch(BATCH_SIZE)"
   ]
  },
  {
   "cell_type": "markdown",
   "metadata": {
    "id": "jb_kCrHq2a2B"
   },
   "source": [
    "## Function to get Snapshot of Data"
   ]
  },
  {
   "cell_type": "code",
   "execution_count": null,
   "metadata": {
    "id": "7VPoGjnpyt-m"
   },
   "outputs": [],
   "source": [
    "def get_sample_data(dataset, samples_to_view = 10):\n",
    "    for sample in dataset.unbatch():\n",
    "        if samples_to_view == 0: return\n",
    "        print(sample)\n",
    "        samples_to_view -= 1"
   ]
  },
  {
   "cell_type": "markdown",
   "metadata": {
    "id": "Nl08RufG13g2"
   },
   "source": [
    "## Unprocessed Training Dataset"
   ]
  },
  {
   "cell_type": "code",
   "execution_count": null,
   "metadata": {
    "colab": {
     "base_uri": "https://localhost:8080/"
    },
    "id": "GrsBnKtgzWRh",
    "outputId": "e37a1144-6e9a-41cc-f719-ff9bf395b846"
   },
   "outputs": [
    {
     "name": "stdout",
     "output_type": "stream",
     "text": [
      "(<tf.Tensor: shape=(), dtype=string, numpy=b\"Aah! A cuddle would be lush! I'd need lots of tea and soup before any kind of fumbling!\">, <tf.Tensor: shape=(), dtype=int64, numpy=0>)\n",
      "(<tf.Tensor: shape=(), dtype=string, numpy=b'Thanks for your ringtone order, reference number X49.Your mobile will be charged 4.50. Should your tone not arrive please call customer services 09065989182'>, <tf.Tensor: shape=(), dtype=int64, numpy=1>)\n",
      "(<tf.Tensor: shape=(), dtype=string, numpy=b'Is that on the telly? No its Brdget Jones!'>, <tf.Tensor: shape=(), dtype=int64, numpy=0>)\n",
      "(<tf.Tensor: shape=(), dtype=string, numpy=b'All done? All handed in? Celebrations in full swing yet?'>, <tf.Tensor: shape=(), dtype=int64, numpy=0>)\n",
      "(<tf.Tensor: shape=(), dtype=string, numpy=b'R u in this continent?'>, <tf.Tensor: shape=(), dtype=int64, numpy=0>)\n",
      "(<tf.Tensor: shape=(), dtype=string, numpy=b'Hey! Congrats 2u2. id luv 2 but ive had 2 go home!'>, <tf.Tensor: shape=(), dtype=int64, numpy=0>)\n",
      "(<tf.Tensor: shape=(), dtype=string, numpy=b'You have WON a guaranteed \\xc2\\xa31000 cash or a \\xc2\\xa32000 prize. To claim yr prize call our customer service representative on 08714712412 between 10am-7pm Cost 10p'>, <tf.Tensor: shape=(), dtype=int64, numpy=1>)\n",
      "(<tf.Tensor: shape=(), dtype=string, numpy=b'U are subscribed to the best Mobile Content Service in the UK for \\xc2\\xa33 per 10 days until you send STOP to 82324. Helpline 08706091795'>, <tf.Tensor: shape=(), dtype=int64, numpy=1>)\n",
      "(<tf.Tensor: shape=(), dtype=string, numpy=b'You are guaranteed the latest Nokia Phone, a 40GB iPod MP3 player or a \\xc2\\xa3500 prize! Txt word: COLLECT to No: 83355! IBHltd LdnW15H 150p/Mtmsgrcvd18'>, <tf.Tensor: shape=(), dtype=int64, numpy=1>)\n",
      "(<tf.Tensor: shape=(), dtype=string, numpy=b'Your B4U voucher w/c 27/03 is MARSMS. Log onto www.B4Utele.com for discount credit. To opt out reply stop. Customer care call 08717168528'>, <tf.Tensor: shape=(), dtype=int64, numpy=1>)\n"
     ]
    }
   ],
   "source": [
    "get_sample_data(train_dataset)"
   ]
  },
  {
   "cell_type": "markdown",
   "metadata": {
    "id": "EW87Fs8E17WZ"
   },
   "source": [
    "## Unprocessed Test Dataset"
   ]
  },
  {
   "cell_type": "code",
   "execution_count": null,
   "metadata": {
    "colab": {
     "base_uri": "https://localhost:8080/"
    },
    "id": "6SqtWVwtzWaG",
    "outputId": "021482fc-6a65-42d7-f96d-2bca18ad37dd"
   },
   "outputs": [
    {
     "name": "stdout",
     "output_type": "stream",
     "text": [
      "(<tf.Tensor: shape=(), dtype=string, numpy=b'Your credits have been topped up for http://www.bubbletext.com Your renewal Pin is tgxxrz'>, <tf.Tensor: shape=(), dtype=int64, numpy=1>)\n",
      "(<tf.Tensor: shape=(), dtype=string, numpy=b\"You will be receiving this week's Triple Echo ringtone shortly. Enjoy it!\">, <tf.Tensor: shape=(), dtype=int64, numpy=1>)\n",
      "(<tf.Tensor: shape=(), dtype=string, numpy=b\"Well I'm going to be an aunty!\">, <tf.Tensor: shape=(), dtype=int64, numpy=0>)\n",
      "(<tf.Tensor: shape=(), dtype=string, numpy=b'U have a secret admirer who is looking 2 make contact with U-find out who they R*reveal who thinks UR so special-call on 09058094565'>, <tf.Tensor: shape=(), dtype=int64, numpy=1>)\n",
      "(<tf.Tensor: shape=(), dtype=string, numpy=b'Hello. We need some posh birds and chaps to user trial prods for champneys. Can i put you down? I need your address and dob asap. Ta r'>, <tf.Tensor: shape=(), dtype=int64, numpy=1>)\n",
      "(<tf.Tensor: shape=(), dtype=string, numpy=b'Hiya, probably coming home * weekend after next'>, <tf.Tensor: shape=(), dtype=int64, numpy=0>)\n",
      "(<tf.Tensor: shape=(), dtype=string, numpy=b'Thanks. It was only from tescos but quite nice. All gone now. Speak soon '>, <tf.Tensor: shape=(), dtype=int64, numpy=0>)\n",
      "(<tf.Tensor: shape=(), dtype=string, numpy=b'Oh and by the way you do have more food in your fridge! Want to go out for a meal tonight? '>, <tf.Tensor: shape=(), dtype=int64, numpy=0>)\n",
      "(<tf.Tensor: shape=(), dtype=string, numpy=b'Free Top ringtone -sub to weekly ringtone-get 1st week free-send SUBPOLY to 81618-?3 per week-stop sms-08718727870'>, <tf.Tensor: shape=(), dtype=int64, numpy=1>)\n",
      "(<tf.Tensor: shape=(), dtype=string, numpy=b'Hello. Sort of out in town already. That . So dont rush home, I am eating nachos. Will let you know eta.'>, <tf.Tensor: shape=(), dtype=int64, numpy=0>)\n"
     ]
    }
   ],
   "source": [
    "get_sample_data(test_dataset)"
   ]
  },
  {
   "cell_type": "markdown",
   "metadata": {
    "id": "imvCWs742Biw"
   },
   "source": [
    "## Processed Training Dataset"
   ]
  },
  {
   "cell_type": "code",
   "execution_count": null,
   "metadata": {
    "colab": {
     "base_uri": "https://localhost:8080/"
    },
    "id": "HvgPG6tZ2HwM",
    "outputId": "d02254dd-a208-43e3-ed48-19cff52e763d"
   },
   "outputs": [
    {
     "name": "stdout",
     "output_type": "stream",
     "text": [
      "(<tf.Tensor: shape=(200,), dtype=int64, numpy=\n",
      "array([ 894,    3, 2928,  173,   33, 2375,  311,  104,  527,   19,  733,\n",
      "          6, 1837,  271,   83,  350,   19, 2680,    0,    0,    0,    0,\n",
      "          0,    0,    0,    0,    0,    0,    0,    0,    0,    0,    0,\n",
      "          0,    0,    0,    0,    0,    0,    0,    0,    0,    0,    0,\n",
      "          0,    0,    0,    0,    0,    0,    0,    0,    0,    0,    0,\n",
      "          0,    0,    0,    0,    0,    0,    0,    0,    0,    0,    0,\n",
      "          0,    0,    0,    0,    0,    0,    0,    0,    0,    0,    0,\n",
      "          0,    0,    0,    0,    0,    0,    0,    0,    0,    0,    0,\n",
      "          0,    0,    0,    0,    0,    0,    0,    0,    0,    0,    0,\n",
      "          0,    0,    0,    0,    0,    0,    0,    0,    0,    0,    0,\n",
      "          0,    0,    0,    0,    0,    0,    0,    0,    0,    0,    0,\n",
      "          0,    0,    0,    0,    0,    0,    0,    0,    0,    0,    0,\n",
      "          0,    0,    0,    0,    0,    0,    0,    0,    0,    0,    0,\n",
      "          0,    0,    0,    0,    0,    0,    0,    0,    0,    0,    0,\n",
      "          0,    0,    0,    0,    0,    0,    0,    0,    0,    0,    0,\n",
      "          0,    0,    0,    0,    0,    0,    0,    0,    0,    0,    0,\n",
      "          0,    0,    0,    0,    0,    0,    0,    0,    0,    0,    0,\n",
      "          0,    0,    0,    0,    0,    0,    0,    0,    0,    0,    0,\n",
      "          0,    0])>, <tf.Tensor: shape=(), dtype=int64, numpy=0>)\n"
     ]
    }
   ],
   "source": [
    "get_sample_data(processed_train_dataset, samples_to_view=1)"
   ]
  },
  {
   "cell_type": "markdown",
   "metadata": {
    "id": "fCar-3su2B3Z"
   },
   "source": [
    "## Processed Test Dataset"
   ]
  },
  {
   "cell_type": "code",
   "execution_count": null,
   "metadata": {
    "colab": {
     "base_uri": "https://localhost:8080/"
    },
    "id": "ipj5NJ7M2QCj",
    "outputId": "cc9cf485-f487-48d2-f3e1-536daa1a679c"
   },
   "outputs": [
    {
     "name": "stdout",
     "output_type": "stream",
     "text": [
      "(<tf.Tensor: shape=(200,), dtype=int64, numpy=\n",
      "array([  11,  556,   13,   59, 1681,   47,    8, 2549,   11, 2015, 2149,\n",
      "         12, 1722,    0,    0,    0,    0,    0,    0,    0,    0,    0,\n",
      "          0,    0,    0,    0,    0,    0,    0,    0,    0,    0,    0,\n",
      "          0,    0,    0,    0,    0,    0,    0,    0,    0,    0,    0,\n",
      "          0,    0,    0,    0,    0,    0,    0,    0,    0,    0,    0,\n",
      "          0,    0,    0,    0,    0,    0,    0,    0,    0,    0,    0,\n",
      "          0,    0,    0,    0,    0,    0,    0,    0,    0,    0,    0,\n",
      "          0,    0,    0,    0,    0,    0,    0,    0,    0,    0,    0,\n",
      "          0,    0,    0,    0,    0,    0,    0,    0,    0,    0,    0,\n",
      "          0,    0,    0,    0,    0,    0,    0,    0,    0,    0,    0,\n",
      "          0,    0,    0,    0,    0,    0,    0,    0,    0,    0,    0,\n",
      "          0,    0,    0,    0,    0,    0,    0,    0,    0,    0,    0,\n",
      "          0,    0,    0,    0,    0,    0,    0,    0,    0,    0,    0,\n",
      "          0,    0,    0,    0,    0,    0,    0,    0,    0,    0,    0,\n",
      "          0,    0,    0,    0,    0,    0,    0,    0,    0,    0,    0,\n",
      "          0,    0,    0,    0,    0,    0,    0,    0,    0,    0,    0,\n",
      "          0,    0,    0,    0,    0,    0,    0,    0,    0,    0,    0,\n",
      "          0,    0,    0,    0,    0,    0,    0,    0,    0,    0,    0,\n",
      "          0,    0])>, <tf.Tensor: shape=(), dtype=int64, numpy=1>)\n"
     ]
    }
   ],
   "source": [
    "get_sample_data(processed_test_dataset, samples_to_view=1)"
   ]
  },
  {
   "cell_type": "code",
   "execution_count": null,
   "metadata": {
    "colab": {
     "base_uri": "https://localhost:8080/"
    },
    "id": "ylpZfhx73NPU",
    "outputId": "dfff0719-c0ad-4b09-e7cb-0f25216b933c"
   },
   "outputs": [
    {
     "name": "stdout",
     "output_type": "stream",
     "text": [
      "tf.Tensor(\n",
      "[[ 894    3 2928 ...    0    0    0]\n",
      " [ 114    8   11 ...    0    0    0]\n",
      " [  12   22   16 ...    0    0    0]\n",
      " ...\n",
      " [ 168  868 3451 ...    0    0    0]\n",
      " [   4   13  113 ...    0    0    0]\n",
      " [   9   42  739 ...    0    0    0]], shape=(8, 200), dtype=int64) tf.Tensor([0 1 0 0 0 0 1 1], shape=(8,), dtype=int64)\n"
     ]
    }
   ],
   "source": [
    "for msg, label in processed_train_dataset.take(1):\n",
    "    print(msg, label)"
   ]
  },
  {
   "cell_type": "code",
   "execution_count": null,
   "metadata": {
    "colab": {
     "base_uri": "https://localhost:8080/"
    },
    "id": "QwpIuQh03ZL4",
    "outputId": "430fc008-1bcb-49fb-a1ab-19a8b8eb7f91"
   },
   "outputs": [
    {
     "name": "stdout",
     "output_type": "stream",
     "text": [
      "tf.Tensor(\n",
      "[[ 11 556  13 ...   0   0   0]\n",
      " [  4  37  33 ...   0   0   0]\n",
      " [ 82  53  97 ...   0   0   0]\n",
      " ...\n",
      " [402 767 357 ...   0   0   0]\n",
      " [114  24  76 ...   0   0   0]\n",
      " [265   6  54 ...   0   0   0]], shape=(8, 200), dtype=int64) tf.Tensor([1 1 0 1 1 0 0 0], shape=(8,), dtype=int64)\n"
     ]
    }
   ],
   "source": [
    "for msg, label in processed_test_dataset.take(1):\n",
    "    print(msg, label)"
   ]
  },
  {
   "cell_type": "code",
   "execution_count": null,
   "metadata": {
    "colab": {
     "base_uri": "https://localhost:8080/"
    },
    "id": "UnxOg2afUulI",
    "outputId": "77af2ae0-c9c4-4334-f6aa-b56dd5d42f3e"
   },
   "outputs": [
    {
     "data": {
      "text/plain": [
       "<tf.Tensor: shape=(3, 200), dtype=int64, numpy=\n",
       "array([[312,   1,   0,   0,   0,   0,   0,   0,   0,   0,   0,   0,   0,\n",
       "          0,   0,   0,   0,   0,   0,   0,   0,   0,   0,   0,   0,   0,\n",
       "          0,   0,   0,   0,   0,   0,   0,   0,   0,   0,   0,   0,   0,\n",
       "          0,   0,   0,   0,   0,   0,   0,   0,   0,   0,   0,   0,   0,\n",
       "          0,   0,   0,   0,   0,   0,   0,   0,   0,   0,   0,   0,   0,\n",
       "          0,   0,   0,   0,   0,   0,   0,   0,   0,   0,   0,   0,   0,\n",
       "          0,   0,   0,   0,   0,   0,   0,   0,   0,   0,   0,   0,   0,\n",
       "          0,   0,   0,   0,   0,   0,   0,   0,   0,   0,   0,   0,   0,\n",
       "          0,   0,   0,   0,   0,   0,   0,   0,   0,   0,   0,   0,   0,\n",
       "          0,   0,   0,   0,   0,   0,   0,   0,   0,   0,   0,   0,   0,\n",
       "          0,   0,   0,   0,   0,   0,   0,   0,   0,   0,   0,   0,   0,\n",
       "          0,   0,   0,   0,   0,   0,   0,   0,   0,   0,   0,   0,   0,\n",
       "          0,   0,   0,   0,   0,   0,   0,   0,   0,   0,   0,   0,   0,\n",
       "          0,   0,   0,   0,   0,   0,   0,   0,   0,   0,   0,   0,   0,\n",
       "          0,   0,   0,   0,   0,   0,   0,   0,   0,   0,   0,   0,   0,\n",
       "          0,   0,   0,   0,   0],\n",
       "       [  1,   0,   0,   0,   0,   0,   0,   0,   0,   0,   0,   0,   0,\n",
       "          0,   0,   0,   0,   0,   0,   0,   0,   0,   0,   0,   0,   0,\n",
       "          0,   0,   0,   0,   0,   0,   0,   0,   0,   0,   0,   0,   0,\n",
       "          0,   0,   0,   0,   0,   0,   0,   0,   0,   0,   0,   0,   0,\n",
       "          0,   0,   0,   0,   0,   0,   0,   0,   0,   0,   0,   0,   0,\n",
       "          0,   0,   0,   0,   0,   0,   0,   0,   0,   0,   0,   0,   0,\n",
       "          0,   0,   0,   0,   0,   0,   0,   0,   0,   0,   0,   0,   0,\n",
       "          0,   0,   0,   0,   0,   0,   0,   0,   0,   0,   0,   0,   0,\n",
       "          0,   0,   0,   0,   0,   0,   0,   0,   0,   0,   0,   0,   0,\n",
       "          0,   0,   0,   0,   0,   0,   0,   0,   0,   0,   0,   0,   0,\n",
       "          0,   0,   0,   0,   0,   0,   0,   0,   0,   0,   0,   0,   0,\n",
       "          0,   0,   0,   0,   0,   0,   0,   0,   0,   0,   0,   0,   0,\n",
       "          0,   0,   0,   0,   0,   0,   0,   0,   0,   0,   0,   0,   0,\n",
       "          0,   0,   0,   0,   0,   0,   0,   0,   0,   0,   0,   0,   0,\n",
       "          0,   0,   0,   0,   0,   0,   0,   0,   0,   0,   0,   0,   0,\n",
       "          0,   0,   0,   0,   0],\n",
       "       [  1,   0,   0,   0,   0,   0,   0,   0,   0,   0,   0,   0,   0,\n",
       "          0,   0,   0,   0,   0,   0,   0,   0,   0,   0,   0,   0,   0,\n",
       "          0,   0,   0,   0,   0,   0,   0,   0,   0,   0,   0,   0,   0,\n",
       "          0,   0,   0,   0,   0,   0,   0,   0,   0,   0,   0,   0,   0,\n",
       "          0,   0,   0,   0,   0,   0,   0,   0,   0,   0,   0,   0,   0,\n",
       "          0,   0,   0,   0,   0,   0,   0,   0,   0,   0,   0,   0,   0,\n",
       "          0,   0,   0,   0,   0,   0,   0,   0,   0,   0,   0,   0,   0,\n",
       "          0,   0,   0,   0,   0,   0,   0,   0,   0,   0,   0,   0,   0,\n",
       "          0,   0,   0,   0,   0,   0,   0,   0,   0,   0,   0,   0,   0,\n",
       "          0,   0,   0,   0,   0,   0,   0,   0,   0,   0,   0,   0,   0,\n",
       "          0,   0,   0,   0,   0,   0,   0,   0,   0,   0,   0,   0,   0,\n",
       "          0,   0,   0,   0,   0,   0,   0,   0,   0,   0,   0,   0,   0,\n",
       "          0,   0,   0,   0,   0,   0,   0,   0,   0,   0,   0,   0,   0,\n",
       "          0,   0,   0,   0,   0,   0,   0,   0,   0,   0,   0,   0,   0,\n",
       "          0,   0,   0,   0,   0,   0,   0,   0,   0,   0,   0,   0,   0,\n",
       "          0,   0,   0,   0,   0]])>"
      ]
     },
     "execution_count": 52,
     "metadata": {},
     "output_type": "execute_result"
    }
   ],
   "source": [
    "different_size_data = [\n",
    "    'First Sentence',\n",
    "    'ssssssssssssssssssssssssssssssssssssssssssssssss',\n",
    "    'Jiten'\n",
    "]\n",
    "\n",
    "vectorized_different_size_data = vectorizer(different_size_data)\n",
    "\n",
    "vectorized_different_size_data"
   ]
  },
  {
   "cell_type": "code",
   "execution_count": null,
   "metadata": {
    "colab": {
     "base_uri": "https://localhost:8080/"
    },
    "id": "h8hfkSvaOcTE",
    "outputId": "9a1f039f-98f7-47c3-e3fd-fa92e722559e"
   },
   "outputs": [
    {
     "data": {
      "text/plain": [
       "<tf.Tensor: shape=(3, 200, 200), dtype=float32, numpy=\n",
       "array([[[-0.14931 ,  0.39057 , -0.44791 , ...,  0.074758,  0.23269 ,\n",
       "         -0.026688],\n",
       "        [ 0.      ,  0.      ,  0.      , ...,  0.      ,  0.      ,\n",
       "          0.      ],\n",
       "        [ 0.      ,  0.      ,  0.      , ...,  0.      ,  0.      ,\n",
       "          0.      ],\n",
       "        ...,\n",
       "        [ 0.      ,  0.      ,  0.      , ...,  0.      ,  0.      ,\n",
       "          0.      ],\n",
       "        [ 0.      ,  0.      ,  0.      , ...,  0.      ,  0.      ,\n",
       "          0.      ],\n",
       "        [ 0.      ,  0.      ,  0.      , ...,  0.      ,  0.      ,\n",
       "          0.      ]],\n",
       "\n",
       "       [[ 0.      ,  0.      ,  0.      , ...,  0.      ,  0.      ,\n",
       "          0.      ],\n",
       "        [ 0.      ,  0.      ,  0.      , ...,  0.      ,  0.      ,\n",
       "          0.      ],\n",
       "        [ 0.      ,  0.      ,  0.      , ...,  0.      ,  0.      ,\n",
       "          0.      ],\n",
       "        ...,\n",
       "        [ 0.      ,  0.      ,  0.      , ...,  0.      ,  0.      ,\n",
       "          0.      ],\n",
       "        [ 0.      ,  0.      ,  0.      , ...,  0.      ,  0.      ,\n",
       "          0.      ],\n",
       "        [ 0.      ,  0.      ,  0.      , ...,  0.      ,  0.      ,\n",
       "          0.      ]],\n",
       "\n",
       "       [[ 0.      ,  0.      ,  0.      , ...,  0.      ,  0.      ,\n",
       "          0.      ],\n",
       "        [ 0.      ,  0.      ,  0.      , ...,  0.      ,  0.      ,\n",
       "          0.      ],\n",
       "        [ 0.      ,  0.      ,  0.      , ...,  0.      ,  0.      ,\n",
       "          0.      ],\n",
       "        ...,\n",
       "        [ 0.      ,  0.      ,  0.      , ...,  0.      ,  0.      ,\n",
       "          0.      ],\n",
       "        [ 0.      ,  0.      ,  0.      , ...,  0.      ,  0.      ,\n",
       "          0.      ],\n",
       "        [ 0.      ,  0.      ,  0.      , ...,  0.      ,  0.      ,\n",
       "          0.      ]]], dtype=float32)>"
      ]
     },
     "execution_count": 53,
     "metadata": {},
     "output_type": "execute_result"
    }
   ],
   "source": [
    "embedding_layer(vectorized_different_size_data)"
   ]
  },
  {
   "cell_type": "markdown",
   "metadata": {
    "id": "HOr8kxBy4Sp6"
   },
   "source": [
    "## Create the Model"
   ]
  },
  {
   "cell_type": "code",
   "execution_count": null,
   "metadata": {
    "id": "Fyns6Qfv4awT"
   },
   "outputs": [],
   "source": [
    "def create_model():\n",
    "    int_sequences_input = tf.keras.Input(shape=(None, ))\n",
    "    embedded_sequences = embedding_layer(int_sequences_input)\n",
    "    x = tf.keras.layers.GlobalMaxPooling1D()(embedded_sequences)\n",
    "    x = tf.keras.layers.Dense(128, activation=\"relu\")(x)\n",
    "    x = tf.keras.layers.Dropout(0.5)(x)\n",
    "    preds = tf.keras.layers.Dense(1, activation=\"sigmoid\")(x)\n",
    "    model = tf.keras.Model(int_sequences_input, preds)\n",
    "    return model"
   ]
  },
  {
   "cell_type": "code",
   "execution_count": null,
   "metadata": {
    "colab": {
     "base_uri": "https://localhost:8080/"
    },
    "id": "jhNvnblM4OOY",
    "outputId": "e8bec148-2e58-47c3-888b-a8a21394c13a"
   },
   "outputs": [
    {
     "name": "stdout",
     "output_type": "stream",
     "text": [
      "Model: \"model_1\"\n",
      "_________________________________________________________________\n",
      " Layer (type)                Output Shape              Param #   \n",
      "=================================================================\n",
      " input_2 (InputLayer)        [(None, None)]            0         \n",
      "                                                                 \n",
      " embedding (Embedding)       (None, None, 200)         740800    \n",
      "                                                                 \n",
      " global_max_pooling1d_1 (Glo  (None, 200)              0         \n",
      " balMaxPooling1D)                                                \n",
      "                                                                 \n",
      " dense_2 (Dense)             (None, 128)               25728     \n",
      "                                                                 \n",
      " dropout_1 (Dropout)         (None, 128)               0         \n",
      "                                                                 \n",
      " dense_3 (Dense)             (None, 1)                 129       \n",
      "                                                                 \n",
      "=================================================================\n",
      "Total params: 766,657\n",
      "Trainable params: 25,857\n",
      "Non-trainable params: 740,800\n",
      "_________________________________________________________________\n"
     ]
    }
   ],
   "source": [
    "model = create_model()\n",
    "model.summary()"
   ]
  },
  {
   "cell_type": "code",
   "execution_count": null,
   "metadata": {
    "colab": {
     "base_uri": "https://localhost:8080/"
    },
    "id": "WtEtbnduyngW",
    "outputId": "181aeab5-270f-4b08-acd5-eecfe2748352"
   },
   "outputs": [
    {
     "name": "stdout",
     "output_type": "stream",
     "text": [
      "Epoch 1/10\n",
      "89/89 [==============================] - 1s 8ms/step - loss: 0.6118 - accuracy: 0.6450 - val_loss: 0.5977 - val_accuracy: 0.6071\n",
      "Epoch 2/10\n",
      "89/89 [==============================] - 1s 6ms/step - loss: 0.5117 - accuracy: 0.7426 - val_loss: 0.5325 - val_accuracy: 0.6845\n",
      "Epoch 3/10\n",
      "89/89 [==============================] - 1s 6ms/step - loss: 0.3954 - accuracy: 0.8388 - val_loss: 0.4177 - val_accuracy: 0.8214\n",
      "Epoch 4/10\n",
      "89/89 [==============================] - 1s 6ms/step - loss: 0.3365 - accuracy: 0.8628 - val_loss: 0.4188 - val_accuracy: 0.8155\n",
      "Epoch 5/10\n",
      "89/89 [==============================] - 1s 6ms/step - loss: 0.3283 - accuracy: 0.8571 - val_loss: 0.3695 - val_accuracy: 0.8452\n",
      "Epoch 6/10\n",
      "89/89 [==============================] - 1s 6ms/step - loss: 0.3063 - accuracy: 0.8713 - val_loss: 0.3024 - val_accuracy: 0.8929\n",
      "Epoch 7/10\n",
      "89/89 [==============================] - 1s 6ms/step - loss: 0.2714 - accuracy: 0.8911 - val_loss: 0.2689 - val_accuracy: 0.9048\n",
      "Epoch 8/10\n",
      "89/89 [==============================] - 1s 6ms/step - loss: 0.2683 - accuracy: 0.9038 - val_loss: 0.2762 - val_accuracy: 0.8988\n",
      "Epoch 9/10\n",
      "89/89 [==============================] - 1s 6ms/step - loss: 0.2499 - accuracy: 0.8939 - val_loss: 0.2844 - val_accuracy: 0.8988\n",
      "Epoch 10/10\n",
      "89/89 [==============================] - 1s 6ms/step - loss: 0.2447 - accuracy: 0.9137 - val_loss: 0.2576 - val_accuracy: 0.8988\n"
     ]
    },
    {
     "data": {
      "text/plain": [
       "<keras.callbacks.History at 0x7fac15a16450>"
      ]
     },
     "execution_count": 56,
     "metadata": {},
     "output_type": "execute_result"
    }
   ],
   "source": [
    "model.compile(\n",
    "    loss=\"binary_crossentropy\", optimizer=\"Adam\", metrics=[\"accuracy\"]\n",
    ")\n",
    "\n",
    "model.fit(processed_train_dataset, epochs=10, \n",
    "          validation_data=processed_test_dataset, batch_size=BATCH_SIZE)"
   ]
  }
 ],
 "metadata": {
  "colab": {
   "collapsed_sections": [],
   "name": "SMS SPAM Federated Learning.ipynb",
   "provenance": []
  },
  "kernelspec": {
   "display_name": "Python 3 (ipykernel)",
   "language": "python",
   "name": "python3"
  },
  "language_info": {
   "codemirror_mode": {
    "name": "ipython",
    "version": 3
   },
   "file_extension": ".py",
   "mimetype": "text/x-python",
   "name": "python",
   "nbconvert_exporter": "python",
   "pygments_lexer": "ipython3",
   "version": "3.9.7"
  }
 },
 "nbformat": 4,
 "nbformat_minor": 1
}
